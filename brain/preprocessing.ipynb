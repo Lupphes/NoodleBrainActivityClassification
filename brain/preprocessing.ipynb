{
 "cells": [
  {
   "cell_type": "markdown",
   "metadata": {},
   "source": [
    "# Brain Solver Python Processing Notebook\n",
    "\n",
    "This notebook utilizes the custom `brain_solver` package for analyzing brain activity data. Our data sources include official datasets from Kaggle competitions and additional datasets for enhanced model training and evaluation.\n",
    "\n",
    "This is the Training notebook.\n",
    "\n",
    "## Data Sources\n",
    "\n",
    "### Official:\n",
    "\n",
    "- **HMS - Harmful Brain Activity Classification**\n",
    "  - **Source:** [Kaggle Competition](https://www.kaggle.com/competitions/hms-harmful-brain-activity-classification)\n",
    "  - **Description:** This competition focuses on classifying harmful brain activity. It includes a comprehensive dataset for training and testing models.\n",
    "\n",
    "- **Brain-Spectrograms**\n",
    "  - **Source:** [Kaggle Dataset](https://www.kaggle.com/datasets/cdeotte/brain-spectrograms)\n",
    "  - **Description:** The `specs.npy` file contains all the spectrograms from the HMS competition, offering a detailed view of brain activity through visual representations.\n",
    "\n",
    "### Additional:\n",
    "\n",
    "- **Brain-EEG-Spectrograms**\n",
    "  - **Source:** [Kaggle Dataset](https://www.kaggle.com/datasets/cdeotte/brain-eeg-spectrograms)\n",
    "  - **Description:** The `EEG_Spectrograms` folder includes one NumPy file per EEG ID, with each array shaped as (128x256x4), representing (frequency, time, montage chain). This dataset provides a more nuanced understanding of brain activity through EEG spectrograms.\n",
    "\n",
    "- **hms_efficientnetb0_pt_ckpts**\n",
    "  - **Source:** [Kaggle Dataset](https://www.kaggle.com/datasets/crackle/hms-efficientnetb0-pt-ckpts)\n",
    "  - **Description:** This dataset offers pre-trained checkpoints for EfficientNetB0 models, tailored for the HMS competition. It's intended for use in fine-tuning models on the specific task of harmful brain activity classification.\n"
   ]
  },
  {
   "cell_type": "code",
   "execution_count": null,
   "metadata": {},
   "outputs": [],
   "source": [
    "import os, sys\n",
    "import gc\n",
    "import numpy as np\n",
    "import pandas as pd\n",
    "import torch\n",
    "from torch.utils.data import DataLoader\n",
    "import pytorch_lightning as pl\n",
    "from brain_solver import Helpers as hp, Trainer as tr, BrainModel as br, EEGDataset\n",
    "from brain_solver import Wav2Vec2 as w2v\n",
    "from brain_solver import Filters, FilterType\n",
    "from transformers.utils import logging\n",
    "from tqdm import tqdm\n",
    "\n",
    "# Suppress warnings if desired\n",
    "import warnings\n",
    "\n",
    "warnings.filterwarnings(\"ignore\")\n",
    "logging.set_verbosity(logging.CRITICAL)\n",
    "\n",
    "# Setup for CUDA device selection\n",
    "os.environ[\"CUDA_VISIBLE_DEVICES\"] = \"0,1\"\n",
    "device = torch.device(\"cuda\" if torch.cuda.is_available() else \"cpu\")\n",
    "device"
   ]
  },
  {
   "cell_type": "code",
   "execution_count": null,
   "metadata": {},
   "outputs": [],
   "source": [
    "from brain_solver import Config\n",
    "full_path = \"/home/osloup/NoodleNappers/brain/data/\" # Luppo\n",
    "# full_path = \"C:/Users/tygof/Documents/Semester 8/MLiP/NoodleNappers/brain/data/\" # Tygo\n",
    "# full_path = \"C:/Users/dahbl/Documents/TrueDocs/Uni/Year 4/Semester 2/Machine Learning in Practice/brain/brain/data/\" # Dick\n",
    "config = Config(full_path,  full_path + \"out/\", USE_EEG_SPECTROGRAMS=True, USE_KAGGLE_SPECTROGRAMS=True, should_read_brain_spectograms=False, should_read_eeg_spectrogram_files=False, USE_PRETRAINED_MODEL=False)\n",
    "\n",
    "# Kaggle Pull\n",
    "# full_path = \"/kaggle/input/\"\n",
    "# config = Config(full_path, \"/kaggle/working/\", USE_EEG_SPECTROGRAMS=True, USE_KAGGLE_SPECTROGRAMS=True, should_read_brain_spectograms=False, should_read_eeg_spectrogram_files=False, USE_PRETRAINED_MODEL=False)\n",
    "\n",
    "import sys\n",
    "sys.path.append(full_path + 'kaggle-kl-div')\n",
    "# from kaggle_kl_div import score"
   ]
  },
  {
   "cell_type": "code",
   "execution_count": null,
   "metadata": {},
   "outputs": [],
   "source": [
    "# Create Output folder if does not exist\n",
    "if not os.path.exists(config.output_path):\n",
    "    os.makedirs(config.output_path)\n",
    "\n",
    "# Initialize random environment\n",
    "pl.seed_everything(config.seed, workers=True)\n",
    "\n",
    "print(config.data_train_csv)"
   ]
  },
  {
   "cell_type": "code",
   "execution_count": null,
   "metadata": {},
   "outputs": [],
   "source": [
    "train_df: pd.DataFrame = hp.load_csv(config.data_train_csv)\n",
    "\n",
    "if train_df is None:\n",
    "    print(\"Failed to load the CSV file.\")\n",
    "    exit()\n",
    "else:\n",
    "    EEG_IDS = train_df.eeg_id.unique()\n",
    "    TARGETS = train_df.columns[-6:]\n",
    "    TARS = {\"Seizure\": 0, \"LPD\": 1, \"GPD\": 2, \"LRDA\": 3, \"GRDA\": 4, \"Other\": 5}\n",
    "    TARS_INV = {x: y for y, x in TARS.items()}\n",
    "    print(\"Train shape:\", train_df.shape)"
   ]
  },
  {
   "cell_type": "code",
   "execution_count": null,
   "metadata": {},
   "outputs": [],
   "source": [
    "train_data_preprocessed = hp.preprocess_eeg_data(train_df, TARGETS)"
   ]
  },
  {
   "cell_type": "code",
   "execution_count": null,
   "metadata": {},
   "outputs": [],
   "source": [
    "train_data_preprocessed.head()"
   ]
  },
  {
   "cell_type": "code",
   "execution_count": null,
   "metadata": {},
   "outputs": [],
   "source": [
    "# Initialize the Filters class\n",
    "# ft = Filters(order=5)\n",
    "\n",
    "# train_eegs/ EEG data from one or more overlapping samples. Use the metadata in train.csv to select specific annotated subsets. The column names are the names of the individual electrode locations for EEG leads, with one exception. The EKG column is for an electrocardiogram lead that records data from the heart. All of the EEG data (for both train and test) was collected at a frequency of 200 samples per second.\n",
    "\n",
    "# Define filter parameters\n",
    "# cutoff_low = 0.1  # Low cutoff frequency (Hz)\n",
    "# cutoff_high = 50.0  # High cutoff frequency (Hz)\n",
    "# fs = 200  # Sampling rate (Hz)\n",
    "\n",
    "# filtered_brain_spectrograms = {key: ft.apply_filter_to_spectrogram(spectrogram, [cutoff_low, cutoff_high], fs, FilterType.BANDPASS) for key, spectrogram in spectrograms.items()}\n",
    "# filtered_eeg_spectrograms = {key: ft.apply_filter_to_spectrogram(spectrogram, [cutoff_low, cutoff_high], fs, FilterType.BANDPASS) for key, spectrogram in data_eeg_spectrograms.items()}\n",
    "\n",
    "# combined_brain_spectrograms = {key: {'raw': spectrograms[key], 'filtered': filtered_brain_spectrograms[key]} for key in spectrograms}\n",
    "# combined_eeg_spectrograms = {key: {'raw': data_eeg_spectrograms[key], 'filtered': filtered_eeg_spectrograms[key]} for key in data_eeg_spectrograms}"
   ]
  },
  {
   "cell_type": "code",
   "execution_count": null,
   "metadata": {},
   "outputs": [],
   "source": [
    "read_path = config.data_spectograms\n",
    "\n",
    "files = os.listdir(read_path)\n",
    "print(f\"There are {len(files)} spectrogram parquets\")"
   ]
  },
  {
   "cell_type": "code",
   "execution_count": null,
   "metadata": {},
   "outputs": [],
   "source": [
    "# Create Output folder for wav2vec if does not exist\n",
    "if not os.path.exists(config.data_w2v_specs):\n",
    "    os.makedirs(config.data_w2v_specs)"
   ]
  },
  {
   "cell_type": "code",
   "execution_count": null,
   "metadata": {},
   "outputs": [],
   "source": [
    "force_regenerate = False"
   ]
  },
  {
   "cell_type": "code",
   "execution_count": null,
   "metadata": {},
   "outputs": [],
   "source": [
    "# Initialize the Filters class\n",
    "ft = Filters(order=5)\n",
    "\n",
    "# Define filter parameters for each filter type\n",
    "cutoffs = {\n",
    "    FilterType.LOWPASS: 50.0,  # Cutoff frequency for lowpass\n",
    "    FilterType.HIGHPASS: 0.1,  # Cutoff frequency for highpass\n",
    "    FilterType.BANDPASS: [0.1, 50.0],  # Low and high cutoff frequencies for bandpass\n",
    "    FilterType.BANDSTOP: [45.0, 55.0],  # Low and high cutoff frequencies for bandstop\n",
    "}\n",
    "fs = 250  # Sampling rate (Hz)"
   ]
  },
  {
   "cell_type": "code",
   "execution_count": null,
   "metadata": {},
   "outputs": [],
   "source": [
    "# for i, f in tqdm(enumerate(files), total=len(files)):\n",
    "#     name = f[:-8]\n",
    "\n",
    "#     # First, handle the wav2vec-only processing\n",
    "#     # Define a directory for wav2vec processed data without filtering\n",
    "#     w2v_only_dir = os.path.join(config.data_w2v_specs, 'wav2vec_only')\n",
    "#     os.makedirs(w2v_only_dir, exist_ok=True)\n",
    "    \n",
    "#     # Define output filename for wav2vec processed data without filtering\n",
    "#     w2v_only_output_filename = os.path.join(w2v_only_dir, f\"{name}.npy\")\n",
    "    \n",
    "#     # Check if wav2vec processed data without filtering needs to be generated\n",
    "#     if not os.path.exists(w2v_only_output_filename) or force_regenerate:\n",
    "#         try:\n",
    "#             # Load the data from the parquet file\n",
    "#             parquet_file = pd.read_parquet(os.path.join(read_path, f))\n",
    "#             data_for_processing = parquet_file.iloc[:, 1:].values\n",
    "#             # Assuming data_for_processing needs to be in a specific format for wav2vec, adjust as necessary\n",
    "            \n",
    "#             # Process with wav2vec and save\n",
    "#             w2v_only_output = w2v.wav2vec2(data_for_processing)\n",
    "#             np.save(w2v_only_output_filename, w2v_only_output)\n",
    "#         except Exception as e:\n",
    "#             print(f\"ERROR: An unexpected error occurred for {name} (wav2vec only): {e}\")\n",
    "\n",
    "#     # Then, continue with the existing loop for filtered data processing\n",
    "#     for filter_type, cutoff in cutoffs.items():\n",
    "#         # Define directories for raw and w2v processed data\n",
    "#         raw_dir = os.path.join(config.data_w2v_specs, filter_type.name, 'raw')\n",
    "#         w2v_dir = os.path.join(config.data_w2v_specs, filter_type.name, 'w2v')\n",
    "        \n",
    "#         # Ensure directories exist\n",
    "#         os.makedirs(raw_dir, exist_ok=True)\n",
    "#         os.makedirs(w2v_dir, exist_ok=True)\n",
    "        \n",
    "#         # Define output filenames for raw and w2v processed data\n",
    "#         raw_output_filename = os.path.join(raw_dir, f\"{name}.npy\")\n",
    "#         w2v_output_filename = os.path.join(w2v_dir, f\"{name}.npy\")\n",
    "        \n",
    "#         try:\n",
    "#             # Check if raw filtered data needs to be processed\n",
    "#             if not os.path.exists(raw_output_filename) or force_regenerate:\n",
    "#                 if 'data_for_processing' not in locals():\n",
    "#                     # Load the data only if it hasn't been loaded already\n",
    "#                     parquet_file = pd.read_parquet(os.path.join(read_path, f))\n",
    "#                     data_for_processing = parquet_file.iloc[:, 1:].values\n",
    "#                 parquet_file_non_nan = np.nan_to_num(data_for_processing, nan=0)\n",
    "                \n",
    "#                 filtered_spectrogram = ft.apply_filter_to_spectrogram(parquet_file_non_nan, cutoff, fs, filter_type)\n",
    "#                 np.save(raw_output_filename, filtered_spectrogram)\n",
    "                \n",
    "#             # Check if w2v processed data needs to be generated\n",
    "#             if not os.path.exists(w2v_output_filename) or force_regenerate:\n",
    "#                 if 'filtered_spectrogram' not in locals():\n",
    "#                     # Load the existing raw filtered data if it wasn't just generated\n",
    "#                     filtered_spectrogram = np.load(raw_output_filename)\n",
    "                \n",
    "#                 w2v_output = w2v.wav2vec2(filtered_spectrogram)\n",
    "#                 np.save(w2v_output_filename, w2v_output)\n",
    "\n",
    "#         except Exception as e:\n",
    "#             print(f\"ERROR: An unexpected error occurred for {name}: {e}\")\n"
   ]
  },
  {
   "cell_type": "code",
   "execution_count": null,
   "metadata": {},
   "outputs": [],
   "source": [
    "read_path_eeg = config.path_to_eeg_spectrograms_folder\n",
    "\n",
    "files_eeg = os.listdir(read_path_eeg)\n",
    "print(f\"There are {len(files_eeg)} EEG spectrogram NPYs\")"
   ]
  },
  {
   "cell_type": "code",
   "execution_count": null,
   "metadata": {},
   "outputs": [],
   "source": [
    "# Create Output folder for wav2vec if does not exist\n",
    "if not os.path.exists(config.data_w2v_specs_eeg):\n",
    "    os.makedirs(config.data_w2v_specs_eeg)"
   ]
  },
  {
   "cell_type": "code",
   "execution_count": null,
   "metadata": {},
   "outputs": [],
   "source": [
    "force_regenerate=False\n",
    "min_length=1600"
   ]
  },
  {
   "cell_type": "code",
   "execution_count": null,
   "metadata": {},
   "outputs": [],
   "source": [
    "# Define a directory for wav2vec processed data without filtering\n",
    "w2v_only_dir = os.path.join(config.data_w2v_specs_eeg, 'wav2vec_only')\n",
    "os.makedirs(w2v_only_dir, exist_ok=True)\n",
    "\n",
    "for eeg_id, spectrogram_path in tqdm(enumerate(files_eeg), total=len(files_eeg)):\n",
    "    name = spectrogram_path[:-8]\n",
    "    \n",
    "    \n",
    "    # Define output filename for wav2vec processed data without filtering\n",
    "    w2v_only_output_filename = os.path.join(w2v_only_dir, f\"{eeg_id}.npy\")\n",
    "    \n",
    "    # Process with wav2vec (no filter)\n",
    "    if force_regenerate or not os.path.exists(w2v_only_output_filename):\n",
    "        # Assuming w2v.wav2vec2 can handle the preprocessed_data directly\n",
    "        # padded_spectrogram = pad_sequence(padded_spectrogram, min_length)\n",
    "        spectrogram = np.load(os.path.join(read_path_eeg, spectrogram_path))\n",
    "        w2v_output = w2v.wav2vec2(spectrogram, proc_eegs=True)\n",
    "        np.save(w2v_only_output_filename, w2v_output)\n",
    "        \n",
    "        load = np.load(w2v_only_output_filename)\n",
    "        print(spectrogram.shape)\n",
    "        print(\"haha\")\n",
    "        print(load.shape)\n",
    "        exit()\n",
    "        \n",
    "    for filter_type in cutoffs:\n",
    "        # Define directories for raw and w2v processed data within each filter type folder\n",
    "        raw_dir = os.path.join(config.data_w2v_specs_eeg, filter_type.name, 'raw')\n",
    "        w2v_dir = os.path.join(config.data_w2v_specs_eeg, filter_type.name, 'w2v')\n",
    "        os.makedirs(raw_dir, exist_ok=True)\n",
    "        os.makedirs(w2v_dir, exist_ok=True)\n",
    "        \n",
    "        # Define output filenames for raw and w2v processed data within their respective directories\n",
    "        raw_output_filename = os.path.join(raw_dir, f\"{eeg_id}.npy\")\n",
    "        w2v_output_filename = os.path.join(w2v_dir, f\"{eeg_id}.npy\")\n",
    "        \n",
    "        if force_regenerate or not os.path.exists(raw_output_filename) or not os.path.exists(w2v_output_filename):\n",
    "            # Apply filter\n",
    "            cutoff = cutoffs[filter_type]\n",
    "            filtered_spectrogram = ft.apply_filter_to_spectrogram(spectrogram, cutoff, fs, filter_type)\n",
    "            \n",
    "            # Save raw filtered data\n",
    "            np.save(raw_output_filename, filtered_spectrogram)\n",
    "            \n",
    "            # Process filtered data with wav2vec\n",
    "            # padded_filtered_spectrogram = pad_sequence(filtered_spectrogram, min_length)\n",
    "            w2v_filtered_output = w2v.wav2vec2(filtered_spectrogram, proc_eegs=True)\n",
    "\n",
    "            np.save(w2v_output_filename, w2v_filtered_output)"
   ]
  }
 ],
 "metadata": {
  "kernelspec": {
   "display_name": "Python 3",
   "language": "python",
   "name": "python3"
  },
  "language_info": {
   "codemirror_mode": {
    "name": "ipython",
    "version": 3
   },
   "file_extension": ".py",
   "mimetype": "text/x-python",
   "name": "python",
   "nbconvert_exporter": "python",
   "pygments_lexer": "ipython3",
   "version": "3.10.13"
  }
 },
 "nbformat": 4,
 "nbformat_minor": 2
}
