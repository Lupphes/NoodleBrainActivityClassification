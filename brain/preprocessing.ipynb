{
 "cells": [
  {
   "cell_type": "markdown",
   "metadata": {},
   "source": [
    "# Brain Solver Python Processing Notebook\n",
    "\n",
    "This notebook utilizes the custom `brain_solver` package for analyzing brain activity data. Our data sources include official datasets from Kaggle competitions and additional datasets for enhanced model training and evaluation.\n",
    "\n",
    "This is the Training notebook.\n",
    "\n",
    "## Data Sources\n",
    "\n",
    "### Official:\n",
    "\n",
    "- **HMS - Harmful Brain Activity Classification**\n",
    "  - **Source:** [Kaggle Competition](https://www.kaggle.com/competitions/hms-harmful-brain-activity-classification)\n",
    "  - **Description:** This competition focuses on classifying harmful brain activity. It includes a comprehensive dataset for training and testing models.\n",
    "\n",
    "- **Brain-Spectrograms**\n",
    "  - **Source:** [Kaggle Dataset](https://www.kaggle.com/datasets/cdeotte/brain-spectrograms)\n",
    "  - **Description:** The `specs.npy` file contains all the spectrograms from the HMS competition, offering a detailed view of brain activity through visual representations.\n",
    "\n",
    "### Additional:\n",
    "\n",
    "- **Brain-EEG-Spectrograms**\n",
    "  - **Source:** [Kaggle Dataset](https://www.kaggle.com/datasets/cdeotte/brain-eeg-spectrograms)\n",
    "  - **Description:** The `EEG_Spectrograms` folder includes one NumPy file per EEG ID, with each array shaped as (128x256x4), representing (frequency, time, montage chain). This dataset provides a more nuanced understanding of brain activity through EEG spectrograms.\n",
    "\n",
    "- **hms_efficientnetb0_pt_ckpts**\n",
    "  - **Source:** [Kaggle Dataset](https://www.kaggle.com/datasets/crackle/hms-efficientnetb0-pt-ckpts)\n",
    "  - **Description:** This dataset offers pre-trained checkpoints for EfficientNetB0 models, tailored for the HMS competition. It's intended for use in fine-tuning models on the specific task of harmful brain activity classification.\n"
   ]
  },
  {
   "cell_type": "code",
   "execution_count": 23,
   "metadata": {},
   "outputs": [
    {
     "data": {
      "text/plain": [
       "device(type='cpu')"
      ]
     },
     "execution_count": 23,
     "metadata": {},
     "output_type": "execute_result"
    }
   ],
   "source": [
    "import os, sys\n",
    "import gc\n",
    "import numpy as np\n",
    "import pandas as pd\n",
    "import torch\n",
    "from torch.utils.data import DataLoader\n",
    "import pytorch_lightning as pl\n",
    "from brain_solver import Helpers as hp, Trainer as tr, BrainModel as br, EEGDataset\n",
    "from brain_solver import Wav2Vec2 as w2v\n",
    "from brain_solver import Filters, FilterType\n",
    "from transformers.utils import logging\n",
    "\n",
    "# Suppress warnings if desired\n",
    "import warnings\n",
    "\n",
    "warnings.filterwarnings(\"ignore\")\n",
    "logging.set_verbosity(logging.CRITICAL)\n",
    "\n",
    "# Setup for CUDA device selection\n",
    "os.environ[\"CUDA_VISIBLE_DEVICES\"] = \"0,1\"\n",
    "device = torch.device(\"cuda\" if torch.cuda.is_available() else \"cpu\")\n",
    "device"
   ]
  },
  {
   "cell_type": "code",
   "execution_count": 24,
   "metadata": {},
   "outputs": [],
   "source": [
    "from brain_solver import Config\n",
    "full_path = \"/home/osloup/NoodleNappers/brain/data/\" # Luppo\n",
    "# full_path = \"C:/Users/tygof/Documents/Semester 8/MLiP/NoodleNappers/brain/data/\" # Tygo\n",
    "# full_path = \"C:/Users/dahbl/Documents/TrueDocs/Uni/Year 4/Semester 2/Machine Learning in Practice/brain/brain/data/\" # Dick\n",
    "config = Config(full_path,  full_path + \"out/\", USE_EEG_SPECTROGRAMS=True, USE_KAGGLE_SPECTROGRAMS=True, should_read_brain_spectograms=False, should_read_eeg_spectrogram_files=False, USE_PRETRAINED_MODEL=False)\n",
    "\n",
    "# Kaggle Pull\n",
    "# full_path = \"/kaggle/input/\"\n",
    "# config = Config(full_path, \"/kaggle/working/\", USE_EEG_SPECTROGRAMS=True, USE_KAGGLE_SPECTROGRAMS=True, should_read_brain_spectograms=False, should_read_eeg_spectrogram_files=False, USE_PRETRAINED_MODEL=False)\n",
    "\n",
    "import sys\n",
    "sys.path.append(full_path + 'kaggle-kl-div')\n",
    "# from kaggle_kl_div import score"
   ]
  },
  {
   "cell_type": "code",
   "execution_count": 25,
   "metadata": {},
   "outputs": [
    {
     "name": "stderr",
     "output_type": "stream",
     "text": [
      "Seed set to 2024\n"
     ]
    },
    {
     "name": "stdout",
     "output_type": "stream",
     "text": [
      "/home/osloup/NoodleNappers/brain/data/hms-harmful-brain-activity-classification/train.csv\n"
     ]
    }
   ],
   "source": [
    "# Create Output folder if does not exist\n",
    "if not os.path.exists(config.output_path):\n",
    "    os.makedirs(config.output_path)\n",
    "\n",
    "# Initialize random environment\n",
    "pl.seed_everything(config.seed, workers=True)\n",
    "\n",
    "print(config.data_train_csv)"
   ]
  },
  {
   "cell_type": "code",
   "execution_count": 26,
   "metadata": {},
   "outputs": [
    {
     "name": "stdout",
     "output_type": "stream",
     "text": [
      "Train shape: (106800, 15)\n"
     ]
    }
   ],
   "source": [
    "train_df: pd.DataFrame = hp.load_csv(config.data_train_csv)\n",
    "\n",
    "if train_df is None:\n",
    "    print(\"Failed to load the CSV file.\")\n",
    "    exit()\n",
    "else:\n",
    "    EEG_IDS = train_df.eeg_id.unique()\n",
    "    TARGETS = train_df.columns[-6:]\n",
    "    TARS = {\"Seizure\": 0, \"LPD\": 1, \"GPD\": 2, \"LRDA\": 3, \"GRDA\": 4, \"Other\": 5}\n",
    "    TARS_INV = {x: y for y, x in TARS.items()}\n",
    "    print(\"Train shape:\", train_df.shape)"
   ]
  },
  {
   "cell_type": "code",
   "execution_count": 27,
   "metadata": {},
   "outputs": [
    {
     "name": "stdout",
     "output_type": "stream",
     "text": [
      "Train non-overlap eeg_id shape: (17089, 12)\n"
     ]
    }
   ],
   "source": [
    "train_data_preprocessed = hp.preprocess_eeg_data(train_df, TARGETS)"
   ]
  },
  {
   "cell_type": "code",
   "execution_count": 28,
   "metadata": {},
   "outputs": [
    {
     "data": {
      "text/html": [
       "<div>\n",
       "<style scoped>\n",
       "    .dataframe tbody tr th:only-of-type {\n",
       "        vertical-align: middle;\n",
       "    }\n",
       "\n",
       "    .dataframe tbody tr th {\n",
       "        vertical-align: top;\n",
       "    }\n",
       "\n",
       "    .dataframe thead th {\n",
       "        text-align: right;\n",
       "    }\n",
       "</style>\n",
       "<table border=\"1\" class=\"dataframe\">\n",
       "  <thead>\n",
       "    <tr style=\"text-align: right;\">\n",
       "      <th></th>\n",
       "      <th>eeg_id</th>\n",
       "      <th>spec_id</th>\n",
       "      <th>min_offset</th>\n",
       "      <th>max_offset</th>\n",
       "      <th>patient_id</th>\n",
       "      <th>seizure_vote</th>\n",
       "      <th>lpd_vote</th>\n",
       "      <th>gpd_vote</th>\n",
       "      <th>lrda_vote</th>\n",
       "      <th>grda_vote</th>\n",
       "      <th>other_vote</th>\n",
       "      <th>target</th>\n",
       "    </tr>\n",
       "  </thead>\n",
       "  <tbody>\n",
       "    <tr>\n",
       "      <th>0</th>\n",
       "      <td>568657</td>\n",
       "      <td>789577333</td>\n",
       "      <td>0.0</td>\n",
       "      <td>16.0</td>\n",
       "      <td>20654</td>\n",
       "      <td>0.0</td>\n",
       "      <td>0.000000</td>\n",
       "      <td>0.25</td>\n",
       "      <td>0.000000</td>\n",
       "      <td>0.166667</td>\n",
       "      <td>0.583333</td>\n",
       "      <td>Other</td>\n",
       "    </tr>\n",
       "    <tr>\n",
       "      <th>1</th>\n",
       "      <td>582999</td>\n",
       "      <td>1552638400</td>\n",
       "      <td>0.0</td>\n",
       "      <td>38.0</td>\n",
       "      <td>20230</td>\n",
       "      <td>0.0</td>\n",
       "      <td>0.857143</td>\n",
       "      <td>0.00</td>\n",
       "      <td>0.071429</td>\n",
       "      <td>0.000000</td>\n",
       "      <td>0.071429</td>\n",
       "      <td>LPD</td>\n",
       "    </tr>\n",
       "    <tr>\n",
       "      <th>2</th>\n",
       "      <td>642382</td>\n",
       "      <td>14960202</td>\n",
       "      <td>1008.0</td>\n",
       "      <td>1032.0</td>\n",
       "      <td>5955</td>\n",
       "      <td>0.0</td>\n",
       "      <td>0.000000</td>\n",
       "      <td>0.00</td>\n",
       "      <td>0.000000</td>\n",
       "      <td>0.000000</td>\n",
       "      <td>1.000000</td>\n",
       "      <td>Other</td>\n",
       "    </tr>\n",
       "    <tr>\n",
       "      <th>3</th>\n",
       "      <td>751790</td>\n",
       "      <td>618728447</td>\n",
       "      <td>908.0</td>\n",
       "      <td>908.0</td>\n",
       "      <td>38549</td>\n",
       "      <td>0.0</td>\n",
       "      <td>0.000000</td>\n",
       "      <td>1.00</td>\n",
       "      <td>0.000000</td>\n",
       "      <td>0.000000</td>\n",
       "      <td>0.000000</td>\n",
       "      <td>GPD</td>\n",
       "    </tr>\n",
       "    <tr>\n",
       "      <th>4</th>\n",
       "      <td>778705</td>\n",
       "      <td>52296320</td>\n",
       "      <td>0.0</td>\n",
       "      <td>0.0</td>\n",
       "      <td>40955</td>\n",
       "      <td>0.0</td>\n",
       "      <td>0.000000</td>\n",
       "      <td>0.00</td>\n",
       "      <td>0.000000</td>\n",
       "      <td>0.000000</td>\n",
       "      <td>1.000000</td>\n",
       "      <td>Other</td>\n",
       "    </tr>\n",
       "  </tbody>\n",
       "</table>\n",
       "</div>"
      ],
      "text/plain": [
       "   eeg_id     spec_id  min_offset  max_offset  patient_id  seizure_vote  \\\n",
       "0  568657   789577333         0.0        16.0       20654           0.0   \n",
       "1  582999  1552638400         0.0        38.0       20230           0.0   \n",
       "2  642382    14960202      1008.0      1032.0        5955           0.0   \n",
       "3  751790   618728447       908.0       908.0       38549           0.0   \n",
       "4  778705    52296320         0.0         0.0       40955           0.0   \n",
       "\n",
       "   lpd_vote  gpd_vote  lrda_vote  grda_vote  other_vote target  \n",
       "0  0.000000      0.25   0.000000   0.166667    0.583333  Other  \n",
       "1  0.857143      0.00   0.071429   0.000000    0.071429    LPD  \n",
       "2  0.000000      0.00   0.000000   0.000000    1.000000  Other  \n",
       "3  0.000000      1.00   0.000000   0.000000    0.000000    GPD  \n",
       "4  0.000000      0.00   0.000000   0.000000    1.000000  Other  "
      ]
     },
     "execution_count": 28,
     "metadata": {},
     "output_type": "execute_result"
    }
   ],
   "source": [
    "train_data_preprocessed.head()"
   ]
  },
  {
   "cell_type": "code",
   "execution_count": 29,
   "metadata": {},
   "outputs": [],
   "source": [
    "# Initialize the Filters class\n",
    "# ft = Filters(order=5)\n",
    "\n",
    "# train_eegs/ EEG data from one or more overlapping samples. Use the metadata in train.csv to select specific annotated subsets. The column names are the names of the individual electrode locations for EEG leads, with one exception. The EKG column is for an electrocardiogram lead that records data from the heart. All of the EEG data (for both train and test) was collected at a frequency of 200 samples per second.\n",
    "\n",
    "# Define filter parameters\n",
    "# cutoff_low = 0.1  # Low cutoff frequency (Hz)\n",
    "# cutoff_high = 50.0  # High cutoff frequency (Hz)\n",
    "# fs = 200  # Sampling rate (Hz)\n",
    "\n",
    "# filtered_brain_spectrograms = {key: ft.apply_filter_to_spectrogram(spectrogram, [cutoff_low, cutoff_high], fs, FilterType.BANDPASS) for key, spectrogram in spectrograms.items()}\n",
    "# filtered_eeg_spectrograms = {key: ft.apply_filter_to_spectrogram(spectrogram, [cutoff_low, cutoff_high], fs, FilterType.BANDPASS) for key, spectrogram in data_eeg_spectrograms.items()}\n",
    "\n",
    "# combined_brain_spectrograms = {key: {'raw': spectrograms[key], 'filtered': filtered_brain_spectrograms[key]} for key in spectrograms}\n",
    "# combined_eeg_spectrograms = {key: {'raw': data_eeg_spectrograms[key], 'filtered': filtered_eeg_spectrograms[key]} for key in data_eeg_spectrograms}"
   ]
  },
  {
   "cell_type": "code",
   "execution_count": 30,
   "metadata": {},
   "outputs": [
    {
     "name": "stdout",
     "output_type": "stream",
     "text": [
      "There are 11138 spectrogram parquets\n"
     ]
    }
   ],
   "source": [
    "read_path = config.data_spectograms\n",
    "\n",
    "files = os.listdir(read_path)\n",
    "print(f\"There are {len(files)} spectrogram parquets\")"
   ]
  },
  {
   "cell_type": "code",
   "execution_count": 31,
   "metadata": {},
   "outputs": [],
   "source": [
    "# Create Output folder for wav2vec if does not exist\n",
    "if not os.path.exists(config.data_w2v_specs):\n",
    "    os.makedirs(config.data_w2v_specs)"
   ]
  },
  {
   "cell_type": "code",
   "execution_count": 32,
   "metadata": {},
   "outputs": [],
   "source": [
    "force_regenerate = False"
   ]
  },
  {
   "cell_type": "code",
   "execution_count": 33,
   "metadata": {},
   "outputs": [
    {
     "name": "stdout",
     "output_type": "stream",
     "text": [
      "0 , "
     ]
    },
    {
     "name": "stdout",
     "output_type": "stream",
     "text": [
      "/home/osloup/NoodleNappers/brain/data/out/w2v_specs_filter/1000086677\n",
      "/home/osloup/NoodleNappers/brain/data/out/w2v_specs_filter/1000189855\n",
      "/home/osloup/NoodleNappers/brain/data/out/w2v_specs_filter/1000317312\n",
      "/home/osloup/NoodleNappers/brain/data/out/w2v_specs_filter/1000381196\n",
      "/home/osloup/NoodleNappers/brain/data/out/w2v_specs_filter/1000493950\n",
      "/home/osloup/NoodleNappers/brain/data/out/w2v_specs_filter/1000646093\n",
      "/home/osloup/NoodleNappers/brain/data/out/w2v_specs_filter/1000655456\n",
      "/home/osloup/NoodleNappers/brain/data/out/w2v_specs_filter/1000757705\n",
      "/home/osloup/NoodleNappers/brain/data/out/w2v_specs_filter/1001335039\n",
      "/home/osloup/NoodleNappers/brain/data/out/w2v_specs_filter/1001616430\n",
      "/home/osloup/NoodleNappers/brain/data/out/w2v_specs_filter/1001782302\n",
      "/home/osloup/NoodleNappers/brain/data/out/w2v_specs_filter/100193677\n",
      "/home/osloup/NoodleNappers/brain/data/out/w2v_specs_filter/1001944237\n",
      "/home/osloup/NoodleNappers/brain/data/out/w2v_specs_filter/1002038108\n",
      "/home/osloup/NoodleNappers/brain/data/out/w2v_specs_filter/1002078310\n",
      "/home/osloup/NoodleNappers/brain/data/out/w2v_specs_filter/1002209002\n",
      "/home/osloup/NoodleNappers/brain/data/out/w2v_specs_filter/100228337\n",
      "/home/osloup/NoodleNappers/brain/data/out/w2v_specs_filter/1002318990\n",
      "/home/osloup/NoodleNappers/brain/data/out/w2v_specs_filter/1002360431\n",
      "/home/osloup/NoodleNappers/brain/data/out/w2v_specs_filter/1002394133\n",
      "/home/osloup/NoodleNappers/brain/data/out/w2v_specs_filter/1002731701\n",
      "/home/osloup/NoodleNappers/brain/data/out/w2v_specs_filter/100277663\n",
      "/home/osloup/NoodleNappers/brain/data/out/w2v_specs_filter/1002784785\n",
      "/home/osloup/NoodleNappers/brain/data/out/w2v_specs_filter/1002921461\n",
      "/home/osloup/NoodleNappers/brain/data/out/w2v_specs_filter/1002948107\n",
      "/home/osloup/NoodleNappers/brain/data/out/w2v_specs_filter/1003145721\n",
      "/home/osloup/NoodleNappers/brain/data/out/w2v_specs_filter/1003176141\n",
      "/home/osloup/NoodleNappers/brain/data/out/w2v_specs_filter/1003279800\n",
      "/home/osloup/NoodleNappers/brain/data/out/w2v_specs_filter/100332931\n",
      "/home/osloup/NoodleNappers/brain/data/out/w2v_specs_filter/1003735183\n",
      "/home/osloup/NoodleNappers/brain/data/out/w2v_specs_filter/1003751899\n",
      "/home/osloup/NoodleNappers/brain/data/out/w2v_specs_filter/1003790564\n",
      "/home/osloup/NoodleNappers/brain/data/out/w2v_specs_filter/1004024952\n",
      "/home/osloup/NoodleNappers/brain/data/out/w2v_specs_filter/1004032094\n",
      "/home/osloup/NoodleNappers/brain/data/out/w2v_specs_filter/1004260719\n",
      "/home/osloup/NoodleNappers/brain/data/out/w2v_specs_filter/1004296522\n",
      "/home/osloup/NoodleNappers/brain/data/out/w2v_specs_filter/1004843846\n",
      "/home/osloup/NoodleNappers/brain/data/out/w2v_specs_filter/1004935258\n",
      "/home/osloup/NoodleNappers/brain/data/out/w2v_specs_filter/1005228554\n",
      "/home/osloup/NoodleNappers/brain/data/out/w2v_specs_filter/1005283689\n",
      "/home/osloup/NoodleNappers/brain/data/out/w2v_specs_filter/1005356669\n",
      "/home/osloup/NoodleNappers/brain/data/out/w2v_specs_filter/1005390159\n",
      "/home/osloup/NoodleNappers/brain/data/out/w2v_specs_filter/1005800134\n",
      "/home/osloup/NoodleNappers/brain/data/out/w2v_specs_filter/1006082535\n",
      "/home/osloup/NoodleNappers/brain/data/out/w2v_specs_filter/1006186695\n",
      "/home/osloup/NoodleNappers/brain/data/out/w2v_specs_filter/1006492097\n",
      "/home/osloup/NoodleNappers/brain/data/out/w2v_specs_filter/1006610068\n",
      "/home/osloup/NoodleNappers/brain/data/out/w2v_specs_filter/1007135024\n",
      "/home/osloup/NoodleNappers/brain/data/out/w2v_specs_filter/100726803\n",
      "/home/osloup/NoodleNappers/brain/data/out/w2v_specs_filter/1007574618\n",
      "/home/osloup/NoodleNappers/brain/data/out/w2v_specs_filter/1007629392\n",
      "/home/osloup/NoodleNappers/brain/data/out/w2v_specs_filter/1007658782\n",
      "/home/osloup/NoodleNappers/brain/data/out/w2v_specs_filter/1007938258\n",
      "/home/osloup/NoodleNappers/brain/data/out/w2v_specs_filter/1008021540\n",
      "/home/osloup/NoodleNappers/brain/data/out/w2v_specs_filter/1008031879\n",
      "/home/osloup/NoodleNappers/brain/data/out/w2v_specs_filter/1008148805\n",
      "/home/osloup/NoodleNappers/brain/data/out/w2v_specs_filter/1008302041\n",
      "/home/osloup/NoodleNappers/brain/data/out/w2v_specs_filter/1008340234\n",
      "/home/osloup/NoodleNappers/brain/data/out/w2v_specs_filter/1008358381\n",
      "/home/osloup/NoodleNappers/brain/data/out/w2v_specs_filter/1008462378\n",
      "/home/osloup/NoodleNappers/brain/data/out/w2v_specs_filter/1008753122\n",
      "/home/osloup/NoodleNappers/brain/data/out/w2v_specs_filter/1008910345\n",
      "/home/osloup/NoodleNappers/brain/data/out/w2v_specs_filter/1009414554\n",
      "/home/osloup/NoodleNappers/brain/data/out/w2v_specs_filter/1009489006\n",
      "/home/osloup/NoodleNappers/brain/data/out/w2v_specs_filter/1009616880\n",
      "/home/osloup/NoodleNappers/brain/data/out/w2v_specs_filter/1009815187\n",
      "/home/osloup/NoodleNappers/brain/data/out/w2v_specs_filter/1009917194\n",
      "/home/osloup/NoodleNappers/brain/data/out/w2v_specs_filter/1009976810\n",
      "/home/osloup/NoodleNappers/brain/data/out/w2v_specs_filter/1009997570\n",
      "/home/osloup/NoodleNappers/brain/data/out/w2v_specs_filter/1010172668\n",
      "/home/osloup/NoodleNappers/brain/data/out/w2v_specs_filter/1010184710\n",
      "/home/osloup/NoodleNappers/brain/data/out/w2v_specs_filter/1010393451\n",
      "/home/osloup/NoodleNappers/brain/data/out/w2v_specs_filter/1010653043\n",
      "/home/osloup/NoodleNappers/brain/data/out/w2v_specs_filter/1010728139\n",
      "/home/osloup/NoodleNappers/brain/data/out/w2v_specs_filter/1010741928\n",
      "/home/osloup/NoodleNappers/brain/data/out/w2v_specs_filter/1010764973\n"
     ]
    }
   ],
   "source": [
    "for i, f in enumerate(files):\n",
    "    name = f[:-8]\n",
    "\n",
    "    if i % 100 == 0:\n",
    "        print(i, \", \", end=\"\")\n",
    "\n",
    "    if not os.path.exists(config.data_w2v_specs + f\"{name}.npy\"):\n",
    "        try:\n",
    "\n",
    "            parquet_file = pd.read_parquet(os.path.join(read_path, f))\n",
    "\n",
    "            # Here will luppo eventually try to use filters on the spectograms and later on the RAW data in the loop\n",
    "            parquet_file = parquet_file.iloc[:, 1:].values # FILTERS\n",
    "            \n",
    "            parquet_file = w2v.wav2vec2(parquet_file)\n",
    "            np.save(config.data_w2v_specs + f\"{name}\", parquet_file)\n",
    "\n",
    "        except Exception as e:\n",
    "            print(f\"ERROR: An unexpected error occurred for {name}: {e}\")\n"
   ]
  }
 ],
 "metadata": {
  "kernelspec": {
   "display_name": "Python 3",
   "language": "python",
   "name": "python3"
  },
  "language_info": {
   "codemirror_mode": {
    "name": "ipython",
    "version": 3
   },
   "file_extension": ".py",
   "mimetype": "text/x-python",
   "name": "python",
   "nbconvert_exporter": "python",
   "pygments_lexer": "ipython3",
   "version": "3.10.13"
  }
 },
 "nbformat": 4,
 "nbformat_minor": 2
}
