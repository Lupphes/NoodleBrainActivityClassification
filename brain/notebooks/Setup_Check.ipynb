{
 "cells": [
  {
   "cell_type": "markdown",
   "id": "d8155f22-70d6-44ec-a11d-8622324f00ae",
   "metadata": {},
   "source": [
    "# Check Imports"
   ]
  },
  {
   "cell_type": "markdown",
   "id": "2edf5aa3-c34b-45ff-9c80-8d151ca4039b",
   "metadata": {},
   "source": [
    "Execute the following code snippet to see if you have installed all packages correctly."
   ]
  },
  {
   "cell_type": "code",
   "execution_count": 1,
   "id": "f17b3f38-d4e8-4747-b51d-a15c85ab1c58",
   "metadata": {},
   "outputs": [
    {
     "name": "stderr",
     "output_type": "stream",
     "text": [
      "/tmp/ipykernel_340095/1201643193.py:3: DeprecationWarning: \n",
      "Pyarrow will become a required dependency of pandas in the next major release of pandas (pandas 3.0),\n",
      "(to allow more performant data types, such as the Arrow string type, and better interoperability with other libraries)\n",
      "but was not found to be installed on your system.\n",
      "If this would cause problems for you,\n",
      "please provide us feedback at https://github.com/pandas-dev/pandas/issues/54466\n",
      "        \n",
      "  import pandas\n"
     ]
    }
   ],
   "source": [
    "import matplotlib\n",
    "import numpy\n",
    "import pandas\n",
    "import pytorch_lightning\n",
    "import sklearn\n",
    "import torch\n",
    "import torchattacks\n",
    "import torchaudio\n",
    "import torchvision\n",
    "import torch_geometric"
   ]
  },
  {
   "cell_type": "markdown",
   "id": "989abdaa-11f5-4874-acc5-d1b067b4f87f",
   "metadata": {},
   "source": [
    "If no error occured you have installed the packages correctly."
   ]
  },
  {
   "cell_type": "markdown",
   "id": "b2c2e0f6-4f22-43a7-a18a-90bca44b441c",
   "metadata": {},
   "source": [
    "# Check CUDA"
   ]
  },
  {
   "cell_type": "markdown",
   "id": "ad383486-60d4-4c13-b42e-e508149b194d",
   "metadata": {},
   "source": [
    "Execute the following code snippet to see if CUDA is available."
   ]
  },
  {
   "cell_type": "code",
   "execution_count": 2,
   "id": "1ca1c30b-fc42-4596-9292-601c1be987aa",
   "metadata": {},
   "outputs": [
    {
     "name": "stdout",
     "output_type": "stream",
     "text": [
      "cpu\n"
     ]
    }
   ],
   "source": [
    "# This piece of code is required to make use of the GPU instead of CPU for faster processing\n",
    "device = torch.device(\"cuda:0\" if torch.cuda.is_available() else \"cpu\")\n",
    "print(device)\n",
    "\n",
    "# If it prints \"cuda:0\" that means it has access to GPU. If it prints out \"cpu\", then it's still running on CPU."
   ]
  },
  {
   "cell_type": "markdown",
   "id": "512cdb1e-98e3-4519-995e-6d627a0aac6e",
   "metadata": {},
   "source": [
    "If you see 'cuda:0' this means you have CUDA available otherwise it is either not available or you did not install it correctly. If you are sure you have a CUDA-capable GPU, you followed the instructions and you still see 'cpu' please message us."
   ]
  }
 ],
 "metadata": {
  "kernelspec": {
   "display_name": "Python 3 (ipykernel)",
   "language": "python",
   "name": "python3"
  },
  "language_info": {
   "codemirror_mode": {
    "name": "ipython",
    "version": 3
   },
   "file_extension": ".py",
   "mimetype": "text/x-python",
   "name": "python",
   "nbconvert_exporter": "python",
   "pygments_lexer": "ipython3",
   "version": "3.10.13"
  }
 },
 "nbformat": 4,
 "nbformat_minor": 5
}
