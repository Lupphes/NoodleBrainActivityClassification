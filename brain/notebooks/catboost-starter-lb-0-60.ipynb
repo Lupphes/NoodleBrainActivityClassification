{
 "cells": [
  {
   "cell_type": "markdown",
   "id": "a806e9e6",
   "metadata": {
    "papermill": {
     "duration": 0.00951,
     "end_time": "2024-01-21T19:27:18.650279",
     "exception": false,
     "start_time": "2024-01-21T19:27:18.640769",
     "status": "completed"
    },
    "tags": []
   },
   "source": [
    "# CatBoost Starter for Brain Comp\n",
    "This is a CatBoost starter notebook for Kaggle's brain comp. We use only spectrogram features. (The model does not use eeg features yet). We can improve the CV and LB score by engineering more (spectrogram and/or eeg) features and we can tune the CatBoost model (and/or use other ML DL models). Discussion about this starter is [here][2].\n",
    "\n",
    "In this notebook, we also compare five CV scores. Kaggle's sample submission uses equal predictions of 1/6 for all targets and achieves CV 1.46, LB 1.09. The best public notebook (on Jan 12th) [here][1] uses train means and achieves CV 1.26 LB 0.97. Our CatBoost model version 1 achieves CV 1.01 LB 0.81. Our CatBoost model version 2 achieves CV 0.82 LB 0.67. Then version 3 adds features from **EEG spectrograms** and achieves CV 0.74, wow! Let's see what LB is...\n",
    "\n",
    "# Exciting UPDATE!\n",
    "Version 3 of this notebook trains using **both** Kaggle spectrograms and my new **EEG spectrograms** from my Kaggle dataset [here][3] (which were created from my spectrogram starter [here][4]). We boost the CV score and (most likely) LB score by almost `+0.10`, wow! \n",
    "\n",
    "### Version Notes\n",
    "* Version 1 - Uses spectrogram features from 10 minute window `means`. Achieves CV 1.01, LB 0.81\n",
    "* Version 2 - Uses spectrogram features from 10 minute and 20 second `means` and `mins`. Achieves CV 0.82, LB 0.67\n",
    "* Version 3 - Uses Kaggle spectrogrms **plus EEG spectrograms**. Achieves 0.74, LB to be determined...\n",
    "\n",
    "[1]: https://www.kaggle.com/code/seshurajup/eda-train-csv\n",
    "[2]: https://www.kaggle.com/competitions/hms-harmful-brain-activity-classification/discussion/467576\n",
    "[3]: https://www.kaggle.com/datasets/cdeotte/brain-eeg-spectrograms\n",
    "[4]: https://www.kaggle.com/code/cdeotte/how-to-make-spectrogram-from-eeg"
   ]
  },
  {
   "cell_type": "markdown",
   "id": "5e88f64e",
   "metadata": {
    "papermill": {
     "duration": 0.008945,
     "end_time": "2024-01-21T19:27:18.668142",
     "exception": false,
     "start_time": "2024-01-21T19:27:18.659197",
     "status": "completed"
    },
    "tags": []
   },
   "source": [
    "# Load Libraries"
   ]
  },
  {
   "cell_type": "code",
   "execution_count": 1,
   "id": "a73c2762",
   "metadata": {
    "execution": {
     "iopub.execute_input": "2024-01-21T19:27:18.687608Z",
     "iopub.status.busy": "2024-01-21T19:27:18.687295Z",
     "iopub.status.idle": "2024-01-21T19:27:19.989732Z",
     "shell.execute_reply": "2024-01-21T19:27:19.988974Z"
    },
    "papermill": {
     "duration": 1.314547,
     "end_time": "2024-01-21T19:27:19.991966",
     "exception": false,
     "start_time": "2024-01-21T19:27:18.677419",
     "status": "completed"
    },
    "tags": []
   },
   "outputs": [],
   "source": [
    "import os, gc\n",
    "os.environ[\"CUDA_VISIBLE_DEVICES\"]=\"0,1\"\n",
    "import pandas as pd, numpy as np\n",
    "import matplotlib.pyplot as plt\n",
    "\n",
    "VER = 3"
   ]
  },
  {
   "cell_type": "markdown",
   "id": "01fd11f7",
   "metadata": {
    "papermill": {
     "duration": 0.008724,
     "end_time": "2024-01-21T19:27:20.009692",
     "exception": false,
     "start_time": "2024-01-21T19:27:20.000968",
     "status": "completed"
    },
    "tags": []
   },
   "source": [
    "# Load Train Data"
   ]
  },
  {
   "cell_type": "code",
   "execution_count": 2,
   "id": "56e920d1",
   "metadata": {
    "_cell_guid": "b1076dfc-b9ad-4769-8c92-a6c4dae69d19",
    "_uuid": "8f2839f25d086af736a60e9eeb907d3b93b6e0e5",
    "execution": {
     "iopub.execute_input": "2024-01-21T19:27:20.028685Z",
     "iopub.status.busy": "2024-01-21T19:27:20.028282Z",
     "iopub.status.idle": "2024-01-21T19:27:20.391718Z",
     "shell.execute_reply": "2024-01-21T19:27:20.390732Z"
    },
    "papermill": {
     "duration": 0.375707,
     "end_time": "2024-01-21T19:27:20.394181",
     "exception": false,
     "start_time": "2024-01-21T19:27:20.018474",
     "status": "completed"
    },
    "tags": []
   },
   "outputs": [
    {
     "name": "stdout",
     "output_type": "stream",
     "text": [
      "Train shape: (106800, 15)\n",
      "Targets ['seizure_vote', 'lpd_vote', 'gpd_vote', 'lrda_vote', 'grda_vote', 'other_vote']\n"
     ]
    },
    {
     "data": {
      "text/html": [
       "<div>\n",
       "<style scoped>\n",
       "    .dataframe tbody tr th:only-of-type {\n",
       "        vertical-align: middle;\n",
       "    }\n",
       "\n",
       "    .dataframe tbody tr th {\n",
       "        vertical-align: top;\n",
       "    }\n",
       "\n",
       "    .dataframe thead th {\n",
       "        text-align: right;\n",
       "    }\n",
       "</style>\n",
       "<table border=\"1\" class=\"dataframe\">\n",
       "  <thead>\n",
       "    <tr style=\"text-align: right;\">\n",
       "      <th></th>\n",
       "      <th>eeg_id</th>\n",
       "      <th>eeg_sub_id</th>\n",
       "      <th>eeg_label_offset_seconds</th>\n",
       "      <th>spectrogram_id</th>\n",
       "      <th>spectrogram_sub_id</th>\n",
       "      <th>spectrogram_label_offset_seconds</th>\n",
       "      <th>label_id</th>\n",
       "      <th>patient_id</th>\n",
       "      <th>expert_consensus</th>\n",
       "      <th>seizure_vote</th>\n",
       "      <th>lpd_vote</th>\n",
       "      <th>gpd_vote</th>\n",
       "      <th>lrda_vote</th>\n",
       "      <th>grda_vote</th>\n",
       "      <th>other_vote</th>\n",
       "    </tr>\n",
       "  </thead>\n",
       "  <tbody>\n",
       "    <tr>\n",
       "      <th>0</th>\n",
       "      <td>1628180742</td>\n",
       "      <td>0</td>\n",
       "      <td>0.0</td>\n",
       "      <td>353733</td>\n",
       "      <td>0</td>\n",
       "      <td>0.0</td>\n",
       "      <td>127492639</td>\n",
       "      <td>42516</td>\n",
       "      <td>Seizure</td>\n",
       "      <td>3</td>\n",
       "      <td>0</td>\n",
       "      <td>0</td>\n",
       "      <td>0</td>\n",
       "      <td>0</td>\n",
       "      <td>0</td>\n",
       "    </tr>\n",
       "    <tr>\n",
       "      <th>1</th>\n",
       "      <td>1628180742</td>\n",
       "      <td>1</td>\n",
       "      <td>6.0</td>\n",
       "      <td>353733</td>\n",
       "      <td>1</td>\n",
       "      <td>6.0</td>\n",
       "      <td>3887563113</td>\n",
       "      <td>42516</td>\n",
       "      <td>Seizure</td>\n",
       "      <td>3</td>\n",
       "      <td>0</td>\n",
       "      <td>0</td>\n",
       "      <td>0</td>\n",
       "      <td>0</td>\n",
       "      <td>0</td>\n",
       "    </tr>\n",
       "    <tr>\n",
       "      <th>2</th>\n",
       "      <td>1628180742</td>\n",
       "      <td>2</td>\n",
       "      <td>8.0</td>\n",
       "      <td>353733</td>\n",
       "      <td>2</td>\n",
       "      <td>8.0</td>\n",
       "      <td>1142670488</td>\n",
       "      <td>42516</td>\n",
       "      <td>Seizure</td>\n",
       "      <td>3</td>\n",
       "      <td>0</td>\n",
       "      <td>0</td>\n",
       "      <td>0</td>\n",
       "      <td>0</td>\n",
       "      <td>0</td>\n",
       "    </tr>\n",
       "    <tr>\n",
       "      <th>3</th>\n",
       "      <td>1628180742</td>\n",
       "      <td>3</td>\n",
       "      <td>18.0</td>\n",
       "      <td>353733</td>\n",
       "      <td>3</td>\n",
       "      <td>18.0</td>\n",
       "      <td>2718991173</td>\n",
       "      <td>42516</td>\n",
       "      <td>Seizure</td>\n",
       "      <td>3</td>\n",
       "      <td>0</td>\n",
       "      <td>0</td>\n",
       "      <td>0</td>\n",
       "      <td>0</td>\n",
       "      <td>0</td>\n",
       "    </tr>\n",
       "    <tr>\n",
       "      <th>4</th>\n",
       "      <td>1628180742</td>\n",
       "      <td>4</td>\n",
       "      <td>24.0</td>\n",
       "      <td>353733</td>\n",
       "      <td>4</td>\n",
       "      <td>24.0</td>\n",
       "      <td>3080632009</td>\n",
       "      <td>42516</td>\n",
       "      <td>Seizure</td>\n",
       "      <td>3</td>\n",
       "      <td>0</td>\n",
       "      <td>0</td>\n",
       "      <td>0</td>\n",
       "      <td>0</td>\n",
       "      <td>0</td>\n",
       "    </tr>\n",
       "  </tbody>\n",
       "</table>\n",
       "</div>"
      ],
      "text/plain": [
       "       eeg_id  eeg_sub_id  eeg_label_offset_seconds  spectrogram_id  \\\n",
       "0  1628180742           0                       0.0          353733   \n",
       "1  1628180742           1                       6.0          353733   \n",
       "2  1628180742           2                       8.0          353733   \n",
       "3  1628180742           3                      18.0          353733   \n",
       "4  1628180742           4                      24.0          353733   \n",
       "\n",
       "   spectrogram_sub_id  spectrogram_label_offset_seconds    label_id  \\\n",
       "0                   0                               0.0   127492639   \n",
       "1                   1                               6.0  3887563113   \n",
       "2                   2                               8.0  1142670488   \n",
       "3                   3                              18.0  2718991173   \n",
       "4                   4                              24.0  3080632009   \n",
       "\n",
       "   patient_id expert_consensus  seizure_vote  lpd_vote  gpd_vote  lrda_vote  \\\n",
       "0       42516          Seizure             3         0         0          0   \n",
       "1       42516          Seizure             3         0         0          0   \n",
       "2       42516          Seizure             3         0         0          0   \n",
       "3       42516          Seizure             3         0         0          0   \n",
       "4       42516          Seizure             3         0         0          0   \n",
       "\n",
       "   grda_vote  other_vote  \n",
       "0          0           0  \n",
       "1          0           0  \n",
       "2          0           0  \n",
       "3          0           0  \n",
       "4          0           0  "
      ]
     },
     "execution_count": 2,
     "metadata": {},
     "output_type": "execute_result"
    }
   ],
   "source": [
    "df = pd.read_csv('/kaggle/input/hms-harmful-brain-activity-classification/train.csv')\n",
    "TARGETS = df.columns[-6:]\n",
    "print('Train shape:', df.shape )\n",
    "print('Targets', list(TARGETS))\n",
    "df.head()"
   ]
  },
  {
   "cell_type": "markdown",
   "id": "028c6cee",
   "metadata": {
    "papermill": {
     "duration": 0.009602,
     "end_time": "2024-01-21T19:27:20.413252",
     "exception": false,
     "start_time": "2024-01-21T19:27:20.403650",
     "status": "completed"
    },
    "tags": []
   },
   "source": [
    "# Create Non-Overlapping Eeg Id Train Data\n",
    "The competition data description says that test data does not have multiple crops from the same `eeg_id`. Therefore we will train and validate using only 1 crop per `eeg_id`. There is a discussion about this [here][1].\n",
    "\n",
    "[1]: https://www.kaggle.com/competitions/hms-harmful-brain-activity-classification/discussion/467021"
   ]
  },
  {
   "cell_type": "code",
   "execution_count": 3,
   "id": "326584a0",
   "metadata": {
    "execution": {
     "iopub.execute_input": "2024-01-21T19:27:20.433011Z",
     "iopub.status.busy": "2024-01-21T19:27:20.432697Z",
     "iopub.status.idle": "2024-01-21T19:27:20.549086Z",
     "shell.execute_reply": "2024-01-21T19:27:20.548217Z"
    },
    "papermill": {
     "duration": 0.128778,
     "end_time": "2024-01-21T19:27:20.551103",
     "exception": false,
     "start_time": "2024-01-21T19:27:20.422325",
     "status": "completed"
    },
    "tags": []
   },
   "outputs": [
    {
     "name": "stdout",
     "output_type": "stream",
     "text": [
      "Train non-overlapp eeg_id shape: (17089, 12)\n"
     ]
    },
    {
     "data": {
      "text/html": [
       "<div>\n",
       "<style scoped>\n",
       "    .dataframe tbody tr th:only-of-type {\n",
       "        vertical-align: middle;\n",
       "    }\n",
       "\n",
       "    .dataframe tbody tr th {\n",
       "        vertical-align: top;\n",
       "    }\n",
       "\n",
       "    .dataframe thead th {\n",
       "        text-align: right;\n",
       "    }\n",
       "</style>\n",
       "<table border=\"1\" class=\"dataframe\">\n",
       "  <thead>\n",
       "    <tr style=\"text-align: right;\">\n",
       "      <th></th>\n",
       "      <th>eeg_id</th>\n",
       "      <th>spec_id</th>\n",
       "      <th>min</th>\n",
       "      <th>max</th>\n",
       "      <th>patient_id</th>\n",
       "      <th>seizure_vote</th>\n",
       "      <th>lpd_vote</th>\n",
       "      <th>gpd_vote</th>\n",
       "      <th>lrda_vote</th>\n",
       "      <th>grda_vote</th>\n",
       "      <th>other_vote</th>\n",
       "      <th>target</th>\n",
       "    </tr>\n",
       "  </thead>\n",
       "  <tbody>\n",
       "    <tr>\n",
       "      <th>0</th>\n",
       "      <td>568657</td>\n",
       "      <td>789577333</td>\n",
       "      <td>0.0</td>\n",
       "      <td>16.0</td>\n",
       "      <td>20654</td>\n",
       "      <td>0.0</td>\n",
       "      <td>0.000000</td>\n",
       "      <td>0.25</td>\n",
       "      <td>0.000000</td>\n",
       "      <td>0.166667</td>\n",
       "      <td>0.583333</td>\n",
       "      <td>Other</td>\n",
       "    </tr>\n",
       "    <tr>\n",
       "      <th>1</th>\n",
       "      <td>582999</td>\n",
       "      <td>1552638400</td>\n",
       "      <td>0.0</td>\n",
       "      <td>38.0</td>\n",
       "      <td>20230</td>\n",
       "      <td>0.0</td>\n",
       "      <td>0.857143</td>\n",
       "      <td>0.00</td>\n",
       "      <td>0.071429</td>\n",
       "      <td>0.000000</td>\n",
       "      <td>0.071429</td>\n",
       "      <td>LPD</td>\n",
       "    </tr>\n",
       "    <tr>\n",
       "      <th>2</th>\n",
       "      <td>642382</td>\n",
       "      <td>14960202</td>\n",
       "      <td>1008.0</td>\n",
       "      <td>1032.0</td>\n",
       "      <td>5955</td>\n",
       "      <td>0.0</td>\n",
       "      <td>0.000000</td>\n",
       "      <td>0.00</td>\n",
       "      <td>0.000000</td>\n",
       "      <td>0.000000</td>\n",
       "      <td>1.000000</td>\n",
       "      <td>Other</td>\n",
       "    </tr>\n",
       "    <tr>\n",
       "      <th>3</th>\n",
       "      <td>751790</td>\n",
       "      <td>618728447</td>\n",
       "      <td>908.0</td>\n",
       "      <td>908.0</td>\n",
       "      <td>38549</td>\n",
       "      <td>0.0</td>\n",
       "      <td>0.000000</td>\n",
       "      <td>1.00</td>\n",
       "      <td>0.000000</td>\n",
       "      <td>0.000000</td>\n",
       "      <td>0.000000</td>\n",
       "      <td>GPD</td>\n",
       "    </tr>\n",
       "    <tr>\n",
       "      <th>4</th>\n",
       "      <td>778705</td>\n",
       "      <td>52296320</td>\n",
       "      <td>0.0</td>\n",
       "      <td>0.0</td>\n",
       "      <td>40955</td>\n",
       "      <td>0.0</td>\n",
       "      <td>0.000000</td>\n",
       "      <td>0.00</td>\n",
       "      <td>0.000000</td>\n",
       "      <td>0.000000</td>\n",
       "      <td>1.000000</td>\n",
       "      <td>Other</td>\n",
       "    </tr>\n",
       "  </tbody>\n",
       "</table>\n",
       "</div>"
      ],
      "text/plain": [
       "   eeg_id     spec_id     min     max  patient_id  seizure_vote  lpd_vote  \\\n",
       "0  568657   789577333     0.0    16.0       20654           0.0  0.000000   \n",
       "1  582999  1552638400     0.0    38.0       20230           0.0  0.857143   \n",
       "2  642382    14960202  1008.0  1032.0        5955           0.0  0.000000   \n",
       "3  751790   618728447   908.0   908.0       38549           0.0  0.000000   \n",
       "4  778705    52296320     0.0     0.0       40955           0.0  0.000000   \n",
       "\n",
       "   gpd_vote  lrda_vote  grda_vote  other_vote target  \n",
       "0      0.25   0.000000   0.166667    0.583333  Other  \n",
       "1      0.00   0.071429   0.000000    0.071429    LPD  \n",
       "2      0.00   0.000000   0.000000    1.000000  Other  \n",
       "3      1.00   0.000000   0.000000    0.000000    GPD  \n",
       "4      0.00   0.000000   0.000000    1.000000  Other  "
      ]
     },
     "execution_count": 3,
     "metadata": {},
     "output_type": "execute_result"
    }
   ],
   "source": [
    "train = df.groupby('eeg_id')[['spectrogram_id','spectrogram_label_offset_seconds']].agg(\n",
    "    {'spectrogram_id':'first','spectrogram_label_offset_seconds':'min'})\n",
    "train.columns = ['spec_id','min']\n",
    "\n",
    "tmp = df.groupby('eeg_id')[['spectrogram_id','spectrogram_label_offset_seconds']].agg(\n",
    "    {'spectrogram_label_offset_seconds':'max'})\n",
    "train['max'] = tmp\n",
    "\n",
    "tmp = df.groupby('eeg_id')[['patient_id']].agg('first')\n",
    "train['patient_id'] = tmp\n",
    "\n",
    "tmp = df.groupby('eeg_id')[TARGETS].agg('sum')\n",
    "for t in TARGETS:\n",
    "    train[t] = tmp[t].values\n",
    "    \n",
    "y_data = train[TARGETS].values\n",
    "y_data = y_data / y_data.sum(axis=1,keepdims=True)\n",
    "train[TARGETS] = y_data\n",
    "\n",
    "tmp = df.groupby('eeg_id')[['expert_consensus']].agg('first')\n",
    "train['target'] = tmp\n",
    "\n",
    "train = train.reset_index()\n",
    "print('Train non-overlapp eeg_id shape:', train.shape )\n",
    "train.head()"
   ]
  },
  {
   "cell_type": "markdown",
   "id": "1c626f6d",
   "metadata": {
    "papermill": {
     "duration": 0.009722,
     "end_time": "2024-01-21T19:27:20.570275",
     "exception": false,
     "start_time": "2024-01-21T19:27:20.560553",
     "status": "completed"
    },
    "tags": []
   },
   "source": [
    "# Feature Engineer\n",
    "In this section, we create features for our CatBoost model. \n",
    "\n",
    "First we need to read in all 11k train spectrogram files. Reading thousands of files takes 11 minutes with Pandas. Instead, we can read 1 file from my [Kaggle dataset here][1] which contains all the 11k spectrograms in less than 1 minute! To use my [Kaggle dataset][1], set variable `READ_SPEC_FILES = False`. Thanks for upvoting my Kaggle dataset!\n",
    "\n",
    "Next we need to engineer features for our CatBoost model. In version 1 notebook, we just take the mean (over time) of each of the 400 spectrogram frequencies (using middle 10 minutes). This produces 400 features (per each unique eeg id). We can improve CV and LB score by engineering new features (and/or tuning CatBoost).\n",
    "\n",
    "UPDATE: Version 2 creates features from `means` and `mins`. And version 2 uses `10 minute windows` and `20 second windows`.\n",
    "\n",
    "UPDATE: Version 3 uses **both** Kaggle spectrograms and **EEG spectrograms**. We load EEG spectrograms from my Kaggle dataset [here][2]. These EEG spectrograms were created from EEG raw waveforms in my spectrogram starter [here][3]. Thank you everyone for upvoting my new Kaggle dataset!\n",
    "\n",
    "[1]: https://www.kaggle.com/datasets/cdeotte/brain-spectrograms\n",
    "[2]: https://www.kaggle.com/datasets/cdeotte/brain-eeg-spectrograms\n",
    "[3]: https://www.kaggle.com/code/cdeotte/efficientnetb2-starter-lb-0-57"
   ]
  },
  {
   "cell_type": "code",
   "execution_count": 4,
   "id": "4c4b9858",
   "metadata": {
    "execution": {
     "iopub.execute_input": "2024-01-21T19:27:20.590667Z",
     "iopub.status.busy": "2024-01-21T19:27:20.590366Z",
     "iopub.status.idle": "2024-01-21T19:27:20.594228Z",
     "shell.execute_reply": "2024-01-21T19:27:20.593345Z"
    },
    "papermill": {
     "duration": 0.016383,
     "end_time": "2024-01-21T19:27:20.596228",
     "exception": false,
     "start_time": "2024-01-21T19:27:20.579845",
     "status": "completed"
    },
    "tags": []
   },
   "outputs": [],
   "source": [
    "READ_SPEC_FILES = False\n",
    "READ_EEG_SPEC_FILES = False"
   ]
  },
  {
   "cell_type": "code",
   "execution_count": 5,
   "id": "e4d66916",
   "metadata": {
    "execution": {
     "iopub.execute_input": "2024-01-21T19:27:20.616002Z",
     "iopub.status.busy": "2024-01-21T19:27:20.615704Z",
     "iopub.status.idle": "2024-01-21T19:28:37.196256Z",
     "shell.execute_reply": "2024-01-21T19:28:37.194973Z"
    },
    "papermill": {
     "duration": 76.601632,
     "end_time": "2024-01-21T19:28:37.207139",
     "exception": false,
     "start_time": "2024-01-21T19:27:20.605507",
     "status": "completed"
    },
    "tags": []
   },
   "outputs": [
    {
     "name": "stdout",
     "output_type": "stream",
     "text": [
      "There are 11138 spectrogram parquets\n",
      "CPU times: user 2.83 s, sys: 6.16 s, total: 8.99 s\n",
      "Wall time: 1min 16s\n"
     ]
    }
   ],
   "source": [
    "%%time\n",
    "# READ ALL SPECTROGRAMS\n",
    "PATH = '/kaggle/input/hms-harmful-brain-activity-classification/train_spectrograms/'\n",
    "files = os.listdir(PATH)\n",
    "print(f'There are {len(files)} spectrogram parquets')\n",
    "\n",
    "if READ_SPEC_FILES:    \n",
    "    spectrograms = {}\n",
    "    for i,f in enumerate(files):\n",
    "        if i%100==0: print(i,', ',end='')\n",
    "        tmp = pd.read_parquet(f'{PATH}{f}')\n",
    "        name = int(f.split('.')[0])\n",
    "        spectrograms[name] = tmp.iloc[:,1:].values\n",
    "else:\n",
    "    spectrograms = np.load('/kaggle/input/brain-spectrograms/specs.npy',allow_pickle=True).item()"
   ]
  },
  {
   "cell_type": "code",
   "execution_count": 6,
   "id": "ed65b152",
   "metadata": {
    "execution": {
     "iopub.execute_input": "2024-01-21T19:28:37.227727Z",
     "iopub.status.busy": "2024-01-21T19:28:37.227421Z",
     "iopub.status.idle": "2024-01-21T19:30:09.717443Z",
     "shell.execute_reply": "2024-01-21T19:30:09.716438Z"
    },
    "papermill": {
     "duration": 92.513007,
     "end_time": "2024-01-21T19:30:09.729611",
     "exception": false,
     "start_time": "2024-01-21T19:28:37.216604",
     "status": "completed"
    },
    "tags": []
   },
   "outputs": [
    {
     "name": "stdout",
     "output_type": "stream",
     "text": [
      "CPU times: user 4.39 s, sys: 8.29 s, total: 12.7 s\n",
      "Wall time: 1min 32s\n"
     ]
    }
   ],
   "source": [
    "%%time\n",
    "# READ ALL EEG SPECTROGRAMS\n",
    "if READ_EEG_SPEC_FILES:\n",
    "    all_eegs = {}\n",
    "    for i,e in enumerate(train.eeg_id.values):\n",
    "        if i%100==0: print(i,', ',end='')\n",
    "        x = np.load(f'/kaggle/input/brain-eeg-spectrograms/EEG_Spectrograms/{e}.npy')\n",
    "        all_eegs[e] = x\n",
    "else:\n",
    "    all_eegs = np.load('/kaggle/input/brain-eeg-spectrograms/eeg_specs.npy',allow_pickle=True).item()"
   ]
  },
  {
   "cell_type": "code",
   "execution_count": 7,
   "id": "09c0ea83",
   "metadata": {
    "execution": {
     "iopub.execute_input": "2024-01-21T19:30:09.750974Z",
     "iopub.status.busy": "2024-01-21T19:30:09.750632Z",
     "iopub.status.idle": "2024-01-21T19:31:01.505142Z",
     "shell.execute_reply": "2024-01-21T19:31:01.503993Z"
    },
    "papermill": {
     "duration": 51.76767,
     "end_time": "2024-01-21T19:31:01.507344",
     "exception": false,
     "start_time": "2024-01-21T19:30:09.739674",
     "status": "completed"
    },
    "tags": []
   },
   "outputs": [
    {
     "name": "stdout",
     "output_type": "stream",
     "text": [
      "CPU times: user 1e+03 ns, sys: 2 µs, total: 3 µs\n",
      "Wall time: 6.91 µs\n",
      "We are creating 3648 features for 17089 rows... 0 , 100 , 200 , 300 , 400 , 500 , 600 , 700 , 800 , 900 , 1000 , 1100 , 1200 , 1300 , 1400 , 1500 , 1600 , 1700 , 1800 , 1900 , 2000 , 2100 , 2200 , 2300 , 2400 , 2500 , 2600 , 2700 , 2800 , 2900 , 3000 , 3100 , 3200 , 3300 , 3400 , 3500 , 3600 , 3700 , 3800 , 3900 , 4000 , 4100 , 4200 , 4300 , 4400 , 4500 , 4600 , 4700 , 4800 , 4900 , 5000 , 5100 , 5200 , 5300 , 5400 , 5500 , 5600 , 5700 , 5800 , 5900 , 6000 , 6100 , 6200 , 6300 , 6400 , 6500 , 6600 , 6700 , 6800 , 6900 , 7000 , 7100 , 7200 , 7300 , 7400 , 7500 , 7600 , 7700 , 7800 , 7900 , 8000 , 8100 , 8200 , 8300 , 8400 , 8500 , 8600 , 8700 , 8800 , 8900 , 9000 , 9100 , 9200 , 9300 , 9400 , 9500 , 9600 , 9700 , 9800 , 9900 , 10000 , 10100 , 10200 , 10300 , 10400 , 10500 , 10600 , 10700 , 10800 , 10900 , 11000 , 11100 , 11200 , 11300 , 11400 , 11500 , 11600 , 11700 , 11800 , 11900 , 12000 , 12100 , 12200 , 12300 , 12400 , 12500 , 12600 , 12700 , 12800 , 12900 , 13000 , 13100 , 13200 , 13300 , 13400 , 13500 , 13600 , 13700 , 13800 , 13900 , 14000 , 14100 , 14200 , 14300 , 14400 , 14500 , 14600 , 14700 , 14800 , 14900 , 15000 , 15100 , 15200 , 15300 , 15400 , 15500 , 15600 , 15700 , 15800 , 15900 , 16000 , 16100 , 16200 , 16300 , 16400 , 16500 , 16600 , 16700 , 16800 , 16900 , 17000 , \n",
      "New train shape: (17089, 3660)\n"
     ]
    }
   ],
   "source": [
    "%time\n",
    "# ENGINEER FEATURES\n",
    "import warnings\n",
    "warnings.filterwarnings('ignore')\n",
    "\n",
    "# FEATURE NAMES\n",
    "SPEC_COLS = pd.read_parquet(f'{PATH}1000086677.parquet').columns[1:]\n",
    "FEATURES = [f'{c}_mean_10m' for c in SPEC_COLS]\n",
    "FEATURES += [f'{c}_min_10m' for c in SPEC_COLS]\n",
    "FEATURES += [f'{c}_mean_20s' for c in SPEC_COLS]\n",
    "FEATURES += [f'{c}_min_20s' for c in SPEC_COLS]\n",
    "FEATURES += [f'eeg_mean_f{x}_10s' for x in range(512)]\n",
    "FEATURES += [f'eeg_min_f{x}_10s' for x in range(512)]\n",
    "FEATURES += [f'eeg_max_f{x}_10s' for x in range(512)]\n",
    "FEATURES += [f'eeg_std_f{x}_10s' for x in range(512)]\n",
    "print(f'We are creating {len(FEATURES)} features for {len(train)} rows... ',end='')\n",
    "\n",
    "data = np.zeros((len(train),len(FEATURES)))\n",
    "for k in range(len(train)):\n",
    "    if k%100==0: print(k,', ',end='')\n",
    "    row = train.iloc[k]\n",
    "    r = int( (row['min'] + row['max'])//4 ) \n",
    "\n",
    "    # 10 MINUTE WINDOW FEATURES (MEANS and MINS)\n",
    "    x = np.nanmean(spectrograms[row.spec_id][r:r+300,:],axis=0)\n",
    "    data[k,:400] = x\n",
    "    x = np.nanmin(spectrograms[row.spec_id][r:r+300,:],axis=0)\n",
    "    data[k,400:800] = x\n",
    "\n",
    "    # 20 SECOND WINDOW FEATURES (MEANS and MINS)\n",
    "    x = np.nanmean(spectrograms[row.spec_id][r+145:r+155,:],axis=0)\n",
    "    data[k,800:1200] = x\n",
    "    x = np.nanmin(spectrograms[row.spec_id][r+145:r+155,:],axis=0)\n",
    "    data[k,1200:1600] = x\n",
    "\n",
    "    # RESHAPE EEG SPECTROGRAMS 128x256x4 => 512x256\n",
    "    eeg_spec = np.zeros((512,256),dtype='float32')\n",
    "    xx = all_eegs[row.eeg_id]\n",
    "    for j in range(4): eeg_spec[128*j:128*(j+1),] = xx[:,:,j]\n",
    "\n",
    "    # 10 SECOND WINDOW FROM EEG SPECTROGRAMS \n",
    "    x = np.nanmean(eeg_spec.T[100:-100,:],axis=0)\n",
    "    data[k,1600:2112] = x\n",
    "    x = np.nanmin(eeg_spec.T[100:-100,:],axis=0)\n",
    "    data[k,2112:2624] = x\n",
    "    x = np.nanmax(eeg_spec.T[100:-100,:],axis=0)\n",
    "    data[k,2624:3136] = x\n",
    "    x = np.nanstd(eeg_spec.T[100:-100,:],axis=0)\n",
    "    data[k,3136:3648] = x\n",
    "\n",
    "train[FEATURES] = data\n",
    "print(); print('New train shape:',train.shape)"
   ]
  },
  {
   "cell_type": "code",
   "execution_count": 8,
   "id": "ec2cec65",
   "metadata": {
    "execution": {
     "iopub.execute_input": "2024-01-21T19:31:01.555022Z",
     "iopub.status.busy": "2024-01-21T19:31:01.554695Z",
     "iopub.status.idle": "2024-01-21T19:31:01.732272Z",
     "shell.execute_reply": "2024-01-21T19:31:01.731319Z"
    },
    "papermill": {
     "duration": 0.204387,
     "end_time": "2024-01-21T19:31:01.734369",
     "exception": false,
     "start_time": "2024-01-21T19:31:01.529982",
     "status": "completed"
    },
    "tags": []
   },
   "outputs": [
    {
     "data": {
      "text/plain": [
       "0"
      ]
     },
     "execution_count": 8,
     "metadata": {},
     "output_type": "execute_result"
    }
   ],
   "source": [
    "# FREE MEMORY\n",
    "del all_eegs, spectrograms, data\n",
    "gc.collect()"
   ]
  },
  {
   "cell_type": "markdown",
   "id": "933b2606",
   "metadata": {
    "papermill": {
     "duration": 0.023645,
     "end_time": "2024-01-21T19:31:01.782687",
     "exception": false,
     "start_time": "2024-01-21T19:31:01.759042",
     "status": "completed"
    },
    "tags": []
   },
   "source": [
    "# Train CatBoost\n",
    "We use the default settings for CatBoost which are pretty good. We can tune CatBoost manually to improve CV and LB score. Note that CatBoost will automatically use both Kaggle T4 GPUs (when we add parameter `task_type='GPU'`)  for super fast training!"
   ]
  },
  {
   "cell_type": "code",
   "execution_count": 9,
   "id": "9045855f",
   "metadata": {
    "execution": {
     "iopub.execute_input": "2024-01-21T19:31:01.829282Z",
     "iopub.status.busy": "2024-01-21T19:31:01.828990Z",
     "iopub.status.idle": "2024-01-21T19:31:04.675191Z",
     "shell.execute_reply": "2024-01-21T19:31:04.674121Z"
    },
    "papermill": {
     "duration": 2.871745,
     "end_time": "2024-01-21T19:31:04.677159",
     "exception": false,
     "start_time": "2024-01-21T19:31:01.805414",
     "status": "completed"
    },
    "tags": []
   },
   "outputs": [
    {
     "name": "stdout",
     "output_type": "stream",
     "text": [
      "CatBoost version 1.2.2\n"
     ]
    }
   ],
   "source": [
    "import catboost as cat\n",
    "from catboost import CatBoostClassifier, Pool\n",
    "print('CatBoost version',cat.__version__)"
   ]
  },
  {
   "cell_type": "code",
   "execution_count": 10,
   "id": "52192eb9",
   "metadata": {
    "execution": {
     "iopub.execute_input": "2024-01-21T19:31:04.770987Z",
     "iopub.status.busy": "2024-01-21T19:31:04.770052Z",
     "iopub.status.idle": "2024-01-21T19:39:25.820921Z",
     "shell.execute_reply": "2024-01-21T19:39:25.819185Z"
    },
    "papermill": {
     "duration": 501.077899,
     "end_time": "2024-01-21T19:39:25.823793",
     "exception": false,
     "start_time": "2024-01-21T19:31:04.745894",
     "status": "completed"
    },
    "tags": []
   },
   "outputs": [
    {
     "name": "stdout",
     "output_type": "stream",
     "text": [
      "#########################\n",
      "### Fold 1\n",
      "### train size 13671, valid size 3418\n",
      "#########################\n",
      "Learning rate set to 0.136945\n",
      "0:\tlearn: 1.6426886\ttest: 1.6701102\tbest: 1.6701102 (0)\ttotal: 521ms\tremaining: 8m 40s\n",
      "100:\tlearn: 0.7130798\ttest: 1.0630035\tbest: 1.0621470 (98)\ttotal: 10.5s\tremaining: 1m 33s\n",
      "200:\tlearn: 0.5675648\ttest: 1.0286192\tbest: 1.0284629 (190)\ttotal: 19.8s\tremaining: 1m 18s\n",
      "300:\tlearn: 0.4650768\ttest: 1.0160923\tbest: 1.0153918 (288)\ttotal: 29.4s\tremaining: 1m 8s\n",
      "400:\tlearn: 0.3877164\ttest: 1.0115106\tbest: 1.0102535 (381)\ttotal: 38.8s\tremaining: 57.9s\n",
      "500:\tlearn: 0.3292166\ttest: 1.0079141\tbest: 1.0045745 (460)\ttotal: 47.9s\tremaining: 47.7s\n",
      "600:\tlearn: 0.2807280\ttest: 1.0097705\tbest: 1.0045745 (460)\ttotal: 57.1s\tremaining: 37.9s\n",
      "700:\tlearn: 0.2430460\ttest: 1.0105179\tbest: 1.0045745 (460)\ttotal: 1m 6s\tremaining: 28.2s\n",
      "800:\tlearn: 0.2113588\ttest: 1.0114972\tbest: 1.0045745 (460)\ttotal: 1m 15s\tremaining: 18.7s\n",
      "900:\tlearn: 0.1849249\ttest: 1.0200345\tbest: 1.0045745 (460)\ttotal: 1m 24s\tremaining: 9.27s\n",
      "999:\tlearn: 0.1615176\ttest: 1.0223469\tbest: 1.0045745 (460)\ttotal: 1m 33s\tremaining: 0us\n",
      "bestTest = 1.00457453\n",
      "bestIteration = 460\n",
      "Shrink model to first 461 iterations.\n",
      "#########################\n",
      "### Fold 2\n",
      "### train size 13671, valid size 3418\n",
      "#########################\n",
      "Learning rate set to 0.136945\n",
      "0:\tlearn: 1.6393415\ttest: 1.6681862\tbest: 1.6681862 (0)\ttotal: 185ms\tremaining: 3m 4s\n",
      "100:\tlearn: 0.7118367\ttest: 1.0279275\tbest: 1.0279275 (100)\ttotal: 9.84s\tremaining: 1m 27s\n",
      "200:\tlearn: 0.5647651\ttest: 0.9981299\tbest: 0.9980850 (185)\ttotal: 19.2s\tremaining: 1m 16s\n",
      "300:\tlearn: 0.4634216\ttest: 0.9903147\tbest: 0.9885514 (255)\ttotal: 28.7s\tremaining: 1m 6s\n",
      "400:\tlearn: 0.3911844\ttest: 0.9866983\tbest: 0.9861653 (350)\ttotal: 38.5s\tremaining: 57.5s\n",
      "500:\tlearn: 0.3314433\ttest: 0.9828746\tbest: 0.9818803 (498)\ttotal: 47.9s\tremaining: 47.7s\n",
      "600:\tlearn: 0.2833431\ttest: 0.9837829\tbest: 0.9809676 (532)\ttotal: 57.1s\tremaining: 37.9s\n",
      "700:\tlearn: 0.2443703\ttest: 0.9887880\tbest: 0.9809676 (532)\ttotal: 1m 6s\tremaining: 28.4s\n",
      "800:\tlearn: 0.2130723\ttest: 0.9927492\tbest: 0.9809676 (532)\ttotal: 1m 15s\tremaining: 18.8s\n",
      "900:\tlearn: 0.1873785\ttest: 0.9976174\tbest: 0.9809676 (532)\ttotal: 1m 24s\tremaining: 9.33s\n",
      "999:\tlearn: 0.1634742\ttest: 1.0047401\tbest: 0.9809676 (532)\ttotal: 1m 34s\tremaining: 0us\n",
      "bestTest = 0.9809676026\n",
      "bestIteration = 532\n",
      "Shrink model to first 533 iterations.\n",
      "#########################\n",
      "### Fold 3\n",
      "### train size 13671, valid size 3418\n",
      "#########################\n",
      "Learning rate set to 0.136945\n",
      "0:\tlearn: 1.6476983\ttest: 1.6608725\tbest: 1.6608725 (0)\ttotal: 176ms\tremaining: 2m 56s\n",
      "100:\tlearn: 0.7252811\ttest: 0.9680754\tbest: 0.9680754 (100)\ttotal: 9.91s\tremaining: 1m 28s\n",
      "200:\tlearn: 0.5685809\ttest: 0.9335372\tbest: 0.9334565 (199)\ttotal: 19.6s\tremaining: 1m 17s\n",
      "300:\tlearn: 0.4693263\ttest: 0.9236540\tbest: 0.9236540 (300)\ttotal: 29.2s\tremaining: 1m 7s\n",
      "400:\tlearn: 0.3932024\ttest: 0.9216004\tbest: 0.9210019 (395)\ttotal: 38.7s\tremaining: 57.8s\n",
      "500:\tlearn: 0.3324683\ttest: 0.9210173\tbest: 0.9192444 (478)\ttotal: 47.7s\tremaining: 47.5s\n",
      "600:\tlearn: 0.2872014\ttest: 0.9248012\tbest: 0.9192444 (478)\ttotal: 56.9s\tremaining: 37.8s\n",
      "700:\tlearn: 0.2486566\ttest: 0.9246910\tbest: 0.9192444 (478)\ttotal: 1m 6s\tremaining: 28.3s\n",
      "800:\tlearn: 0.2147203\ttest: 0.9293684\tbest: 0.9192444 (478)\ttotal: 1m 15s\tremaining: 18.9s\n",
      "900:\tlearn: 0.1872398\ttest: 0.9315239\tbest: 0.9192444 (478)\ttotal: 1m 25s\tremaining: 9.37s\n",
      "999:\tlearn: 0.1650548\ttest: 0.9332130\tbest: 0.9192444 (478)\ttotal: 1m 34s\tremaining: 0us\n",
      "bestTest = 0.9192443812\n",
      "bestIteration = 478\n",
      "Shrink model to first 479 iterations.\n",
      "#########################\n",
      "### Fold 4\n",
      "### train size 13671, valid size 3418\n",
      "#########################\n",
      "Learning rate set to 0.136945\n",
      "0:\tlearn: 1.6416085\ttest: 1.6641302\tbest: 1.6641302 (0)\ttotal: 172ms\tremaining: 2m 51s\n",
      "100:\tlearn: 0.7060118\ttest: 1.0157619\tbest: 1.0157619 (100)\ttotal: 9.81s\tremaining: 1m 27s\n",
      "200:\tlearn: 0.5496337\ttest: 0.9903947\tbest: 0.9895174 (192)\ttotal: 19.5s\tremaining: 1m 17s\n",
      "300:\tlearn: 0.4531976\ttest: 0.9794194\tbest: 0.9788855 (269)\ttotal: 29.2s\tremaining: 1m 7s\n",
      "400:\tlearn: 0.3771825\ttest: 0.9743271\tbest: 0.9742905 (398)\ttotal: 38.6s\tremaining: 57.6s\n",
      "500:\tlearn: 0.3205687\ttest: 0.9774498\tbest: 0.9726727 (438)\ttotal: 47.8s\tremaining: 47.7s\n",
      "600:\tlearn: 0.2737231\ttest: 0.9823789\tbest: 0.9726727 (438)\ttotal: 57.4s\tremaining: 38.1s\n",
      "700:\tlearn: 0.2368994\ttest: 0.9844317\tbest: 0.9726727 (438)\ttotal: 1m 6s\tremaining: 28.6s\n",
      "800:\tlearn: 0.2063244\ttest: 0.9890421\tbest: 0.9726727 (438)\ttotal: 1m 15s\tremaining: 18.9s\n",
      "900:\tlearn: 0.1800887\ttest: 0.9929631\tbest: 0.9726727 (438)\ttotal: 1m 25s\tremaining: 9.34s\n",
      "999:\tlearn: 0.1588413\ttest: 0.9975229\tbest: 0.9726727 (438)\ttotal: 1m 34s\tremaining: 0us\n",
      "bestTest = 0.9726726784\n",
      "bestIteration = 438\n",
      "Shrink model to first 439 iterations.\n",
      "#########################\n",
      "### Fold 5\n",
      "### train size 13672, valid size 3417\n",
      "#########################\n",
      "Learning rate set to 0.136946\n",
      "0:\tlearn: 1.6434674\ttest: 1.6640746\tbest: 1.6640746 (0)\ttotal: 177ms\tremaining: 2m 56s\n",
      "100:\tlearn: 0.7165290\ttest: 1.0665983\tbest: 1.0665983 (100)\ttotal: 9.96s\tremaining: 1m 28s\n",
      "200:\tlearn: 0.5646620\ttest: 1.0267284\tbest: 1.0264874 (193)\ttotal: 19.6s\tremaining: 1m 17s\n",
      "300:\tlearn: 0.4646071\ttest: 1.0078035\tbest: 1.0072380 (297)\ttotal: 29s\tremaining: 1m 7s\n",
      "400:\tlearn: 0.3906164\ttest: 0.9974261\tbest: 0.9969491 (389)\ttotal: 38.4s\tremaining: 57.4s\n",
      "500:\tlearn: 0.3322025\ttest: 0.9942344\tbest: 0.9907466 (443)\ttotal: 47.8s\tremaining: 47.6s\n",
      "600:\tlearn: 0.2801781\ttest: 0.9934862\tbest: 0.9883603 (556)\ttotal: 57.4s\tremaining: 38.1s\n",
      "700:\tlearn: 0.2429540\ttest: 0.9955523\tbest: 0.9883603 (556)\ttotal: 1m 6s\tremaining: 28.5s\n",
      "800:\tlearn: 0.2115934\ttest: 0.9962286\tbest: 0.9883603 (556)\ttotal: 1m 16s\tremaining: 18.9s\n",
      "900:\tlearn: 0.1835305\ttest: 0.9976150\tbest: 0.9883603 (556)\ttotal: 1m 25s\tremaining: 9.38s\n",
      "999:\tlearn: 0.1615291\ttest: 0.9956934\tbest: 0.9883603 (556)\ttotal: 1m 34s\tremaining: 0us\n",
      "bestTest = 0.9883603438\n",
      "bestIteration = 556\n",
      "Shrink model to first 557 iterations.\n"
     ]
    }
   ],
   "source": [
    "from sklearn.model_selection import KFold, GroupKFold\n",
    "\n",
    "all_oof = []\n",
    "all_true = []\n",
    "TARS = {'Seizure':0, 'LPD':1, 'GPD':2, 'LRDA':3, 'GRDA':4, 'Other':5}\n",
    "\n",
    "gkf = GroupKFold(n_splits=5)\n",
    "for i, (train_index, valid_index) in enumerate(gkf.split(train, train.target, train.patient_id)):   \n",
    "    \n",
    "    print('#'*25)\n",
    "    print(f'### Fold {i+1}')\n",
    "    print(f'### train size {len(train_index)}, valid size {len(valid_index)}')\n",
    "    print('#'*25)\n",
    "    \n",
    "    model = CatBoostClassifier(task_type='GPU',\n",
    "                               loss_function='MultiClass')\n",
    "    \n",
    "    train_pool = Pool(\n",
    "        data = train.loc[train_index,FEATURES],\n",
    "        label = train.loc[train_index,'target'].map(TARS),\n",
    "    )\n",
    "    \n",
    "    valid_pool = Pool(\n",
    "        data = train.loc[valid_index,FEATURES],\n",
    "        label = train.loc[valid_index,'target'].map(TARS),\n",
    "    )\n",
    "    \n",
    "    model.fit(train_pool,\n",
    "             verbose=100,\n",
    "             eval_set=valid_pool,\n",
    "             )\n",
    "    model.save_model(f'CAT_v{VER}_f{i}.cat')\n",
    "    \n",
    "    oof = model.predict_proba(valid_pool)\n",
    "    all_oof.append(oof)\n",
    "    all_true.append(train.loc[valid_index, TARGETS].values)\n",
    "    \n",
    "    del train_pool, valid_pool, oof #model\n",
    "    gc.collect()\n",
    "    \n",
    "    #break\n",
    "    \n",
    "all_oof = np.concatenate(all_oof)\n",
    "all_true = np.concatenate(all_true)"
   ]
  },
  {
   "cell_type": "markdown",
   "id": "8c2c087c",
   "metadata": {
    "papermill": {
     "duration": 0.044776,
     "end_time": "2024-01-21T19:39:25.912119",
     "exception": false,
     "start_time": "2024-01-21T19:39:25.867343",
     "status": "completed"
    },
    "tags": []
   },
   "source": [
    "# Feature Importance\n",
    "Below we display the CatBoost top 25 feature importance for the last fold we trained."
   ]
  },
  {
   "cell_type": "code",
   "execution_count": 11,
   "id": "51880757",
   "metadata": {
    "execution": {
     "iopub.execute_input": "2024-01-21T19:39:26.012268Z",
     "iopub.status.busy": "2024-01-21T19:39:26.011843Z",
     "iopub.status.idle": "2024-01-21T19:39:26.691094Z",
     "shell.execute_reply": "2024-01-21T19:39:26.690116Z"
    },
    "papermill": {
     "duration": 0.730318,
     "end_time": "2024-01-21T19:39:26.693145",
     "exception": false,
     "start_time": "2024-01-21T19:39:25.962827",
     "status": "completed"
    },
    "tags": []
   },
   "outputs": [
    {
     "data": {
      "image/png": "[encoded data removed]",
      "text/plain": [
       "<Figure size 1000x800 with 1 Axes>"
      ]
     },
     "metadata": {},
     "output_type": "display_data"
    }
   ],
   "source": [
    "TOP = 25\n",
    "\n",
    "feature_importance = model.feature_importances_\n",
    "sorted_idx = np.argsort(feature_importance)\n",
    "fig = plt.figure(figsize=(10, 8))\n",
    "plt.barh(np.arange(len(sorted_idx))[-TOP:], feature_importance[sorted_idx][-TOP:], align='center')\n",
    "plt.yticks(np.arange(len(sorted_idx))[-TOP:], np.array(FEATURES)[sorted_idx][-TOP:])\n",
    "plt.title(f'Feature Importance - Top {TOP}')\n",
    "plt.show()"
   ]
  },
  {
   "cell_type": "markdown",
   "id": "baf87f02",
   "metadata": {
    "papermill": {
     "duration": 0.033808,
     "end_time": "2024-01-21T19:39:26.758305",
     "exception": false,
     "start_time": "2024-01-21T19:39:26.724497",
     "status": "completed"
    },
    "tags": []
   },
   "source": [
    "# CV Score for CatBoost\n",
    "This is CV score for our CatBoost model."
   ]
  },
  {
   "cell_type": "code",
   "execution_count": 12,
   "id": "a01c2aa2",
   "metadata": {
    "execution": {
     "iopub.execute_input": "2024-01-21T19:39:26.820086Z",
     "iopub.status.busy": "2024-01-21T19:39:26.819758Z",
     "iopub.status.idle": "2024-01-21T19:39:26.920381Z",
     "shell.execute_reply": "2024-01-21T19:39:26.919285Z"
    },
    "papermill": {
     "duration": 0.133069,
     "end_time": "2024-01-21T19:39:26.922606",
     "exception": false,
     "start_time": "2024-01-21T19:39:26.789537",
     "status": "completed"
    },
    "tags": []
   },
   "outputs": [
    {
     "name": "stdout",
     "output_type": "stream",
     "text": [
      "CV Score KL-Div for CatBoost = 0.7437771430112271\n"
     ]
    }
   ],
   "source": [
    "import sys\n",
    "sys.path.append('/kaggle/input/kaggle-kl-div')\n",
    "from kaggle_kl_div import score\n",
    "\n",
    "oof = pd.DataFrame(all_oof.copy())\n",
    "oof['id'] = np.arange(len(oof))\n",
    "\n",
    "true = pd.DataFrame(all_true.copy())\n",
    "true['id'] = np.arange(len(true))\n",
    "\n",
    "cv = score(solution=true, submission=oof, row_id_column_name='id')\n",
    "print('CV Score KL-Div for CatBoost =',cv)"
   ]
  },
  {
   "cell_type": "markdown",
   "id": "c1c8f89e",
   "metadata": {
    "papermill": {
     "duration": 0.030522,
     "end_time": "2024-01-21T19:39:26.984889",
     "exception": false,
     "start_time": "2024-01-21T19:39:26.954367",
     "status": "completed"
    },
    "tags": []
   },
   "source": [
    "# CV Score for Preds 1/6\n",
    "This is CV score for Kaggle's sample submission.csv which uses equal predictions of 1/6 for all targets."
   ]
  },
  {
   "cell_type": "code",
   "execution_count": 13,
   "id": "8b0d5f0b",
   "metadata": {
    "execution": {
     "iopub.execute_input": "2024-01-21T19:39:27.043484Z",
     "iopub.status.busy": "2024-01-21T19:39:27.042629Z",
     "iopub.status.idle": "2024-01-21T19:39:27.096423Z",
     "shell.execute_reply": "2024-01-21T19:39:27.095459Z"
    },
    "papermill": {
     "duration": 0.084782,
     "end_time": "2024-01-21T19:39:27.098240",
     "exception": false,
     "start_time": "2024-01-21T19:39:27.013458",
     "status": "completed"
    },
    "tags": []
   },
   "outputs": [
    {
     "name": "stdout",
     "output_type": "stream",
     "text": [
      "CV Score for \"Use Equal Preds 1/6\" = 1.4563246139800803\n"
     ]
    }
   ],
   "source": [
    "oof = pd.DataFrame(all_oof.copy())\n",
    "for c in oof.columns:\n",
    "    oof[c] = 1/6.\n",
    "oof['id'] = np.arange(len(oof))\n",
    "\n",
    "true = pd.DataFrame(all_true.copy())\n",
    "true['id'] = np.arange(len(true))\n",
    "\n",
    "cv = score(solution=true, submission=oof, row_id_column_name='id')\n",
    "print('CV Score for \"Use Equal Preds 1/6\" =',cv)"
   ]
  },
  {
   "cell_type": "markdown",
   "id": "a875308e",
   "metadata": {
    "papermill": {
     "duration": 0.030228,
     "end_time": "2024-01-21T19:39:27.157544",
     "exception": false,
     "start_time": "2024-01-21T19:39:27.127316",
     "status": "completed"
    },
    "tags": []
   },
   "source": [
    "# CV Score for EEG_Id Means\n",
    "This is CV score for current highest scoring public notebook [here][1] which uses train means as predictions.\n",
    "\n",
    "[1]: https://www.kaggle.com/code/seshurajup/eda-train-csv"
   ]
  },
  {
   "cell_type": "code",
   "execution_count": 14,
   "id": "54737bd3",
   "metadata": {
    "execution": {
     "iopub.execute_input": "2024-01-21T19:39:27.218416Z",
     "iopub.status.busy": "2024-01-21T19:39:27.217611Z",
     "iopub.status.idle": "2024-01-21T19:39:29.537290Z",
     "shell.execute_reply": "2024-01-21T19:39:29.536287Z"
    },
    "papermill": {
     "duration": 2.352635,
     "end_time": "2024-01-21T19:39:29.540454",
     "exception": false,
     "start_time": "2024-01-21T19:39:27.187819",
     "status": "completed"
    },
    "tags": []
   },
   "outputs": [],
   "source": [
    "all_oof2 = []\n",
    "\n",
    "gkf = GroupKFold(n_splits=5)\n",
    "for i, (train_index, valid_index) in enumerate(gkf.split(train, train.target, train.patient_id)):  \n",
    "    #print('#'*25)\n",
    "    #print(f'### Fold {i+1}')\n",
    "        \n",
    "    y_train = train.iloc[train_index][TARGETS].values\n",
    "    y_valid = train.iloc[valid_index][TARGETS].values\n",
    "    \n",
    "    #print(f'### train size {len(train_index)}, valid size {len(valid_index)}')\n",
    "    #print('#'*25)\n",
    "        \n",
    "    oof = y_valid.copy()\n",
    "    for j in range(6):\n",
    "        oof[:,j] = y_train[:,j].mean()\n",
    "    oof = oof / oof.sum(axis=1,keepdims=True)\n",
    "    all_oof2.append(oof)\n",
    "    \n",
    "all_oof2 = np.concatenate(all_oof2)"
   ]
  },
  {
   "cell_type": "code",
   "execution_count": 15,
   "id": "c523d9c1",
   "metadata": {
    "execution": {
     "iopub.execute_input": "2024-01-21T19:39:29.603345Z",
     "iopub.status.busy": "2024-01-21T19:39:29.602662Z",
     "iopub.status.idle": "2024-01-21T19:39:29.664127Z",
     "shell.execute_reply": "2024-01-21T19:39:29.663103Z"
    },
    "papermill": {
     "duration": 0.095992,
     "end_time": "2024-01-21T19:39:29.666349",
     "exception": false,
     "start_time": "2024-01-21T19:39:29.570357",
     "status": "completed"
    },
    "tags": []
   },
   "outputs": [
    {
     "name": "stdout",
     "output_type": "stream",
     "text": [
      "CV Score for \"Use Train Means\" = 1.2641160568651757\n"
     ]
    }
   ],
   "source": [
    "oof = pd.DataFrame(all_oof2.copy())\n",
    "oof['id'] = np.arange(len(oof))\n",
    "\n",
    "true = pd.DataFrame(all_true.copy())\n",
    "true['id'] = np.arange(len(true))\n",
    "\n",
    "cv = score(solution=true, submission=oof, row_id_column_name='id')\n",
    "print('CV Score for \"Use Train Means\" =',cv)"
   ]
  },
  {
   "cell_type": "markdown",
   "id": "5028aebc",
   "metadata": {
    "papermill": {
     "duration": 0.030334,
     "end_time": "2024-01-21T19:39:29.727251",
     "exception": false,
     "start_time": "2024-01-21T19:39:29.696917",
     "status": "completed"
    },
    "tags": []
   },
   "source": [
    "# Infer Test and Create Submission CSV\n",
    "Below we use our 5 CatBoost fold models to infer the test data and create a `submission.csv` file."
   ]
  },
  {
   "cell_type": "code",
   "execution_count": 16,
   "id": "6e3a62f5",
   "metadata": {
    "execution": {
     "iopub.execute_input": "2024-01-21T19:39:29.793215Z",
     "iopub.status.busy": "2024-01-21T19:39:29.792849Z",
     "iopub.status.idle": "2024-01-21T19:39:29.887031Z",
     "shell.execute_reply": "2024-01-21T19:39:29.886013Z"
    },
    "papermill": {
     "duration": 0.129708,
     "end_time": "2024-01-21T19:39:29.889636",
     "exception": false,
     "start_time": "2024-01-21T19:39:29.759928",
     "status": "completed"
    },
    "tags": []
   },
   "outputs": [
    {
     "name": "stdout",
     "output_type": "stream",
     "text": [
      "Test shape (1, 3)\n"
     ]
    },
    {
     "data": {
      "text/html": [
       "<div>\n",
       "<style scoped>\n",
       "    .dataframe tbody tr th:only-of-type {\n",
       "        vertical-align: middle;\n",
       "    }\n",
       "\n",
       "    .dataframe tbody tr th {\n",
       "        vertical-align: top;\n",
       "    }\n",
       "\n",
       "    .dataframe thead th {\n",
       "        text-align: right;\n",
       "    }\n",
       "</style>\n",
       "<table border=\"1\" class=\"dataframe\">\n",
       "  <thead>\n",
       "    <tr style=\"text-align: right;\">\n",
       "      <th></th>\n",
       "      <th>spectrogram_id</th>\n",
       "      <th>eeg_id</th>\n",
       "      <th>patient_id</th>\n",
       "    </tr>\n",
       "  </thead>\n",
       "  <tbody>\n",
       "    <tr>\n",
       "      <th>0</th>\n",
       "      <td>853520</td>\n",
       "      <td>3911565283</td>\n",
       "      <td>6885</td>\n",
       "    </tr>\n",
       "  </tbody>\n",
       "</table>\n",
       "</div>"
      ],
      "text/plain": [
       "   spectrogram_id      eeg_id  patient_id\n",
       "0          853520  3911565283        6885"
      ]
     },
     "execution_count": 16,
     "metadata": {},
     "output_type": "execute_result"
    }
   ],
   "source": [
    "del train; gc.collect()\n",
    "test = pd.read_csv('/kaggle/input/hms-harmful-brain-activity-classification/test.csv')\n",
    "print('Test shape',test.shape)\n",
    "test.head()"
   ]
  },
  {
   "cell_type": "code",
   "execution_count": 17,
   "id": "ae565944",
   "metadata": {
    "_kg_hide-input": true,
    "execution": {
     "iopub.execute_input": "2024-01-21T19:39:29.955503Z",
     "iopub.status.busy": "2024-01-21T19:39:29.955145Z",
     "iopub.status.idle": "2024-01-21T19:39:30.175417Z",
     "shell.execute_reply": "2024-01-21T19:39:30.174396Z"
    },
    "papermill": {
     "duration": 0.254197,
     "end_time": "2024-01-21T19:39:30.177693",
     "exception": false,
     "start_time": "2024-01-21T19:39:29.923496",
     "status": "completed"
    },
    "tags": []
   },
   "outputs": [],
   "source": [
    "import pywt, librosa\n",
    "\n",
    "USE_WAVELET = None \n",
    "\n",
    "NAMES = ['LL','LP','RP','RR']\n",
    "\n",
    "FEATS = [['Fp1','F7','T3','T5','O1'],\n",
    "         ['Fp1','F3','C3','P3','O1'],\n",
    "         ['Fp2','F8','T4','T6','O2'],\n",
    "         ['Fp2','F4','C4','P4','O2']]\n",
    "\n",
    "# DENOISE FUNCTION\n",
    "def maddest(d, axis=None):\n",
    "    return np.mean(np.absolute(d - np.mean(d, axis)), axis)\n",
    "\n",
    "def denoise(x, wavelet='haar', level=1):    \n",
    "    coeff = pywt.wavedec(x, wavelet, mode=\"per\")\n",
    "    sigma = (1/0.6745) * maddest(coeff[-level])\n",
    "\n",
    "    uthresh = sigma * np.sqrt(2*np.log(len(x)))\n",
    "    coeff[1:] = (pywt.threshold(i, value=uthresh, mode='hard') for i in coeff[1:])\n",
    "\n",
    "    ret=pywt.waverec(coeff, wavelet, mode='per')\n",
    "    \n",
    "    return ret\n",
    "\n",
    "def spectrogram_from_eeg(parquet_path, display=False):\n",
    "    \n",
    "    # LOAD MIDDLE 50 SECONDS OF EEG SERIES\n",
    "    eeg = pd.read_parquet(parquet_path)\n",
    "    middle = (len(eeg)-10_000)//2\n",
    "    eeg = eeg.iloc[middle:middle+10_000]\n",
    "    \n",
    "    # VARIABLE TO HOLD SPECTROGRAM\n",
    "    img = np.zeros((128,256,4),dtype='float32')\n",
    "    \n",
    "    if display: plt.figure(figsize=(10,7))\n",
    "    signals = []\n",
    "    for k in range(4):\n",
    "        COLS = FEATS[k]\n",
    "        \n",
    "        for kk in range(4):\n",
    "        \n",
    "            # COMPUTE PAIR DIFFERENCES\n",
    "            x = eeg[COLS[kk]].values - eeg[COLS[kk+1]].values\n",
    "\n",
    "            # FILL NANS\n",
    "            m = np.nanmean(x)\n",
    "            if np.isnan(x).mean()<1: x = np.nan_to_num(x,nan=m)\n",
    "            else: x[:] = 0\n",
    "\n",
    "            # DENOISE\n",
    "            if USE_WAVELET:\n",
    "                x = denoise(x, wavelet=USE_WAVELET)\n",
    "            signals.append(x)\n",
    "\n",
    "            # RAW SPECTROGRAM\n",
    "            mel_spec = librosa.feature.melspectrogram(y=x, sr=200, hop_length=len(x)//256, \n",
    "                  n_fft=1024, n_mels=128, fmin=0, fmax=20, win_length=128)\n",
    "\n",
    "            # LOG TRANSFORM\n",
    "            width = (mel_spec.shape[1]//32)*32\n",
    "            mel_spec_db = librosa.power_to_db(mel_spec, ref=np.max).astype(np.float32)[:,:width]\n",
    "\n",
    "            # STANDARDIZE TO -1 TO 1\n",
    "            mel_spec_db = (mel_spec_db+40)/40 \n",
    "            img[:,:,k] += mel_spec_db\n",
    "                \n",
    "        # AVERAGE THE 4 MONTAGE DIFFERENCES\n",
    "        img[:,:,k] /= 4.0\n",
    "        \n",
    "        if display:\n",
    "            plt.subplot(2,2,k+1)\n",
    "            plt.imshow(img[:,:,k],aspect='auto',origin='lower')\n",
    "            plt.title(f'EEG {eeg_id} - Spectrogram {NAMES[k]}')\n",
    "            \n",
    "    if display: \n",
    "        plt.show()\n",
    "        plt.figure(figsize=(10,5))\n",
    "        offset = 0\n",
    "        for k in range(4):\n",
    "            if k>0: offset -= signals[3-k].min()\n",
    "            plt.plot(range(10_000),signals[k]+offset,label=NAMES[3-k])\n",
    "            offset += signals[3-k].max()\n",
    "        plt.legend()\n",
    "        plt.title(f'EEG {eeg_id} Signals')\n",
    "        plt.show()\n",
    "        print(); print('#'*25); print()\n",
    "        \n",
    "    return img"
   ]
  },
  {
   "cell_type": "code",
   "execution_count": 18,
   "id": "983b9fd8",
   "metadata": {
    "execution": {
     "iopub.execute_input": "2024-01-21T19:39:30.241661Z",
     "iopub.status.busy": "2024-01-21T19:39:30.241332Z",
     "iopub.status.idle": "2024-01-21T19:39:40.537707Z",
     "shell.execute_reply": "2024-01-21T19:39:40.536282Z"
    },
    "papermill": {
     "duration": 10.332191,
     "end_time": "2024-01-21T19:39:40.541638",
     "exception": false,
     "start_time": "2024-01-21T19:39:30.209447",
     "status": "completed"
    },
    "tags": []
   },
   "outputs": [
    {
     "name": "stdout",
     "output_type": "stream",
     "text": [
      "Converting Test EEG to Spectrograms...\n",
      "\n"
     ]
    }
   ],
   "source": [
    "# CREATE ALL EEG SPECTROGRAMS\n",
    "PATH2 = '/kaggle/input/hms-harmful-brain-activity-classification/test_eegs/'\n",
    "DISPLAY = 0\n",
    "EEG_IDS2 = test.eeg_id.unique()\n",
    "all_eegs2 = {}\n",
    "\n",
    "print('Converting Test EEG to Spectrograms...'); print()\n",
    "for i,eeg_id in enumerate(EEG_IDS2):\n",
    "        \n",
    "    # CREATE SPECTROGRAM FROM EEG PARQUET\n",
    "    img = spectrogram_from_eeg(f'{PATH2}{eeg_id}.parquet', i<DISPLAY)\n",
    "    all_eegs2[eeg_id] = img"
   ]
  },
  {
   "cell_type": "code",
   "execution_count": 19,
   "id": "9bf6fd47",
   "metadata": {
    "execution": {
     "iopub.execute_input": "2024-01-21T19:39:40.672179Z",
     "iopub.status.busy": "2024-01-21T19:39:40.671686Z",
     "iopub.status.idle": "2024-01-21T19:39:44.069661Z",
     "shell.execute_reply": "2024-01-21T19:39:44.068744Z"
    },
    "papermill": {
     "duration": 3.462908,
     "end_time": "2024-01-21T19:39:44.072002",
     "exception": false,
     "start_time": "2024-01-21T19:39:40.609094",
     "status": "completed"
    },
    "tags": []
   },
   "outputs": [
    {
     "name": "stdout",
     "output_type": "stream",
     "text": [
      "New test shape (1, 3651)\n"
     ]
    }
   ],
   "source": [
    "# FEATURE ENGINEER TEST\n",
    "PATH2 = '/kaggle/input/hms-harmful-brain-activity-classification/test_spectrograms/'\n",
    "data = np.zeros((len(test),len(FEATURES)))\n",
    "    \n",
    "for k in range(len(test)):\n",
    "    row = test.iloc[k]\n",
    "    s = int( row.spectrogram_id )\n",
    "    spec = pd.read_parquet(f'{PATH2}{s}.parquet')\n",
    "    \n",
    "    # 10 MINUTE WINDOW FEATURES\n",
    "    x = np.nanmean( spec.iloc[:,1:].values, axis=0)\n",
    "    data[k,:400] = x\n",
    "    x = np.nanmin( spec.iloc[:,1:].values, axis=0)\n",
    "    data[k,400:800] = x\n",
    "\n",
    "    # 20 SECOND WINDOW FEATURES\n",
    "    x = np.nanmean( spec.iloc[145:155,1:].values, axis=0)\n",
    "    data[k,800:1200] = x\n",
    "    x = np.nanmin( spec.iloc[145:155,1:].values, axis=0)\n",
    "    data[k,1200:1600] = x\n",
    "    \n",
    "    # RESHAPE EEG SPECTROGRAMS 128x256x4 => 512x256\n",
    "    eeg_spec = np.zeros((512,256),dtype='float32')\n",
    "    xx = all_eegs2[row.eeg_id]\n",
    "    for j in range(4): eeg_spec[128*j:128*(j+1),] = xx[:,:,j]\n",
    "\n",
    "    # 10 SECOND WINDOW FROM EEG SPECTROGRAMS \n",
    "    x = np.nanmean(eeg_spec.T[100:-100,:],axis=0)\n",
    "    data[k,1600:2112] = x\n",
    "    x = np.nanmin(eeg_spec.T[100:-100,:],axis=0)\n",
    "    data[k,2112:2624] = x\n",
    "    x = np.nanmax(eeg_spec.T[100:-100,:],axis=0)\n",
    "    data[k,2624:3136] = x\n",
    "    x = np.nanstd(eeg_spec.T[100:-100,:],axis=0)\n",
    "    data[k,3136:3648] = x\n",
    "\n",
    "test[FEATURES] = data\n",
    "print('New test shape',test.shape)"
   ]
  },
  {
   "cell_type": "code",
   "execution_count": 20,
   "id": "b5acf712",
   "metadata": {
    "execution": {
     "iopub.execute_input": "2024-01-21T19:39:44.133953Z",
     "iopub.status.busy": "2024-01-21T19:39:44.133643Z",
     "iopub.status.idle": "2024-01-21T19:39:46.209095Z",
     "shell.execute_reply": "2024-01-21T19:39:46.207987Z"
    },
    "papermill": {
     "duration": 2.108515,
     "end_time": "2024-01-21T19:39:46.211142",
     "exception": false,
     "start_time": "2024-01-21T19:39:44.102627",
     "status": "completed"
    },
    "tags": []
   },
   "outputs": [
    {
     "name": "stdout",
     "output_type": "stream",
     "text": [
      "0 , 1 , 2 , 3 , 4 , \n",
      "Test preds shape (1, 6)\n"
     ]
    }
   ],
   "source": [
    "# INFER CATBOOST ON TEST\n",
    "preds = []\n",
    "\n",
    "for i in range(5):\n",
    "    print(i,', ',end='')\n",
    "    model = CatBoostClassifier(task_type='GPU')\n",
    "    model.load_model(f'CAT_v{VER}_f{i}.cat')\n",
    "    \n",
    "    test_pool = Pool(\n",
    "        data = test[FEATURES]\n",
    "    )\n",
    "    \n",
    "    pred = model.predict_proba(test_pool)\n",
    "    preds.append(pred)\n",
    "pred = np.mean(preds,axis=0)\n",
    "print()\n",
    "print('Test preds shape',pred.shape)"
   ]
  },
  {
   "cell_type": "code",
   "execution_count": 21,
   "id": "f967e215",
   "metadata": {
    "execution": {
     "iopub.execute_input": "2024-01-21T19:39:46.275001Z",
     "iopub.status.busy": "2024-01-21T19:39:46.274663Z",
     "iopub.status.idle": "2024-01-21T19:39:46.303428Z",
     "shell.execute_reply": "2024-01-21T19:39:46.302456Z"
    },
    "papermill": {
     "duration": 0.063052,
     "end_time": "2024-01-21T19:39:46.305584",
     "exception": false,
     "start_time": "2024-01-21T19:39:46.242532",
     "status": "completed"
    },
    "tags": []
   },
   "outputs": [
    {
     "name": "stdout",
     "output_type": "stream",
     "text": [
      "Submissionn shape (1, 7)\n"
     ]
    },
    {
     "data": {
      "text/html": [
       "<div>\n",
       "<style scoped>\n",
       "    .dataframe tbody tr th:only-of-type {\n",
       "        vertical-align: middle;\n",
       "    }\n",
       "\n",
       "    .dataframe tbody tr th {\n",
       "        vertical-align: top;\n",
       "    }\n",
       "\n",
       "    .dataframe thead th {\n",
       "        text-align: right;\n",
       "    }\n",
       "</style>\n",
       "<table border=\"1\" class=\"dataframe\">\n",
       "  <thead>\n",
       "    <tr style=\"text-align: right;\">\n",
       "      <th></th>\n",
       "      <th>eeg_id</th>\n",
       "      <th>seizure_vote</th>\n",
       "      <th>lpd_vote</th>\n",
       "      <th>gpd_vote</th>\n",
       "      <th>lrda_vote</th>\n",
       "      <th>grda_vote</th>\n",
       "      <th>other_vote</th>\n",
       "    </tr>\n",
       "  </thead>\n",
       "  <tbody>\n",
       "    <tr>\n",
       "      <th>0</th>\n",
       "      <td>3911565283</td>\n",
       "      <td>0.3007</td>\n",
       "      <td>0.007862</td>\n",
       "      <td>0.00048</td>\n",
       "      <td>0.197648</td>\n",
       "      <td>0.147446</td>\n",
       "      <td>0.345865</td>\n",
       "    </tr>\n",
       "  </tbody>\n",
       "</table>\n",
       "</div>"
      ],
      "text/plain": [
       "       eeg_id  seizure_vote  lpd_vote  gpd_vote  lrda_vote  grda_vote  \\\n",
       "0  3911565283        0.3007  0.007862   0.00048   0.197648   0.147446   \n",
       "\n",
       "   other_vote  \n",
       "0    0.345865  "
      ]
     },
     "execution_count": 21,
     "metadata": {},
     "output_type": "execute_result"
    }
   ],
   "source": [
    "sub = pd.DataFrame({'eeg_id':test.eeg_id.values})\n",
    "sub[TARGETS] = pred\n",
    "sub.to_csv('submission.csv',index=False)\n",
    "print('Submissionn shape',sub.shape)\n",
    "sub.head()"
   ]
  },
  {
   "cell_type": "code",
   "execution_count": 22,
   "id": "1f3d047c",
   "metadata": {
    "execution": {
     "iopub.execute_input": "2024-01-21T19:39:46.371877Z",
     "iopub.status.busy": "2024-01-21T19:39:46.371595Z",
     "iopub.status.idle": "2024-01-21T19:39:46.386628Z",
     "shell.execute_reply": "2024-01-21T19:39:46.385626Z"
    },
    "papermill": {
     "duration": 0.05093,
     "end_time": "2024-01-21T19:39:46.389002",
     "exception": false,
     "start_time": "2024-01-21T19:39:46.338072",
     "status": "completed"
    },
    "tags": []
   },
   "outputs": [
    {
     "data": {
      "text/plain": [
       "0    1.0\n",
       "dtype: float64"
      ]
     },
     "execution_count": 22,
     "metadata": {},
     "output_type": "execute_result"
    }
   ],
   "source": [
    "# SANITY CHECK TO CONFIRM PREDICTIONS SUM TO ONE\n",
    "sub.iloc[:,-6:].sum(axis=1)"
   ]
  }
 ],
 "metadata": {
  "kaggle": {
   "accelerator": "nvidiaTeslaT4",
   "dataSources": [
    {
     "databundleVersionId": 7469972,
     "sourceId": 59093,
     "sourceType": "competition"
    },
    {
     "datasetId": 4297749,
     "sourceId": 7392733,
     "sourceType": "datasetVersion"
    },
    {
     "datasetId": 4297782,
     "sourceId": 7392775,
     "sourceType": "datasetVersion"
    },
    {
     "datasetId": 4334995,
     "sourceId": 7447509,
     "sourceType": "datasetVersion"
    }
   ],
   "dockerImageVersionId": 30636,
   "isGpuEnabled": true,
   "isInternetEnabled": false,
   "language": "python",
   "sourceType": "notebook"
  },
  "kernelspec": {
   "display_name": "Python 3",
   "language": "python",
   "name": "python3"
  },
  "language_info": {
   "codemirror_mode": {
    "name": "ipython",
    "version": 3
   },
   "file_extension": ".py",
   "mimetype": "text/x-python",
   "name": "python",
   "nbconvert_exporter": "python",
   "pygments_lexer": "ipython3",
   "version": "3.10.12"
  },
  "papermill": {
   "default_parameters": {},
   "duration": 754.836884,
   "end_time": "2024-01-21T19:39:48.765853",
   "environment_variables": {},
   "exception": null,
   "input_path": "__notebook__.ipynb",
   "output_path": "__notebook__.ipynb",
   "parameters": {},
   "start_time": "2024-01-21T19:27:13.928969",
   "version": "2.4.0"
  }
 },
 "nbformat": 4,
 "nbformat_minor": 5
}
