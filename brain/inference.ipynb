{
 "cells": [
  {
   "cell_type": "code",
   "execution_count": null,
   "metadata": {},
   "outputs": [],
   "source": [
    "import os\n",
    "\n",
    "\n",
    "def main(data_folder=\"./data\"):\n",
    "    print(\"Hello Brainer!\")\n",
    "    # Download the dataset\n",
    "    # XYZ\n",
    "\n",
    "    # Process the dataset\n",
    "    # XYZ\n",
    "\n",
    "    # Launch the training\n",
    "    # XYZ\n",
    "\n",
    "    # Test the model\n",
    "    # XYZ\n",
    "\n",
    "\n",
    "if __name__ == \"__main__\":\n",
    "    main(data_folder=\"./data\")\n",
    "    print(\"All done!\")\n"
   ]
  }
 ],
 "metadata": {
  "language_info": {
   "name": "python"
  }
 },
 "nbformat": 4,
 "nbformat_minor": 2
}
