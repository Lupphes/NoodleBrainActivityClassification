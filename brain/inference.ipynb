{
 "cells": [
  {
   "cell_type": "code",
   "execution_count": 8,
   "metadata": {},
   "outputs": [
    {
     "name": "stdout",
     "output_type": "stream",
     "text": [
      "   spectrogram_id      eeg_id  patient_id\n",
      "0          853520  3911565283        6885\n",
      "All done!\n"
     ]
    }
   ],
   "source": [
    "import os\n",
    "import pandas as pd\n",
    "import numpy as np\n",
    "import torch\n",
    "from brain_solver.preprocessing import preprocess_eeg_data\n",
    "\n",
    "# define the model\n",
    "class NoNa_Resnet(torch.nn.Module):\n",
    "    \n",
    "    def __init__(self):\n",
    "        super(NeuralNetwork, self).__init__()\n",
    "        # Define your model layers here\n",
    "\n",
    "    def forward(self, x):\n",
    "        None\n",
    "        # Implement the forward pass\n",
    "        # ...\n",
    "\n",
    "def load_model(model_path):\n",
    "    model = NoNa_Resnet()\n",
    "    model.load_state_dict(torch.load(model_path))\n",
    "    model.eval()  # Set the model to evaluation mode\n",
    "    return model\n",
    "\n",
    "def main(data_folder=\"./data\"):\n",
    "    # Download the dataset\n",
    "    df = pd.read_csv(data_folder + \"/test.csv\")\n",
    "    print(df)\n",
    "\n",
    "    for spec_id in df[\"spectrogram_id\"]:\n",
    "        spec = pd.read_parquet(data_folder + f\"test_spectrograms/{spec_id}.parquet\")\n",
    "        \n",
    "        spec_arr = spec.fillna(0).values[:, 1:].T.astype(\"float32\")  # (Hz, Time) = (400, 300)\n",
    "        \n",
    "        np.save(data_folder + f\"spec_as_numpy/{spec_id}.npy\", spec_arr)\n",
    "\n",
    "    # Process the dataset\n",
    "    #preprocess_eeg_data(df, TARGETS, consensus_col='expert_consensus')\n",
    "\n",
    "    # Launch the training\n",
    "    # XYZ\n",
    "\n",
    "    # Test the model\n",
    "    # XYZ\n",
    "\n",
    "if __name__ == \"__main__\":\n",
    "    main(data_folder=\"./data/\")\n",
    "    print(\"All done!\")\n"
   ]
  }
 ],
 "metadata": {
  "kernelspec": {
   "display_name": "Python 3",
   "language": "python",
   "name": "python3"
  },
  "language_info": {
   "codemirror_mode": {
    "name": "ipython",
    "version": 3
   },
   "file_extension": ".py",
   "mimetype": "text/x-python",
   "name": "python",
   "nbconvert_exporter": "python",
   "pygments_lexer": "ipython3",
   "version": "3.10.0"
  }
 },
 "nbformat": 4,
 "nbformat_minor": 2
}
