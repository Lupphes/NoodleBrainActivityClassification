{
 "cells": [
  {
   "cell_type": "code",
   "execution_count": 11,
   "metadata": {},
   "outputs": [
    {
     "name": "stdout",
     "output_type": "stream",
     "text": [
      "   spectrogram_id      eeg_id  patient_id\n",
      "0          853520  3911565283        6885\n"
     ]
    },
    {
     "ename": "AttributeError",
     "evalue": "module 'torchvision.models' has no attribute 'NoNa_Resnet'",
     "output_type": "error",
     "traceback": [
      "\u001b[1;31m---------------------------------------------------------------------------\u001b[0m",
      "\u001b[1;31mAttributeError\u001b[0m                            Traceback (most recent call last)",
      "Cell \u001b[1;32mIn[11], line 43\u001b[0m\n\u001b[0;32m     40\u001b[0m     \u001b[38;5;28mprint\u001b[39m(predictions)\n\u001b[0;32m     42\u001b[0m \u001b[38;5;28;01mif\u001b[39;00m \u001b[38;5;18m__name__\u001b[39m \u001b[38;5;241m==\u001b[39m \u001b[38;5;124m\"\u001b[39m\u001b[38;5;124m__main__\u001b[39m\u001b[38;5;124m\"\u001b[39m:\n\u001b[1;32m---> 43\u001b[0m     \u001b[43mmain\u001b[49m\u001b[43m(\u001b[49m\u001b[43mdata_folder\u001b[49m\u001b[38;5;241;43m=\u001b[39;49m\u001b[38;5;124;43m\"\u001b[39;49m\u001b[38;5;124;43m./data/\u001b[39;49m\u001b[38;5;124;43m\"\u001b[39;49m\u001b[43m)\u001b[49m\n\u001b[0;32m     44\u001b[0m     \u001b[38;5;28mprint\u001b[39m(\u001b[38;5;124m\"\u001b[39m\u001b[38;5;124mAll done!\u001b[39m\u001b[38;5;124m\"\u001b[39m)\n",
      "Cell \u001b[1;32mIn[11], line 38\u001b[0m, in \u001b[0;36mmain\u001b[1;34m(data_folder)\u001b[0m\n\u001b[0;32m     29\u001b[0m     np\u001b[38;5;241m.\u001b[39msave(data_folder \u001b[38;5;241m+\u001b[39m \u001b[38;5;124mf\u001b[39m\u001b[38;5;124m\"\u001b[39m\u001b[38;5;124mspec_as_numpy/\u001b[39m\u001b[38;5;132;01m{\u001b[39;00mspec_id\u001b[38;5;132;01m}\u001b[39;00m\u001b[38;5;124m.npy\u001b[39m\u001b[38;5;124m\"\u001b[39m, spec_arr)\n\u001b[0;32m     31\u001b[0m \u001b[38;5;66;03m# Preprocess input data\u001b[39;00m\n\u001b[0;32m     32\u001b[0m \u001b[38;5;66;03m# This does not work because the test.csv file is formatted differently from the train.csv file. \u001b[39;00m\n\u001b[0;32m     33\u001b[0m \u001b[38;5;66;03m# Do I need to define my own preprocessing function? If yes, should it mimic the existing one or\u001b[39;00m\n\u001b[1;32m   (...)\u001b[0m\n\u001b[0;32m     36\u001b[0m \n\u001b[0;32m     37\u001b[0m \u001b[38;5;66;03m# Make predictions\u001b[39;00m\n\u001b[1;32m---> 38\u001b[0m model \u001b[38;5;241m=\u001b[39m \u001b[43mmodels\u001b[49m\u001b[38;5;241;43m.\u001b[39;49m\u001b[43mNoNa_Resnet\u001b[49m()(weights\u001b[38;5;241m=\u001b[39mmodels\u001b[38;5;241m.\u001b[39mResNet18_Weights\u001b[38;5;241m.\u001b[39mDEFAULT) \u001b[38;5;66;03m# TODO replace with model NoNa_Resnet()\u001b[39;00m\n\u001b[0;32m     39\u001b[0m predictions \u001b[38;5;241m=\u001b[39m model\u001b[38;5;241m.\u001b[39mpredict(df)\n\u001b[0;32m     40\u001b[0m \u001b[38;5;28mprint\u001b[39m(predictions)\n",
      "\u001b[1;31mAttributeError\u001b[0m: module 'torchvision.models' has no attribute 'NoNa_Resnet'"
     ]
    }
   ],
   "source": [
    "import pandas as pd\n",
    "import numpy as np\n",
    "import torch\n",
    "\n",
    "from brain_solver import helpers as hp\n",
    "\n",
    "# define the model\n",
    "class NoNa_Resnet(torch.nn.Module):\n",
    "    \n",
    "    def __init__(self):\n",
    "        super(NoNa_Resnet, self).__init__()\n",
    "        # Define your model layers here\n",
    "\n",
    "    def forward(self, x):\n",
    "        None\n",
    "        # Implement the forward pass\n",
    "        # ...\n",
    "\n",
    "def load_model(model_path):\n",
    "    model = NoNa_Resnet()\n",
    "    model.load_state_dict(torch.load(model_path))\n",
    "    model.eval()  # Set the model to evaluation mode\n",
    "    return model\n",
    "\n",
    "def make_predictions(model, input_data):\n",
    "    with torch.no_grad():\n",
    "        output = model(input_data)\n",
    "        probabilities = torch.nn.functional.softmax(output[0], dim=0)\n",
    "        predicted_class = torch.argmax(probabilities).item()\n",
    "    return predicted_class, probabilities\n",
    "\n",
    "def main(data_folder=\"./data\"):\n",
    "    # Get the test dataset\n",
    "    df = pd.read_csv(data_folder + \"/test.csv\")\n",
    "    print(df)\n",
    "\n",
    "    for spec_id in df[\"spectrogram_id\"]:\n",
    "        spec = pd.read_parquet(data_folder + f\"test_spectrograms/{spec_id}.parquet\")\n",
    "        \n",
    "        spec_arr = spec.fillna(0).values[:, 1:].T.astype(\"float32\")  # (Hz, Time) = (400, 300)\n",
    "        \n",
    "        np.save(data_folder + f\"spec_as_numpy/{spec_id}.npy\", spec_arr)\n",
    "\n",
    "    # Preprocess input data\n",
    "    # This does not work because the test.csv file is formatted differently from the train.csv file. \n",
    "    # Do I need to define my own preprocessing function? From what the other funciton looks like,\n",
    "    # not many of its techniques apply here.\n",
    "    #preprocess_eeg_data(df, TARGETS, consensus_col='expert_consensus')\n",
    "\n",
    "    # Make predictions\n",
    "    trained_model_path = '' #TODO get trained model\n",
    "    model = load_model(trained_model_path)\n",
    "    predicted_class, probabilities = make_predictions(model, df)\n",
    "    print(f\"Predicted Class: {predicted_class}\")\n",
    "    print(f\"Probabilities: {probabilities}\")\n",
    "\n",
    "if __name__ == \"__main__\":\n",
    "    main(data_folder=\"./data/\")\n",
    "    print(\"All done!\")"
   ]
  }
 ],
 "metadata": {
  "kernelspec": {
   "display_name": "Python 3",
   "language": "python",
   "name": "python3"
  },
  "language_info": {
   "codemirror_mode": {
    "name": "ipython",
    "version": 3
   },
   "file_extension": ".py",
   "mimetype": "text/x-python",
   "name": "python",
   "nbconvert_exporter": "python",
   "pygments_lexer": "ipython3",
   "version": "3.11.7"
  }
 },
 "nbformat": 4,
 "nbformat_minor": 2
}
