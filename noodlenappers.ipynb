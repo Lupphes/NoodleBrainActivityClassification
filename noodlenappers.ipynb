{
 "cells": [
  {
   "cell_type": "markdown",
   "id": "77782844",
   "metadata": {
    "papermill": {
     "duration": 0.008822,
     "end_time": "2024-02-01T15:23:51.693534",
     "exception": false,
     "start_time": "2024-02-01T15:23:51.684712",
     "status": "completed"
    },
    "tags": []
   },
   "source": [
    "# CatBoost Starter for Brain Comp\n",
    "This is a CatBoost starter notebook for Kaggle's brain comp. We use only spectrogram features. (The model does not use eeg features yet). We can improve the CV and LB score by engineering more (spectrogram and/or eeg) features and we can tune the CatBoost model (and/or use other ML DL models). Discussion about this starter is [here][2].\n",
    "\n",
    "In this notebook, we also compare five CV scores. Kaggle's sample submission uses equal predictions of 1/6 for all targets and achieves CV 1.46, LB 1.09. The best public notebook (on Jan 12th) [here][1] uses train means and achieves CV 1.26 LB 0.97. Our CatBoost model version 1 achieves CV 1.01 LB 0.81. Our CatBoost model version 2 achieves CV 0.82 LB 0.67. Then version 3 adds features from **EEG spectrograms** and achieves CV 0.74, wow! Let's see what LB is...\n",
    "\n",
    "# Exciting UPDATE!\n",
    "Version 3 of this notebook trains using **both** Kaggle spectrograms and my new **EEG spectrograms** from my Kaggle dataset [here][3] (which were created from my spectrogram starter [here][4]). We boost the CV score and (most likely) LB score by almost `+0.10`, wow! \n",
    "\n",
    "### Version Notes\n",
    "* Version 1 - Uses spectrogram features from 10 minute window `means`. Achieves CV 1.01, LB 0.81\n",
    "* Version 2 - Uses spectrogram features from 10 minute and 20 second `means` and `mins`. Achieves CV 0.82, LB 0.67\n",
    "* Version 3 - Uses Kaggle spectrogrms **plus EEG spectrograms**. Achieves 0.74, LB to be determined...\n",
    "\n",
    "[1]: https://www.kaggle.com/code/seshurajup/eda-train-csv\n",
    "[2]: https://www.kaggle.com/competitions/hms-harmful-brain-activity-classification/discussion/467576\n",
    "[3]: https://www.kaggle.com/datasets/cdeotte/brain-eeg-spectrograms\n",
    "[4]: https://www.kaggle.com/code/cdeotte/how-to-make-spectrogram-from-eeg"
   ]
  },
  {
   "cell_type": "markdown",
   "id": "7630a46c",
   "metadata": {
    "papermill": {
     "duration": 0.007944,
     "end_time": "2024-02-01T15:23:51.709807",
     "exception": false,
     "start_time": "2024-02-01T15:23:51.701863",
     "status": "completed"
    },
    "tags": []
   },
   "source": [
    "# Load Libraries"
   ]
  },
  {
   "cell_type": "code",
   "execution_count": 1,
   "id": "14384975",
   "metadata": {
    "execution": {
     "iopub.execute_input": "2024-02-01T15:23:51.728078Z",
     "iopub.status.busy": "2024-02-01T15:23:51.727271Z",
     "iopub.status.idle": "2024-02-01T15:23:52.576661Z",
     "shell.execute_reply": "2024-02-01T15:23:52.575893Z"
    },
    "papermill": {
     "duration": 0.861067,
     "end_time": "2024-02-01T15:23:52.578986",
     "exception": false,
     "start_time": "2024-02-01T15:23:51.717919",
     "status": "completed"
    },
    "tags": []
   },
   "outputs": [],
   "source": [
    "import os, gc\n",
    "os.environ[\"CUDA_VISIBLE_DEVICES\"]=\"0,1\"\n",
    "import pandas as pd, numpy as np\n",
    "import matplotlib.pyplot as plt\n",
    "\n",
    "VER = 3"
   ]
  },
  {
   "cell_type": "markdown",
   "id": "5195f00a",
   "metadata": {
    "papermill": {
     "duration": 0.008529,
     "end_time": "2024-02-01T15:23:52.596116",
     "exception": false,
     "start_time": "2024-02-01T15:23:52.587587",
     "status": "completed"
    },
    "tags": []
   },
   "source": [
    "# Load Train Data"
   ]
  },
  {
   "cell_type": "code",
   "execution_count": 2,
   "id": "831d1300",
   "metadata": {
    "_cell_guid": "b1076dfc-b9ad-4769-8c92-a6c4dae69d19",
    "_uuid": "8f2839f25d086af736a60e9eeb907d3b93b6e0e5",
    "execution": {
     "iopub.execute_input": "2024-02-01T15:23:52.613812Z",
     "iopub.status.busy": "2024-02-01T15:23:52.613404Z",
     "iopub.status.idle": "2024-02-01T15:23:52.869099Z",
     "shell.execute_reply": "2024-02-01T15:23:52.868103Z"
    },
    "papermill": {
     "duration": 0.267313,
     "end_time": "2024-02-01T15:23:52.871529",
     "exception": false,
     "start_time": "2024-02-01T15:23:52.604216",
     "status": "completed"
    },
    "tags": []
   },
   "outputs": [
    {
     "name": "stdout",
     "output_type": "stream",
     "text": [
      "Train shape: (106800, 15)\n",
      "Targets ['seizure_vote', 'lpd_vote', 'gpd_vote', 'lrda_vote', 'grda_vote', 'other_vote']\n"
     ]
    },
    {
     "data": {
      "text/html": [
       "<div>\n",
       "<style scoped>\n",
       "    .dataframe tbody tr th:only-of-type {\n",
       "        vertical-align: middle;\n",
       "    }\n",
       "\n",
       "    .dataframe tbody tr th {\n",
       "        vertical-align: top;\n",
       "    }\n",
       "\n",
       "    .dataframe thead th {\n",
       "        text-align: right;\n",
       "    }\n",
       "</style>\n",
       "<table border=\"1\" class=\"dataframe\">\n",
       "  <thead>\n",
       "    <tr style=\"text-align: right;\">\n",
       "      <th></th>\n",
       "      <th>eeg_id</th>\n",
       "      <th>eeg_sub_id</th>\n",
       "      <th>eeg_label_offset_seconds</th>\n",
       "      <th>spectrogram_id</th>\n",
       "      <th>spectrogram_sub_id</th>\n",
       "      <th>spectrogram_label_offset_seconds</th>\n",
       "      <th>label_id</th>\n",
       "      <th>patient_id</th>\n",
       "      <th>expert_consensus</th>\n",
       "      <th>seizure_vote</th>\n",
       "      <th>lpd_vote</th>\n",
       "      <th>gpd_vote</th>\n",
       "      <th>lrda_vote</th>\n",
       "      <th>grda_vote</th>\n",
       "      <th>other_vote</th>\n",
       "    </tr>\n",
       "  </thead>\n",
       "  <tbody>\n",
       "    <tr>\n",
       "      <th>0</th>\n",
       "      <td>1628180742</td>\n",
       "      <td>0</td>\n",
       "      <td>0.0</td>\n",
       "      <td>353733</td>\n",
       "      <td>0</td>\n",
       "      <td>0.0</td>\n",
       "      <td>127492639</td>\n",
       "      <td>42516</td>\n",
       "      <td>Seizure</td>\n",
       "      <td>3</td>\n",
       "      <td>0</td>\n",
       "      <td>0</td>\n",
       "      <td>0</td>\n",
       "      <td>0</td>\n",
       "      <td>0</td>\n",
       "    </tr>\n",
       "    <tr>\n",
       "      <th>1</th>\n",
       "      <td>1628180742</td>\n",
       "      <td>1</td>\n",
       "      <td>6.0</td>\n",
       "      <td>353733</td>\n",
       "      <td>1</td>\n",
       "      <td>6.0</td>\n",
       "      <td>3887563113</td>\n",
       "      <td>42516</td>\n",
       "      <td>Seizure</td>\n",
       "      <td>3</td>\n",
       "      <td>0</td>\n",
       "      <td>0</td>\n",
       "      <td>0</td>\n",
       "      <td>0</td>\n",
       "      <td>0</td>\n",
       "    </tr>\n",
       "    <tr>\n",
       "      <th>2</th>\n",
       "      <td>1628180742</td>\n",
       "      <td>2</td>\n",
       "      <td>8.0</td>\n",
       "      <td>353733</td>\n",
       "      <td>2</td>\n",
       "      <td>8.0</td>\n",
       "      <td>1142670488</td>\n",
       "      <td>42516</td>\n",
       "      <td>Seizure</td>\n",
       "      <td>3</td>\n",
       "      <td>0</td>\n",
       "      <td>0</td>\n",
       "      <td>0</td>\n",
       "      <td>0</td>\n",
       "      <td>0</td>\n",
       "    </tr>\n",
       "    <tr>\n",
       "      <th>3</th>\n",
       "      <td>1628180742</td>\n",
       "      <td>3</td>\n",
       "      <td>18.0</td>\n",
       "      <td>353733</td>\n",
       "      <td>3</td>\n",
       "      <td>18.0</td>\n",
       "      <td>2718991173</td>\n",
       "      <td>42516</td>\n",
       "      <td>Seizure</td>\n",
       "      <td>3</td>\n",
       "      <td>0</td>\n",
       "      <td>0</td>\n",
       "      <td>0</td>\n",
       "      <td>0</td>\n",
       "      <td>0</td>\n",
       "    </tr>\n",
       "    <tr>\n",
       "      <th>4</th>\n",
       "      <td>1628180742</td>\n",
       "      <td>4</td>\n",
       "      <td>24.0</td>\n",
       "      <td>353733</td>\n",
       "      <td>4</td>\n",
       "      <td>24.0</td>\n",
       "      <td>3080632009</td>\n",
       "      <td>42516</td>\n",
       "      <td>Seizure</td>\n",
       "      <td>3</td>\n",
       "      <td>0</td>\n",
       "      <td>0</td>\n",
       "      <td>0</td>\n",
       "      <td>0</td>\n",
       "      <td>0</td>\n",
       "    </tr>\n",
       "  </tbody>\n",
       "</table>\n",
       "</div>"
      ],
      "text/plain": [
       "       eeg_id  eeg_sub_id  eeg_label_offset_seconds  spectrogram_id  \\\n",
       "0  1628180742           0                       0.0          353733   \n",
       "1  1628180742           1                       6.0          353733   \n",
       "2  1628180742           2                       8.0          353733   \n",
       "3  1628180742           3                      18.0          353733   \n",
       "4  1628180742           4                      24.0          353733   \n",
       "\n",
       "   spectrogram_sub_id  spectrogram_label_offset_seconds    label_id  \\\n",
       "0                   0                               0.0   127492639   \n",
       "1                   1                               6.0  3887563113   \n",
       "2                   2                               8.0  1142670488   \n",
       "3                   3                              18.0  2718991173   \n",
       "4                   4                              24.0  3080632009   \n",
       "\n",
       "   patient_id expert_consensus  seizure_vote  lpd_vote  gpd_vote  lrda_vote  \\\n",
       "0       42516          Seizure             3         0         0          0   \n",
       "1       42516          Seizure             3         0         0          0   \n",
       "2       42516          Seizure             3         0         0          0   \n",
       "3       42516          Seizure             3         0         0          0   \n",
       "4       42516          Seizure             3         0         0          0   \n",
       "\n",
       "   grda_vote  other_vote  \n",
       "0          0           0  \n",
       "1          0           0  \n",
       "2          0           0  \n",
       "3          0           0  \n",
       "4          0           0  "
      ]
     },
     "execution_count": 2,
     "metadata": {},
     "output_type": "execute_result"
    }
   ],
   "source": [
    "df = pd.read_csv('/kaggle/input/hms-harmful-brain-activity-classification/train.csv')\n",
    "TARGETS = df.columns[-6:]\n",
    "print('Train shape:', df.shape )\n",
    "print('Targets', list(TARGETS))\n",
    "df.head()"
   ]
  },
  {
   "cell_type": "markdown",
   "id": "97b1fad8",
   "metadata": {
    "papermill": {
     "duration": 0.008364,
     "end_time": "2024-02-01T15:23:52.888614",
     "exception": false,
     "start_time": "2024-02-01T15:23:52.880250",
     "status": "completed"
    },
    "tags": []
   },
   "source": [
    "# Create Non-Overlapping Eeg Id Train Data\n",
    "The competition data description says that test data does not have multiple crops from the same `eeg_id`. Therefore we will train and validate using only 1 crop per `eeg_id`. There is a discussion about this [here][1].\n",
    "\n",
    "[1]: https://www.kaggle.com/competitions/hms-harmful-brain-activity-classification/discussion/467021"
   ]
  },
  {
   "cell_type": "code",
   "execution_count": 3,
   "id": "0db50397",
   "metadata": {
    "execution": {
     "iopub.execute_input": "2024-02-01T15:23:52.907734Z",
     "iopub.status.busy": "2024-02-01T15:23:52.907461Z",
     "iopub.status.idle": "2024-02-01T15:23:53.003203Z",
     "shell.execute_reply": "2024-02-01T15:23:53.002269Z"
    },
    "papermill": {
     "duration": 0.108331,
     "end_time": "2024-02-01T15:23:53.005574",
     "exception": false,
     "start_time": "2024-02-01T15:23:52.897243",
     "status": "completed"
    },
    "tags": []
   },
   "outputs": [
    {
     "name": "stdout",
     "output_type": "stream",
     "text": [
      "Train non-overlapp eeg_id shape: (17089, 12)\n"
     ]
    },
    {
     "data": {
      "text/html": [
       "<div>\n",
       "<style scoped>\n",
       "    .dataframe tbody tr th:only-of-type {\n",
       "        vertical-align: middle;\n",
       "    }\n",
       "\n",
       "    .dataframe tbody tr th {\n",
       "        vertical-align: top;\n",
       "    }\n",
       "\n",
       "    .dataframe thead th {\n",
       "        text-align: right;\n",
       "    }\n",
       "</style>\n",
       "<table border=\"1\" class=\"dataframe\">\n",
       "  <thead>\n",
       "    <tr style=\"text-align: right;\">\n",
       "      <th></th>\n",
       "      <th>eeg_id</th>\n",
       "      <th>spec_id</th>\n",
       "      <th>min</th>\n",
       "      <th>max</th>\n",
       "      <th>patient_id</th>\n",
       "      <th>seizure_vote</th>\n",
       "      <th>lpd_vote</th>\n",
       "      <th>gpd_vote</th>\n",
       "      <th>lrda_vote</th>\n",
       "      <th>grda_vote</th>\n",
       "      <th>other_vote</th>\n",
       "      <th>target</th>\n",
       "    </tr>\n",
       "  </thead>\n",
       "  <tbody>\n",
       "    <tr>\n",
       "      <th>0</th>\n",
       "      <td>568657</td>\n",
       "      <td>789577333</td>\n",
       "      <td>0.0</td>\n",
       "      <td>16.0</td>\n",
       "      <td>20654</td>\n",
       "      <td>0.0</td>\n",
       "      <td>0.000000</td>\n",
       "      <td>0.25</td>\n",
       "      <td>0.000000</td>\n",
       "      <td>0.166667</td>\n",
       "      <td>0.583333</td>\n",
       "      <td>Other</td>\n",
       "    </tr>\n",
       "    <tr>\n",
       "      <th>1</th>\n",
       "      <td>582999</td>\n",
       "      <td>1552638400</td>\n",
       "      <td>0.0</td>\n",
       "      <td>38.0</td>\n",
       "      <td>20230</td>\n",
       "      <td>0.0</td>\n",
       "      <td>0.857143</td>\n",
       "      <td>0.00</td>\n",
       "      <td>0.071429</td>\n",
       "      <td>0.000000</td>\n",
       "      <td>0.071429</td>\n",
       "      <td>LPD</td>\n",
       "    </tr>\n",
       "    <tr>\n",
       "      <th>2</th>\n",
       "      <td>642382</td>\n",
       "      <td>14960202</td>\n",
       "      <td>1008.0</td>\n",
       "      <td>1032.0</td>\n",
       "      <td>5955</td>\n",
       "      <td>0.0</td>\n",
       "      <td>0.000000</td>\n",
       "      <td>0.00</td>\n",
       "      <td>0.000000</td>\n",
       "      <td>0.000000</td>\n",
       "      <td>1.000000</td>\n",
       "      <td>Other</td>\n",
       "    </tr>\n",
       "    <tr>\n",
       "      <th>3</th>\n",
       "      <td>751790</td>\n",
       "      <td>618728447</td>\n",
       "      <td>908.0</td>\n",
       "      <td>908.0</td>\n",
       "      <td>38549</td>\n",
       "      <td>0.0</td>\n",
       "      <td>0.000000</td>\n",
       "      <td>1.00</td>\n",
       "      <td>0.000000</td>\n",
       "      <td>0.000000</td>\n",
       "      <td>0.000000</td>\n",
       "      <td>GPD</td>\n",
       "    </tr>\n",
       "    <tr>\n",
       "      <th>4</th>\n",
       "      <td>778705</td>\n",
       "      <td>52296320</td>\n",
       "      <td>0.0</td>\n",
       "      <td>0.0</td>\n",
       "      <td>40955</td>\n",
       "      <td>0.0</td>\n",
       "      <td>0.000000</td>\n",
       "      <td>0.00</td>\n",
       "      <td>0.000000</td>\n",
       "      <td>0.000000</td>\n",
       "      <td>1.000000</td>\n",
       "      <td>Other</td>\n",
       "    </tr>\n",
       "  </tbody>\n",
       "</table>\n",
       "</div>"
      ],
      "text/plain": [
       "   eeg_id     spec_id     min     max  patient_id  seizure_vote  lpd_vote  \\\n",
       "0  568657   789577333     0.0    16.0       20654           0.0  0.000000   \n",
       "1  582999  1552638400     0.0    38.0       20230           0.0  0.857143   \n",
       "2  642382    14960202  1008.0  1032.0        5955           0.0  0.000000   \n",
       "3  751790   618728447   908.0   908.0       38549           0.0  0.000000   \n",
       "4  778705    52296320     0.0     0.0       40955           0.0  0.000000   \n",
       "\n",
       "   gpd_vote  lrda_vote  grda_vote  other_vote target  \n",
       "0      0.25   0.000000   0.166667    0.583333  Other  \n",
       "1      0.00   0.071429   0.000000    0.071429    LPD  \n",
       "2      0.00   0.000000   0.000000    1.000000  Other  \n",
       "3      1.00   0.000000   0.000000    0.000000    GPD  \n",
       "4      0.00   0.000000   0.000000    1.000000  Other  "
      ]
     },
     "execution_count": 3,
     "metadata": {},
     "output_type": "execute_result"
    }
   ],
   "source": [
    "train = df.groupby('eeg_id')[['spectrogram_id','spectrogram_label_offset_seconds']].agg(\n",
    "    {'spectrogram_id':'first','spectrogram_label_offset_seconds':'min'})\n",
    "train.columns = ['spec_id','min']\n",
    "\n",
    "tmp = df.groupby('eeg_id')[['spectrogram_id','spectrogram_label_offset_seconds']].agg(\n",
    "    {'spectrogram_label_offset_seconds':'max'})\n",
    "train['max'] = tmp\n",
    "\n",
    "tmp = df.groupby('eeg_id')[['patient_id']].agg('first')\n",
    "train['patient_id'] = tmp\n",
    "\n",
    "tmp = df.groupby('eeg_id')[TARGETS].agg('sum')\n",
    "for t in TARGETS:\n",
    "    train[t] = tmp[t].values\n",
    "    \n",
    "y_data = train[TARGETS].values\n",
    "y_data = y_data / y_data.sum(axis=1,keepdims=True)\n",
    "train[TARGETS] = y_data\n",
    "\n",
    "tmp = df.groupby('eeg_id')[['expert_consensus']].agg('first')\n",
    "train['target'] = tmp\n",
    "\n",
    "train = train.reset_index()\n",
    "print('Train non-overlapp eeg_id shape:', train.shape )\n",
    "train.head()"
   ]
  },
  {
   "cell_type": "markdown",
   "id": "47c885a9",
   "metadata": {
    "papermill": {
     "duration": 0.009523,
     "end_time": "2024-02-01T15:23:53.025808",
     "exception": false,
     "start_time": "2024-02-01T15:23:53.016285",
     "status": "completed"
    },
    "tags": []
   },
   "source": [
    "# Feature Engineer\n",
    "In this section, we create features for our CatBoost model. \n",
    "\n",
    "First we need to read in all 11k train spectrogram files. Reading thousands of files takes 11 minutes with Pandas. Instead, we can read 1 file from my [Kaggle dataset here][1] which contains all the 11k spectrograms in less than 1 minute! To use my [Kaggle dataset][1], set variable `READ_SPEC_FILES = False`. Thanks for upvoting my Kaggle dataset!\n",
    "\n",
    "Next we need to engineer features for our CatBoost model. In version 1 notebook, we just take the mean (over time) of each of the 400 spectrogram frequencies (using middle 10 minutes). This produces 400 features (per each unique eeg id). We can improve CV and LB score by engineering new features (and/or tuning CatBoost).\n",
    "\n",
    "UPDATE: Version 2 creates features from `means` and `mins`. And version 2 uses `10 minute windows` and `20 second windows`.\n",
    "\n",
    "UPDATE: Version 3 uses **both** Kaggle spectrograms and **EEG spectrograms**. We load EEG spectrograms from my Kaggle dataset [here][2]. These EEG spectrograms were created from EEG raw waveforms in my spectrogram starter [here][3]. Thank you everyone for upvoting my new Kaggle dataset!\n",
    "\n",
    "[1]: https://www.kaggle.com/datasets/cdeotte/brain-spectrograms\n",
    "[2]: https://www.kaggle.com/datasets/cdeotte/brain-eeg-spectrograms\n",
    "[3]: https://www.kaggle.com/code/cdeotte/efficientnetb2-starter-lb-0-57"
   ]
  },
  {
   "cell_type": "code",
   "execution_count": 4,
   "id": "25116947",
   "metadata": {
    "execution": {
     "iopub.execute_input": "2024-02-01T15:23:53.046661Z",
     "iopub.status.busy": "2024-02-01T15:23:53.045923Z",
     "iopub.status.idle": "2024-02-01T15:23:53.050015Z",
     "shell.execute_reply": "2024-02-01T15:23:53.049058Z"
    },
    "papermill": {
     "duration": 0.016682,
     "end_time": "2024-02-01T15:23:53.052091",
     "exception": false,
     "start_time": "2024-02-01T15:23:53.035409",
     "status": "completed"
    },
    "tags": []
   },
   "outputs": [],
   "source": [
    "READ_SPEC_FILES = False\n",
    "READ_EEG_SPEC_FILES = False"
   ]
  },
  {
   "cell_type": "code",
   "execution_count": 5,
   "id": "11ea03c2",
   "metadata": {
    "execution": {
     "iopub.execute_input": "2024-02-01T15:23:53.073218Z",
     "iopub.status.busy": "2024-02-01T15:23:53.072942Z",
     "iopub.status.idle": "2024-02-01T15:24:46.064195Z",
     "shell.execute_reply": "2024-02-01T15:24:46.063303Z"
    },
    "papermill": {
     "duration": 53.013995,
     "end_time": "2024-02-01T15:24:46.076097",
     "exception": false,
     "start_time": "2024-02-01T15:23:53.062102",
     "status": "completed"
    },
    "tags": []
   },
   "outputs": [
    {
     "name": "stdout",
     "output_type": "stream",
     "text": [
      "There are 11138 spectrogram parquets\n",
      "CPU times: user 2.8 s, sys: 6.06 s, total: 8.85 s\n",
      "Wall time: 53 s\n"
     ]
    }
   ],
   "source": [
    "%%time\n",
    "# READ ALL SPECTROGRAMS\n",
    "PATH = '/kaggle/input/hms-harmful-brain-activity-classification/train_spectrograms/'\n",
    "files = os.listdir(PATH)\n",
    "print(f'There are {len(files)} spectrogram parquets')\n",
    "\n",
    "if READ_SPEC_FILES:    \n",
    "    spectrograms = {}\n",
    "    for i,f in enumerate(files):\n",
    "        if i%100==0: print(i,', ',end='')\n",
    "        tmp = pd.read_parquet(f'{PATH}{f}')\n",
    "        name = int(f.split('.')[0])\n",
    "        spectrograms[name] = tmp.iloc[:,1:].values\n",
    "else:\n",
    "    spectrograms = np.load('/kaggle/input/brain-spectrograms/specs.npy',allow_pickle=True).item()"
   ]
  },
  {
   "cell_type": "code",
   "execution_count": 6,
   "id": "fb745762",
   "metadata": {
    "execution": {
     "iopub.execute_input": "2024-02-01T15:24:46.096238Z",
     "iopub.status.busy": "2024-02-01T15:24:46.095943Z",
     "iopub.status.idle": "2024-02-01T15:25:52.982951Z",
     "shell.execute_reply": "2024-02-01T15:25:52.982021Z"
    },
    "papermill": {
     "duration": 66.910394,
     "end_time": "2024-02-01T15:25:52.995699",
     "exception": false,
     "start_time": "2024-02-01T15:24:46.085305",
     "status": "completed"
    },
    "tags": []
   },
   "outputs": [
    {
     "name": "stdout",
     "output_type": "stream",
     "text": [
      "CPU times: user 4.23 s, sys: 8.16 s, total: 12.4 s\n",
      "Wall time: 1min 6s\n"
     ]
    }
   ],
   "source": [
    "%%time\n",
    "# READ ALL EEG SPECTROGRAMS\n",
    "if READ_EEG_SPEC_FILES:\n",
    "    all_eegs = {}\n",
    "    for i,e in enumerate(train.eeg_id.values):\n",
    "        if i%100==0: print(i,', ',end='')\n",
    "        x = np.load(f'/kaggle/input/brain-eeg-spectrograms/EEG_Spectrograms/{e}.npy')\n",
    "        all_eegs[e] = x\n",
    "else:\n",
    "    all_eegs = np.load('/kaggle/input/brain-eeg-spectrograms/eeg_specs.npy',allow_pickle=True).item()"
   ]
  },
  {
   "cell_type": "code",
   "execution_count": 7,
   "id": "b9111828",
   "metadata": {
    "execution": {
     "iopub.execute_input": "2024-02-01T15:25:53.018007Z",
     "iopub.status.busy": "2024-02-01T15:25:53.017635Z",
     "iopub.status.idle": "2024-02-01T15:26:41.186158Z",
     "shell.execute_reply": "2024-02-01T15:26:41.184971Z"
    },
    "papermill": {
     "duration": 48.182688,
     "end_time": "2024-02-01T15:26:41.188641",
     "exception": false,
     "start_time": "2024-02-01T15:25:53.005953",
     "status": "completed"
    },
    "tags": []
   },
   "outputs": [
    {
     "name": "stdout",
     "output_type": "stream",
     "text": [
      "CPU times: user 1 µs, sys: 3 µs, total: 4 µs\n",
      "Wall time: 7.15 µs\n",
      "We are creating 3648 features for 17089 rows... 0 , 100 , 200 , 300 , 400 , 500 , 600 , 700 , 800 , 900 , 1000 , 1100 , 1200 , 1300 , 1400 , 1500 , 1600 , 1700 , 1800 , 1900 , 2000 , 2100 , 2200 , 2300 , 2400 , 2500 , 2600 , 2700 , 2800 , 2900 , 3000 , 3100 , 3200 , 3300 , 3400 , 3500 , 3600 , 3700 , 3800 , 3900 , 4000 , 4100 , 4200 , 4300 , 4400 , 4500 , 4600 , 4700 , 4800 , 4900 , 5000 , 5100 , 5200 , 5300 , 5400 , 5500 , 5600 , 5700 , 5800 , 5900 , 6000 , 6100 , 6200 , 6300 , 6400 , 6500 , 6600 , 6700 , 6800 , 6900 , 7000 , 7100 , 7200 , 7300 , 7400 , 7500 , 7600 , 7700 , 7800 , 7900 , 8000 , 8100 , 8200 , 8300 , 8400 , 8500 , 8600 , 8700 , 8800 , 8900 , 9000 , 9100 , 9200 , 9300 , 9400 , 9500 , 9600 , 9700 , 9800 , 9900 , 10000 , 10100 , 10200 , 10300 , 10400 , 10500 , 10600 , 10700 , 10800 , 10900 , 11000 , 11100 , 11200 , 11300 , 11400 , 11500 , 11600 , 11700 , 11800 , 11900 , 12000 , 12100 , 12200 , 12300 , 12400 , 12500 , 12600 , 12700 , 12800 , 12900 , 13000 , 13100 , 13200 , 13300 , 13400 , 13500 , 13600 , 13700 , 13800 , 13900 , 14000 , 14100 , 14200 , 14300 , 14400 , 14500 , 14600 , 14700 , 14800 , 14900 , 15000 , 15100 , 15200 , 15300 , 15400 , 15500 , 15600 , 15700 , 15800 , 15900 , 16000 , 16100 , 16200 , 16300 , 16400 , 16500 , 16600 , 16700 , 16800 , 16900 , 17000 , \n",
      "New train shape: (17089, 3660)\n"
     ]
    }
   ],
   "source": [
    "%time\n",
    "# ENGINEER FEATURES\n",
    "import warnings\n",
    "warnings.filterwarnings('ignore')\n",
    "\n",
    "# FEATURE NAMES\n",
    "SPEC_COLS = pd.read_parquet(f'{PATH}1000086677.parquet').columns[1:]\n",
    "FEATURES = [f'{c}_mean_10m' for c in SPEC_COLS]\n",
    "FEATURES += [f'{c}_min_10m' for c in SPEC_COLS]\n",
    "FEATURES += [f'{c}_mean_20s' for c in SPEC_COLS]\n",
    "FEATURES += [f'{c}_min_20s' for c in SPEC_COLS]\n",
    "FEATURES += [f'eeg_mean_f{x}_10s' for x in range(512)]\n",
    "FEATURES += [f'eeg_min_f{x}_10s' for x in range(512)]\n",
    "FEATURES += [f'eeg_max_f{x}_10s' for x in range(512)]\n",
    "FEATURES += [f'eeg_std_f{x}_10s' for x in range(512)]\n",
    "print(f'We are creating {len(FEATURES)} features for {len(train)} rows... ',end='')\n",
    "\n",
    "data = np.zeros((len(train),len(FEATURES)))\n",
    "for k in range(len(train)):\n",
    "    if k%100==0: print(k,', ',end='')\n",
    "    row = train.iloc[k]\n",
    "    r = int( (row['min'] + row['max'])//4 ) \n",
    "\n",
    "    # 10 MINUTE WINDOW FEATURES (MEANS and MINS)\n",
    "    x = np.nanmean(spectrograms[row.spec_id][r:r+300,:],axis=0)\n",
    "    data[k,:400] = x\n",
    "    x = np.nanmin(spectrograms[row.spec_id][r:r+300,:],axis=0)\n",
    "    data[k,400:800] = x\n",
    "\n",
    "    # 20 SECOND WINDOW FEATURES (MEANS and MINS)\n",
    "    x = np.nanmean(spectrograms[row.spec_id][r+145:r+155,:],axis=0)\n",
    "    data[k,800:1200] = x\n",
    "    x = np.nanmin(spectrograms[row.spec_id][r+145:r+155,:],axis=0)\n",
    "    data[k,1200:1600] = x\n",
    "\n",
    "    # RESHAPE EEG SPECTROGRAMS 128x256x4 => 512x256\n",
    "    eeg_spec = np.zeros((512,256),dtype='float32')\n",
    "    xx = all_eegs[row.eeg_id]\n",
    "    for j in range(4): eeg_spec[128*j:128*(j+1),] = xx[:,:,j]\n",
    "\n",
    "    # 10 SECOND WINDOW FROM EEG SPECTROGRAMS \n",
    "    x = np.nanmean(eeg_spec.T[100:-100,:],axis=0)\n",
    "    data[k,1600:2112] = x\n",
    "    x = np.nanmin(eeg_spec.T[100:-100,:],axis=0)\n",
    "    data[k,2112:2624] = x\n",
    "    x = np.nanmax(eeg_spec.T[100:-100,:],axis=0)\n",
    "    data[k,2624:3136] = x\n",
    "    x = np.nanstd(eeg_spec.T[100:-100,:],axis=0)\n",
    "    data[k,3136:3648] = x\n",
    "\n",
    "train[FEATURES] = data\n",
    "print(); print('New train shape:',train.shape)"
   ]
  },
  {
   "cell_type": "code",
   "execution_count": 8,
   "id": "0ef8f786",
   "metadata": {
    "execution": {
     "iopub.execute_input": "2024-02-01T15:26:41.244089Z",
     "iopub.status.busy": "2024-02-01T15:26:41.243599Z",
     "iopub.status.idle": "2024-02-01T15:26:41.419383Z",
     "shell.execute_reply": "2024-02-01T15:26:41.418501Z"
    },
    "papermill": {
     "duration": 0.205787,
     "end_time": "2024-02-01T15:26:41.421538",
     "exception": false,
     "start_time": "2024-02-01T15:26:41.215751",
     "status": "completed"
    },
    "tags": []
   },
   "outputs": [
    {
     "data": {
      "text/plain": [
       "0"
      ]
     },
     "execution_count": 8,
     "metadata": {},
     "output_type": "execute_result"
    }
   ],
   "source": [
    "# FREE MEMORY\n",
    "del all_eegs, spectrograms, data\n",
    "gc.collect()"
   ]
  },
  {
   "cell_type": "markdown",
   "id": "d3bd54c4",
   "metadata": {
    "papermill": {
     "duration": 0.022162,
     "end_time": "2024-02-01T15:26:41.466446",
     "exception": false,
     "start_time": "2024-02-01T15:26:41.444284",
     "status": "completed"
    },
    "tags": []
   },
   "source": [
    "# Train CatBoost\n",
    "We use the default settings for CatBoost which are pretty good. We can tune CatBoost manually to improve CV and LB score. Note that CatBoost will automatically use both Kaggle T4 GPUs (when we add parameter `task_type='GPU'`)  for super fast training!"
   ]
  },
  {
   "cell_type": "code",
   "execution_count": 9,
   "id": "f9861ef9",
   "metadata": {
    "execution": {
     "iopub.execute_input": "2024-02-01T15:26:41.519804Z",
     "iopub.status.busy": "2024-02-01T15:26:41.519471Z",
     "iopub.status.idle": "2024-02-01T15:26:43.328725Z",
     "shell.execute_reply": "2024-02-01T15:26:43.327704Z"
    },
    "papermill": {
     "duration": 1.839324,
     "end_time": "2024-02-01T15:26:43.331151",
     "exception": false,
     "start_time": "2024-02-01T15:26:41.491827",
     "status": "completed"
    },
    "tags": []
   },
   "outputs": [
    {
     "name": "stdout",
     "output_type": "stream",
     "text": [
      "CatBoost version 1.2.2\n"
     ]
    }
   ],
   "source": [
    "import catboost as cat\n",
    "from catboost import CatBoostClassifier, Pool\n",
    "print('CatBoost version',cat.__version__)"
   ]
  },
  {
   "cell_type": "code",
   "execution_count": 10,
   "id": "eda5b9b2",
   "metadata": {
    "execution": {
     "iopub.execute_input": "2024-02-01T15:26:43.378563Z",
     "iopub.status.busy": "2024-02-01T15:26:43.378157Z",
     "iopub.status.idle": "2024-02-01T15:34:18.895400Z",
     "shell.execute_reply": "2024-02-01T15:34:18.893302Z"
    },
    "papermill": {
     "duration": 455.544173,
     "end_time": "2024-02-01T15:34:18.898180",
     "exception": false,
     "start_time": "2024-02-01T15:26:43.354007",
     "status": "completed"
    },
    "tags": []
   },
   "outputs": [
    {
     "name": "stdout",
     "output_type": "stream",
     "text": [
      "#########################\n",
      "### Fold 1\n",
      "### train size 13671, valid size 3418\n",
      "#########################\n",
      "Learning rate set to 0.136945\n",
      "0:\tlearn: 1.6396721\ttest: 1.6737096\tbest: 1.6737096 (0)\ttotal: 377ms\tremaining: 6m 16s\n",
      "100:\tlearn: 0.7138030\ttest: 1.0707910\tbest: 1.0706475 (99)\ttotal: 9.12s\tremaining: 1m 21s\n",
      "200:\tlearn: 0.5592360\ttest: 1.0337357\tbest: 1.0334695 (195)\ttotal: 17.6s\tremaining: 1m 10s\n",
      "300:\tlearn: 0.4583913\ttest: 1.0275270\tbest: 1.0265477 (297)\ttotal: 26.2s\tremaining: 1m\n",
      "400:\tlearn: 0.3850699\ttest: 1.0202451\tbest: 1.0186940 (381)\ttotal: 34.6s\tremaining: 51.7s\n",
      "500:\tlearn: 0.3279357\ttest: 1.0191330\tbest: 1.0169797 (451)\ttotal: 42.6s\tremaining: 42.4s\n",
      "600:\tlearn: 0.2789594\ttest: 1.0212842\tbest: 1.0169797 (451)\ttotal: 50.8s\tremaining: 33.7s\n",
      "700:\tlearn: 0.2417184\ttest: 1.0289869\tbest: 1.0169797 (451)\ttotal: 59.1s\tremaining: 25.2s\n",
      "800:\tlearn: 0.2087914\ttest: 1.0308966\tbest: 1.0169797 (451)\ttotal: 1m 7s\tremaining: 16.8s\n",
      "900:\tlearn: 0.1814823\ttest: 1.0345071\tbest: 1.0169797 (451)\ttotal: 1m 16s\tremaining: 8.36s\n",
      "999:\tlearn: 0.1584024\ttest: 1.0393613\tbest: 1.0169797 (451)\ttotal: 1m 24s\tremaining: 0us\n",
      "bestTest = 1.016979702\n",
      "bestIteration = 451\n",
      "Shrink model to first 452 iterations.\n",
      "#########################\n",
      "### Fold 2\n",
      "### train size 13671, valid size 3418\n",
      "#########################\n",
      "Learning rate set to 0.136945\n",
      "0:\tlearn: 1.6459432\ttest: 1.6612391\tbest: 1.6612391 (0)\ttotal: 177ms\tremaining: 2m 56s\n",
      "100:\tlearn: 0.7239932\ttest: 0.9743822\tbest: 0.9743822 (100)\ttotal: 9.31s\tremaining: 1m 22s\n",
      "200:\tlearn: 0.5699213\ttest: 0.9486675\tbest: 0.9475629 (196)\ttotal: 18.3s\tremaining: 1m 12s\n",
      "300:\tlearn: 0.4692893\ttest: 0.9401213\tbest: 0.9386121 (250)\ttotal: 26.9s\tremaining: 1m 2s\n",
      "400:\tlearn: 0.3927167\ttest: 0.9435424\tbest: 0.9380796 (334)\ttotal: 35.6s\tremaining: 53.1s\n",
      "500:\tlearn: 0.3334851\ttest: 0.9401934\tbest: 0.9380796 (334)\ttotal: 44.2s\tremaining: 44s\n",
      "600:\tlearn: 0.2836813\ttest: 0.9425557\tbest: 0.9380796 (334)\ttotal: 52.8s\tremaining: 35.1s\n",
      "700:\tlearn: 0.2463686\ttest: 0.9453786\tbest: 0.9380796 (334)\ttotal: 1m 1s\tremaining: 26.1s\n",
      "800:\tlearn: 0.2142613\ttest: 0.9493190\tbest: 0.9380796 (334)\ttotal: 1m 9s\tremaining: 17.3s\n",
      "900:\tlearn: 0.1865893\ttest: 0.9539502\tbest: 0.9380796 (334)\ttotal: 1m 18s\tremaining: 8.57s\n",
      "999:\tlearn: 0.1634502\ttest: 0.9583274\tbest: 0.9380796 (334)\ttotal: 1m 26s\tremaining: 0us\n",
      "bestTest = 0.9380796376\n",
      "bestIteration = 334\n",
      "Shrink model to first 335 iterations.\n",
      "#########################\n",
      "### Fold 3\n",
      "### train size 13671, valid size 3418\n",
      "#########################\n",
      "Learning rate set to 0.136945\n",
      "0:\tlearn: 1.6526241\ttest: 1.6461548\tbest: 1.6461548 (0)\ttotal: 165ms\tremaining: 2m 45s\n",
      "100:\tlearn: 0.7192573\ttest: 0.9477826\tbest: 0.9477826 (100)\ttotal: 8.9s\tremaining: 1m 19s\n",
      "200:\tlearn: 0.5676186\ttest: 0.9136545\tbest: 0.9132191 (199)\ttotal: 17.3s\tremaining: 1m 8s\n",
      "300:\tlearn: 0.4623658\ttest: 0.9014712\tbest: 0.9014712 (300)\ttotal: 25.6s\tremaining: 59.4s\n",
      "400:\tlearn: 0.3905511\ttest: 0.8963422\tbest: 0.8963422 (400)\ttotal: 34s\tremaining: 50.7s\n",
      "500:\tlearn: 0.3314110\ttest: 0.8955510\tbest: 0.8955510 (500)\ttotal: 42.3s\tremaining: 42.1s\n",
      "600:\tlearn: 0.2845700\ttest: 0.8952820\tbest: 0.8941599 (553)\ttotal: 51.1s\tremaining: 33.9s\n",
      "700:\tlearn: 0.2468110\ttest: 0.8944520\tbest: 0.8919386 (663)\ttotal: 59.7s\tremaining: 25.5s\n",
      "800:\tlearn: 0.2150994\ttest: 0.8967177\tbest: 0.8919386 (663)\ttotal: 1m 8s\tremaining: 17s\n",
      "900:\tlearn: 0.1886719\ttest: 0.8992451\tbest: 0.8919386 (663)\ttotal: 1m 17s\tremaining: 8.46s\n",
      "999:\tlearn: 0.1673126\ttest: 0.9020779\tbest: 0.8919386 (663)\ttotal: 1m 25s\tremaining: 0us\n",
      "bestTest = 0.8919386308\n",
      "bestIteration = 663\n",
      "Shrink model to first 664 iterations.\n",
      "#########################\n",
      "### Fold 4\n",
      "### train size 13671, valid size 3418\n",
      "#########################\n",
      "Learning rate set to 0.136945\n",
      "0:\tlearn: 1.6420035\ttest: 1.6771631\tbest: 1.6771631 (0)\ttotal: 170ms\tremaining: 2m 49s\n",
      "100:\tlearn: 0.6988361\ttest: 1.0617346\tbest: 1.0617346 (100)\ttotal: 8.95s\tremaining: 1m 19s\n",
      "200:\tlearn: 0.5479705\ttest: 1.0344302\tbest: 1.0341464 (199)\ttotal: 17.7s\tremaining: 1m 10s\n",
      "300:\tlearn: 0.4513955\ttest: 1.0227484\tbest: 1.0224448 (291)\ttotal: 26.6s\tremaining: 1m 1s\n",
      "400:\tlearn: 0.3733306\ttest: 1.0193283\tbest: 1.0184457 (390)\ttotal: 35.3s\tremaining: 52.8s\n",
      "500:\tlearn: 0.3148853\ttest: 1.0265901\tbest: 1.0184457 (390)\ttotal: 43.9s\tremaining: 43.7s\n",
      "600:\tlearn: 0.2694676\ttest: 1.0313164\tbest: 1.0184457 (390)\ttotal: 51.9s\tremaining: 34.5s\n",
      "700:\tlearn: 0.2328043\ttest: 1.0363075\tbest: 1.0184457 (390)\ttotal: 59.9s\tremaining: 25.6s\n",
      "800:\tlearn: 0.2014938\ttest: 1.0438617\tbest: 1.0184457 (390)\ttotal: 1m 8s\tremaining: 17s\n",
      "900:\tlearn: 0.1756809\ttest: 1.0497177\tbest: 1.0184457 (390)\ttotal: 1m 16s\tremaining: 8.4s\n",
      "999:\tlearn: 0.1549550\ttest: 1.0551089\tbest: 1.0184457 (390)\ttotal: 1m 24s\tremaining: 0us\n",
      "bestTest = 1.018445688\n",
      "bestIteration = 390\n",
      "Shrink model to first 391 iterations.\n",
      "#########################\n",
      "### Fold 5\n",
      "### train size 13672, valid size 3417\n",
      "#########################\n",
      "Learning rate set to 0.136946\n",
      "0:\tlearn: 1.6437714\ttest: 1.6641434\tbest: 1.6641434 (0)\ttotal: 173ms\tremaining: 2m 52s\n",
      "100:\tlearn: 0.7118215\ttest: 1.0937654\tbest: 1.0899618 (97)\ttotal: 8.98s\tremaining: 1m 19s\n",
      "200:\tlearn: 0.5599617\ttest: 1.0796883\tbest: 1.0786670 (197)\ttotal: 17.7s\tremaining: 1m 10s\n",
      "300:\tlearn: 0.4614252\ttest: 1.0733069\tbest: 1.0696152 (283)\ttotal: 26.3s\tremaining: 1m 1s\n",
      "400:\tlearn: 0.3873805\ttest: 1.0744072\tbest: 1.0696152 (283)\ttotal: 35.1s\tremaining: 52.5s\n",
      "500:\tlearn: 0.3271544\ttest: 1.0697373\tbest: 1.0693167 (484)\ttotal: 43.8s\tremaining: 43.6s\n",
      "600:\tlearn: 0.2826510\ttest: 1.0702573\tbest: 1.0670974 (522)\ttotal: 51.7s\tremaining: 34.3s\n",
      "700:\tlearn: 0.2440299\ttest: 1.0755318\tbest: 1.0670974 (522)\ttotal: 59.8s\tremaining: 25.5s\n",
      "800:\tlearn: 0.2114120\ttest: 1.0751453\tbest: 1.0670974 (522)\ttotal: 1m 8s\tremaining: 17s\n",
      "900:\tlearn: 0.1853439\ttest: 1.0859292\tbest: 1.0670974 (522)\ttotal: 1m 16s\tremaining: 8.44s\n",
      "999:\tlearn: 0.1635328\ttest: 1.0937741\tbest: 1.0670974 (522)\ttotal: 1m 25s\tremaining: 0us\n",
      "bestTest = 1.067097374\n",
      "bestIteration = 522\n",
      "Shrink model to first 523 iterations.\n"
     ]
    }
   ],
   "source": [
    "from sklearn.model_selection import KFold, GroupKFold\n",
    "\n",
    "all_oof = []\n",
    "all_true = []\n",
    "TARS = {'Seizure':0, 'LPD':1, 'GPD':2, 'LRDA':3, 'GRDA':4, 'Other':5}\n",
    "\n",
    "gkf = GroupKFold(n_splits=5)\n",
    "for i, (train_index, valid_index) in enumerate(gkf.split(train, train.target, train.patient_id)):   \n",
    "    \n",
    "    print('#'*25)\n",
    "    print(f'### Fold {i+1}')\n",
    "    print(f'### train size {len(train_index)}, valid size {len(valid_index)}')\n",
    "    print('#'*25)\n",
    "    \n",
    "    model = CatBoostClassifier(task_type='GPU',\n",
    "                               loss_function='MultiClass')\n",
    "    \n",
    "    train_pool = Pool(\n",
    "        data = train.loc[train_index,FEATURES],\n",
    "        label = train.loc[train_index,'target'].map(TARS),\n",
    "    )\n",
    "    \n",
    "    valid_pool = Pool(\n",
    "        data = train.loc[valid_index,FEATURES],\n",
    "        label = train.loc[valid_index,'target'].map(TARS),\n",
    "    )\n",
    "    \n",
    "    model.fit(train_pool,\n",
    "             verbose=100,\n",
    "             eval_set=valid_pool,\n",
    "             )\n",
    "    model.save_model(f'CAT_v{VER}_f{i}.cat')\n",
    "    \n",
    "    oof = model.predict_proba(valid_pool)\n",
    "    all_oof.append(oof)\n",
    "    all_true.append(train.loc[valid_index, TARGETS].values)\n",
    "    \n",
    "    del train_pool, valid_pool, oof #model\n",
    "    gc.collect()\n",
    "    \n",
    "    #break\n",
    "    \n",
    "all_oof = np.concatenate(all_oof)\n",
    "all_true = np.concatenate(all_true)"
   ]
  },
  {
   "cell_type": "markdown",
   "id": "1e7b683f",
   "metadata": {
    "papermill": {
     "duration": 0.036776,
     "end_time": "2024-02-01T15:34:18.972518",
     "exception": false,
     "start_time": "2024-02-01T15:34:18.935742",
     "status": "completed"
    },
    "tags": []
   },
   "source": [
    "# Feature Importance\n",
    "Below we display the CatBoost top 25 feature importance for the last fold we trained."
   ]
  },
  {
   "cell_type": "code",
   "execution_count": 11,
   "id": "77e2c693",
   "metadata": {
    "execution": {
     "iopub.execute_input": "2024-02-01T15:34:19.098333Z",
     "iopub.status.busy": "2024-02-01T15:34:19.097259Z",
     "iopub.status.idle": "2024-02-01T15:34:19.622517Z",
     "shell.execute_reply": "2024-02-01T15:34:19.621448Z"
    },
    "papermill": {
     "duration": 0.614848,
     "end_time": "2024-02-01T15:34:19.625038",
     "exception": false,
     "start_time": "2024-02-01T15:34:19.010190",
     "status": "completed"
    },
    "tags": []
   },
   "outputs": [
    {
     "data": {
      "image/png": "[encoded data removed]",
      "text/plain": [
       "<Figure size 1000x800 with 1 Axes>"
      ]
     },
     "metadata": {},
     "output_type": "display_data"
    }
   ],
   "source": [
    "TOP = 25\n",
    "\n",
    "feature_importance = model.feature_importances_\n",
    "sorted_idx = np.argsort(feature_importance)\n",
    "fig = plt.figure(figsize=(10, 8))\n",
    "plt.barh(np.arange(len(sorted_idx))[-TOP:], feature_importance[sorted_idx][-TOP:], align='center')\n",
    "plt.yticks(np.arange(len(sorted_idx))[-TOP:], np.array(FEATURES)[sorted_idx][-TOP:])\n",
    "plt.title(f'Feature Importance - Top {TOP}')\n",
    "plt.show()"
   ]
  },
  {
   "cell_type": "markdown",
   "id": "bd51ac9e",
   "metadata": {
    "papermill": {
     "duration": 0.035905,
     "end_time": "2024-02-01T15:34:19.694146",
     "exception": false,
     "start_time": "2024-02-01T15:34:19.658241",
     "status": "completed"
    },
    "tags": []
   },
   "source": [
    "# CV Score for CatBoost\n",
    "This is CV score for our CatBoost model."
   ]
  },
  {
   "cell_type": "code",
   "execution_count": 12,
   "id": "f4ee2d54",
   "metadata": {
    "execution": {
     "iopub.execute_input": "2024-02-01T15:34:19.755467Z",
     "iopub.status.busy": "2024-02-01T15:34:19.755047Z",
     "iopub.status.idle": "2024-02-01T15:34:19.846178Z",
     "shell.execute_reply": "2024-02-01T15:34:19.844916Z"
    },
    "papermill": {
     "duration": 0.123714,
     "end_time": "2024-02-01T15:34:19.848617",
     "exception": false,
     "start_time": "2024-02-01T15:34:19.724903",
     "status": "completed"
    },
    "tags": []
   },
   "outputs": [
    {
     "name": "stdout",
     "output_type": "stream",
     "text": [
      "CV Score KL-Div for CatBoost = 0.7551946998936143\n"
     ]
    }
   ],
   "source": [
    "import sys\n",
    "sys.path.append('/kaggle/input/kaggle-kl-div')\n",
    "from kaggle_kl_div import score\n",
    "\n",
    "oof = pd.DataFrame(all_oof.copy())\n",
    "oof['id'] = np.arange(len(oof))\n",
    "\n",
    "true = pd.DataFrame(all_true.copy())\n",
    "true['id'] = np.arange(len(true))\n",
    "\n",
    "cv = score(solution=true, submission=oof, row_id_column_name='id')\n",
    "print('CV Score KL-Div for CatBoost =',cv)"
   ]
  },
  {
   "cell_type": "markdown",
   "id": "e4e82d8b",
   "metadata": {
    "papermill": {
     "duration": 0.02865,
     "end_time": "2024-02-01T15:34:19.909697",
     "exception": false,
     "start_time": "2024-02-01T15:34:19.881047",
     "status": "completed"
    },
    "tags": []
   },
   "source": [
    "# CV Score for Preds 1/6\n",
    "This is CV score for Kaggle's sample submission.csv which uses equal predictions of 1/6 for all targets."
   ]
  },
  {
   "cell_type": "code",
   "execution_count": 13,
   "id": "729ff957",
   "metadata": {
    "execution": {
     "iopub.execute_input": "2024-02-01T15:34:19.976024Z",
     "iopub.status.busy": "2024-02-01T15:34:19.975671Z",
     "iopub.status.idle": "2024-02-01T15:34:20.034582Z",
     "shell.execute_reply": "2024-02-01T15:34:20.033502Z"
    },
    "papermill": {
     "duration": 0.098156,
     "end_time": "2024-02-01T15:34:20.037123",
     "exception": false,
     "start_time": "2024-02-01T15:34:19.938967",
     "status": "completed"
    },
    "tags": []
   },
   "outputs": [
    {
     "name": "stdout",
     "output_type": "stream",
     "text": [
      "CV Score for \"Use Equal Preds 1/6\" = 1.4563246139800803\n"
     ]
    }
   ],
   "source": [
    "oof = pd.DataFrame(all_oof.copy())\n",
    "for c in oof.columns:\n",
    "    oof[c] = 1/6.\n",
    "oof['id'] = np.arange(len(oof))\n",
    "\n",
    "true = pd.DataFrame(all_true.copy())\n",
    "true['id'] = np.arange(len(true))\n",
    "\n",
    "cv = score(solution=true, submission=oof, row_id_column_name='id')\n",
    "print('CV Score for \"Use Equal Preds 1/6\" =',cv)"
   ]
  },
  {
   "cell_type": "markdown",
   "id": "c07c47ec",
   "metadata": {
    "papermill": {
     "duration": 0.028763,
     "end_time": "2024-02-01T15:34:20.098913",
     "exception": false,
     "start_time": "2024-02-01T15:34:20.070150",
     "status": "completed"
    },
    "tags": []
   },
   "source": [
    "# CV Score for EEG_Id Means\n",
    "This is CV score for current highest scoring public notebook [here][1] which uses train means as predictions.\n",
    "\n",
    "[1]: https://www.kaggle.com/code/seshurajup/eda-train-csv"
   ]
  },
  {
   "cell_type": "code",
   "execution_count": 14,
   "id": "98617b18",
   "metadata": {
    "execution": {
     "iopub.execute_input": "2024-02-01T15:34:20.160952Z",
     "iopub.status.busy": "2024-02-01T15:34:20.160041Z",
     "iopub.status.idle": "2024-02-01T15:34:22.473178Z",
     "shell.execute_reply": "2024-02-01T15:34:22.472350Z"
    },
    "papermill": {
     "duration": 2.34761,
     "end_time": "2024-02-01T15:34:22.476328",
     "exception": false,
     "start_time": "2024-02-01T15:34:20.128718",
     "status": "completed"
    },
    "tags": []
   },
   "outputs": [],
   "source": [
    "all_oof2 = []\n",
    "\n",
    "gkf = GroupKFold(n_splits=5)\n",
    "for i, (train_index, valid_index) in enumerate(gkf.split(train, train.target, train.patient_id)):  \n",
    "    #print('#'*25)\n",
    "    #print(f'### Fold {i+1}')\n",
    "        \n",
    "    y_train = train.iloc[train_index][TARGETS].values\n",
    "    y_valid = train.iloc[valid_index][TARGETS].values\n",
    "    \n",
    "    #print(f'### train size {len(train_index)}, valid size {len(valid_index)}')\n",
    "    #print('#'*25)\n",
    "        \n",
    "    oof = y_valid.copy()\n",
    "    for j in range(6):\n",
    "        oof[:,j] = y_train[:,j].mean()\n",
    "    oof = oof / oof.sum(axis=1,keepdims=True)\n",
    "    all_oof2.append(oof)\n",
    "    \n",
    "all_oof2 = np.concatenate(all_oof2)"
   ]
  },
  {
   "cell_type": "code",
   "execution_count": 15,
   "id": "b8c12631",
   "metadata": {
    "execution": {
     "iopub.execute_input": "2024-02-01T15:34:22.536485Z",
     "iopub.status.busy": "2024-02-01T15:34:22.535889Z",
     "iopub.status.idle": "2024-02-01T15:34:22.594661Z",
     "shell.execute_reply": "2024-02-01T15:34:22.593574Z"
    },
    "papermill": {
     "duration": 0.090694,
     "end_time": "2024-02-01T15:34:22.596705",
     "exception": false,
     "start_time": "2024-02-01T15:34:22.506011",
     "status": "completed"
    },
    "tags": []
   },
   "outputs": [
    {
     "name": "stdout",
     "output_type": "stream",
     "text": [
      "CV Score for \"Use Train Means\" = 1.2637606169964546\n"
     ]
    }
   ],
   "source": [
    "oof = pd.DataFrame(all_oof2.copy())\n",
    "oof['id'] = np.arange(len(oof))\n",
    "\n",
    "true = pd.DataFrame(all_true.copy())\n",
    "true['id'] = np.arange(len(true))\n",
    "\n",
    "cv = score(solution=true, submission=oof, row_id_column_name='id')\n",
    "print('CV Score for \"Use Train Means\" =',cv)"
   ]
  },
  {
   "cell_type": "markdown",
   "id": "9a649fcc",
   "metadata": {
    "papermill": {
     "duration": 0.02822,
     "end_time": "2024-02-01T15:34:22.654809",
     "exception": false,
     "start_time": "2024-02-01T15:34:22.626589",
     "status": "completed"
    },
    "tags": []
   },
   "source": [
    "# Infer Test and Create Submission CSV\n",
    "Below we use our 5 CatBoost fold models to infer the test data and create a `submission.csv` file."
   ]
  },
  {
   "cell_type": "code",
   "execution_count": 16,
   "id": "41c0c970",
   "metadata": {
    "execution": {
     "iopub.execute_input": "2024-02-01T15:34:22.714255Z",
     "iopub.status.busy": "2024-02-01T15:34:22.713873Z",
     "iopub.status.idle": "2024-02-01T15:34:22.801383Z",
     "shell.execute_reply": "2024-02-01T15:34:22.800464Z"
    },
    "papermill": {
     "duration": 0.120061,
     "end_time": "2024-02-01T15:34:22.803374",
     "exception": false,
     "start_time": "2024-02-01T15:34:22.683313",
     "status": "completed"
    },
    "tags": []
   },
   "outputs": [
    {
     "name": "stdout",
     "output_type": "stream",
     "text": [
      "Test shape (1, 3)\n"
     ]
    },
    {
     "data": {
      "text/html": [
       "<div>\n",
       "<style scoped>\n",
       "    .dataframe tbody tr th:only-of-type {\n",
       "        vertical-align: middle;\n",
       "    }\n",
       "\n",
       "    .dataframe tbody tr th {\n",
       "        vertical-align: top;\n",
       "    }\n",
       "\n",
       "    .dataframe thead th {\n",
       "        text-align: right;\n",
       "    }\n",
       "</style>\n",
       "<table border=\"1\" class=\"dataframe\">\n",
       "  <thead>\n",
       "    <tr style=\"text-align: right;\">\n",
       "      <th></th>\n",
       "      <th>spectrogram_id</th>\n",
       "      <th>eeg_id</th>\n",
       "      <th>patient_id</th>\n",
       "    </tr>\n",
       "  </thead>\n",
       "  <tbody>\n",
       "    <tr>\n",
       "      <th>0</th>\n",
       "      <td>853520</td>\n",
       "      <td>3911565283</td>\n",
       "      <td>6885</td>\n",
       "    </tr>\n",
       "  </tbody>\n",
       "</table>\n",
       "</div>"
      ],
      "text/plain": [
       "   spectrogram_id      eeg_id  patient_id\n",
       "0          853520  3911565283        6885"
      ]
     },
     "execution_count": 16,
     "metadata": {},
     "output_type": "execute_result"
    }
   ],
   "source": [
    "del train; gc.collect()\n",
    "test = pd.read_csv('/kaggle/input/hms-harmful-brain-activity-classification/test.csv')\n",
    "print('Test shape',test.shape)\n",
    "test.head()"
   ]
  },
  {
   "cell_type": "code",
   "execution_count": 17,
   "id": "3fd5bdbb",
   "metadata": {
    "_kg_hide-input": true,
    "execution": {
     "iopub.execute_input": "2024-02-01T15:34:22.864042Z",
     "iopub.status.busy": "2024-02-01T15:34:22.863733Z",
     "iopub.status.idle": "2024-02-01T15:34:22.966705Z",
     "shell.execute_reply": "2024-02-01T15:34:22.965832Z"
    },
    "papermill": {
     "duration": 0.135063,
     "end_time": "2024-02-01T15:34:22.968747",
     "exception": false,
     "start_time": "2024-02-01T15:34:22.833684",
     "status": "completed"
    },
    "tags": []
   },
   "outputs": [],
   "source": [
    "import pywt, librosa\n",
    "\n",
    "USE_WAVELET = None \n",
    "\n",
    "NAMES = ['LL','LP','RP','RR']\n",
    "\n",
    "FEATS = [['Fp1','F7','T3','T5','O1'],\n",
    "         ['Fp1','F3','C3','P3','O1'],\n",
    "         ['Fp2','F8','T4','T6','O2'],\n",
    "         ['Fp2','F4','C4','P4','O2']]\n",
    "\n",
    "# DENOISE FUNCTION\n",
    "def maddest(d, axis=None):\n",
    "    return np.mean(np.absolute(d - np.mean(d, axis)), axis)\n",
    "\n",
    "def denoise(x, wavelet='haar', level=1):    \n",
    "    coeff = pywt.wavedec(x, wavelet, mode=\"per\")\n",
    "    sigma = (1/0.6745) * maddest(coeff[-level])\n",
    "\n",
    "    uthresh = sigma * np.sqrt(2*np.log(len(x)))\n",
    "    coeff[1:] = (pywt.threshold(i, value=uthresh, mode='hard') for i in coeff[1:])\n",
    "\n",
    "    ret=pywt.waverec(coeff, wavelet, mode='per')\n",
    "    \n",
    "    return ret\n",
    "\n",
    "def spectrogram_from_eeg(parquet_path, display=False):\n",
    "    \n",
    "    # LOAD MIDDLE 50 SECONDS OF EEG SERIES\n",
    "    eeg = pd.read_parquet(parquet_path)\n",
    "    middle = (len(eeg)-10_000)//2\n",
    "    eeg = eeg.iloc[middle:middle+10_000]\n",
    "    \n",
    "    # VARIABLE TO HOLD SPECTROGRAM\n",
    "    img = np.zeros((128,256,4),dtype='float32')\n",
    "    \n",
    "    if display: plt.figure(figsize=(10,7))\n",
    "    signals = []\n",
    "    for k in range(4):\n",
    "        COLS = FEATS[k]\n",
    "        \n",
    "        for kk in range(4):\n",
    "        \n",
    "            # COMPUTE PAIR DIFFERENCES\n",
    "            x = eeg[COLS[kk]].values - eeg[COLS[kk+1]].values\n",
    "\n",
    "            # FILL NANS\n",
    "            m = np.nanmean(x)\n",
    "            if np.isnan(x).mean()<1: x = np.nan_to_num(x,nan=m)\n",
    "            else: x[:] = 0\n",
    "\n",
    "            # DENOISE\n",
    "            if USE_WAVELET:\n",
    "                x = denoise(x, wavelet=USE_WAVELET)\n",
    "            signals.append(x)\n",
    "\n",
    "            # RAW SPECTROGRAM\n",
    "            mel_spec = librosa.feature.melspectrogram(y=x, sr=200, hop_length=len(x)//256, \n",
    "                  n_fft=1024, n_mels=128, fmin=0, fmax=20, win_length=128)\n",
    "\n",
    "            # LOG TRANSFORM\n",
    "            width = (mel_spec.shape[1]//32)*32\n",
    "            mel_spec_db = librosa.power_to_db(mel_spec, ref=np.max).astype(np.float32)[:,:width]\n",
    "\n",
    "            # STANDARDIZE TO -1 TO 1\n",
    "            mel_spec_db = (mel_spec_db+40)/40 \n",
    "            img[:,:,k] += mel_spec_db\n",
    "                \n",
    "        # AVERAGE THE 4 MONTAGE DIFFERENCES\n",
    "        img[:,:,k] /= 4.0\n",
    "        \n",
    "        if display:\n",
    "            plt.subplot(2,2,k+1)\n",
    "            plt.imshow(img[:,:,k],aspect='auto',origin='lower')\n",
    "            plt.title(f'EEG {eeg_id} - Spectrogram {NAMES[k]}')\n",
    "            \n",
    "    if display: \n",
    "        plt.show()\n",
    "        plt.figure(figsize=(10,5))\n",
    "        offset = 0\n",
    "        for k in range(4):\n",
    "            if k>0: offset -= signals[3-k].min()\n",
    "            plt.plot(range(10_000),signals[k]+offset,label=NAMES[3-k])\n",
    "            offset += signals[3-k].max()\n",
    "        plt.legend()\n",
    "        plt.title(f'EEG {eeg_id} Signals')\n",
    "        plt.show()\n",
    "        print(); print('#'*25); print()\n",
    "        \n",
    "    return img"
   ]
  },
  {
   "cell_type": "code",
   "execution_count": 18,
   "id": "0d510387",
   "metadata": {
    "execution": {
     "iopub.execute_input": "2024-02-01T15:34:23.033612Z",
     "iopub.status.busy": "2024-02-01T15:34:23.032722Z",
     "iopub.status.idle": "2024-02-01T15:34:32.423827Z",
     "shell.execute_reply": "2024-02-01T15:34:32.422505Z"
    },
    "papermill": {
     "duration": 9.428466,
     "end_time": "2024-02-01T15:34:32.427483",
     "exception": false,
     "start_time": "2024-02-01T15:34:22.999017",
     "status": "completed"
    },
    "tags": []
   },
   "outputs": [
    {
     "name": "stdout",
     "output_type": "stream",
     "text": [
      "Converting Test EEG to Spectrograms...\n",
      "\n"
     ]
    }
   ],
   "source": [
    "# CREATE ALL EEG SPECTROGRAMS\n",
    "PATH2 = '/kaggle/input/hms-harmful-brain-activity-classification/test_eegs/'\n",
    "DISPLAY = 0\n",
    "EEG_IDS2 = test.eeg_id.unique()\n",
    "all_eegs2 = {}\n",
    "\n",
    "print('Converting Test EEG to Spectrograms...'); print()\n",
    "for i,eeg_id in enumerate(EEG_IDS2):\n",
    "        \n",
    "    # CREATE SPECTROGRAM FROM EEG PARQUET\n",
    "    img = spectrogram_from_eeg(f'{PATH2}{eeg_id}.parquet', i<DISPLAY)\n",
    "    all_eegs2[eeg_id] = img"
   ]
  },
  {
   "cell_type": "code",
   "execution_count": 19,
   "id": "939ac170",
   "metadata": {
    "execution": {
     "iopub.execute_input": "2024-02-01T15:34:32.555099Z",
     "iopub.status.busy": "2024-02-01T15:34:32.554655Z",
     "iopub.status.idle": "2024-02-01T15:34:35.777467Z",
     "shell.execute_reply": "2024-02-01T15:34:35.776434Z"
    },
    "papermill": {
     "duration": 3.288343,
     "end_time": "2024-02-01T15:34:35.779637",
     "exception": false,
     "start_time": "2024-02-01T15:34:32.491294",
     "status": "completed"
    },
    "tags": []
   },
   "outputs": [
    {
     "name": "stdout",
     "output_type": "stream",
     "text": [
      "New test shape (1, 3651)\n"
     ]
    }
   ],
   "source": [
    "# FEATURE ENGINEER TEST\n",
    "PATH2 = '/kaggle/input/hms-harmful-brain-activity-classification/test_spectrograms/'\n",
    "data = np.zeros((len(test),len(FEATURES)))\n",
    "    \n",
    "for k in range(len(test)):\n",
    "    row = test.iloc[k]\n",
    "    s = int( row.spectrogram_id )\n",
    "    spec = pd.read_parquet(f'{PATH2}{s}.parquet')\n",
    "    \n",
    "    # 10 MINUTE WINDOW FEATURES\n",
    "    x = np.nanmean( spec.iloc[:,1:].values, axis=0)\n",
    "    data[k,:400] = x\n",
    "    x = np.nanmin( spec.iloc[:,1:].values, axis=0)\n",
    "    data[k,400:800] = x\n",
    "\n",
    "    # 20 SECOND WINDOW FEATURES\n",
    "    x = np.nanmean( spec.iloc[145:155,1:].values, axis=0)\n",
    "    data[k,800:1200] = x\n",
    "    x = np.nanmin( spec.iloc[145:155,1:].values, axis=0)\n",
    "    data[k,1200:1600] = x\n",
    "    \n",
    "    # RESHAPE EEG SPECTROGRAMS 128x256x4 => 512x256\n",
    "    eeg_spec = np.zeros((512,256),dtype='float32')\n",
    "    xx = all_eegs2[row.eeg_id]\n",
    "    for j in range(4): eeg_spec[128*j:128*(j+1),] = xx[:,:,j]\n",
    "\n",
    "    # 10 SECOND WINDOW FROM EEG SPECTROGRAMS \n",
    "    x = np.nanmean(eeg_spec.T[100:-100,:],axis=0)\n",
    "    data[k,1600:2112] = x\n",
    "    x = np.nanmin(eeg_spec.T[100:-100,:],axis=0)\n",
    "    data[k,2112:2624] = x\n",
    "    x = np.nanmax(eeg_spec.T[100:-100,:],axis=0)\n",
    "    data[k,2624:3136] = x\n",
    "    x = np.nanstd(eeg_spec.T[100:-100,:],axis=0)\n",
    "    data[k,3136:3648] = x\n",
    "\n",
    "test[FEATURES] = data\n",
    "print('New test shape',test.shape)"
   ]
  },
  {
   "cell_type": "code",
   "execution_count": 20,
   "id": "e5aee509",
   "metadata": {
    "execution": {
     "iopub.execute_input": "2024-02-01T15:34:35.841674Z",
     "iopub.status.busy": "2024-02-01T15:34:35.841340Z",
     "iopub.status.idle": "2024-02-01T15:34:37.817083Z",
     "shell.execute_reply": "2024-02-01T15:34:37.816090Z"
    },
    "papermill": {
     "duration": 2.009913,
     "end_time": "2024-02-01T15:34:37.819259",
     "exception": false,
     "start_time": "2024-02-01T15:34:35.809346",
     "status": "completed"
    },
    "tags": []
   },
   "outputs": [
    {
     "name": "stdout",
     "output_type": "stream",
     "text": [
      "0 , 1 , 2 , 3 , 4 , \n",
      "Test preds shape (1, 6)\n"
     ]
    }
   ],
   "source": [
    "# INFER CATBOOST ON TEST\n",
    "preds = []\n",
    "\n",
    "for i in range(5):\n",
    "    print(i,', ',end='')\n",
    "    model = CatBoostClassifier(task_type='GPU')\n",
    "    model.load_model(f'CAT_v{VER}_f{i}.cat')\n",
    "    \n",
    "    test_pool = Pool(\n",
    "        data = test[FEATURES]\n",
    "    )\n",
    "    \n",
    "    pred = model.predict_proba(test_pool)\n",
    "    preds.append(pred)\n",
    "pred = np.mean(preds,axis=0)\n",
    "print()\n",
    "print('Test preds shape',pred.shape)"
   ]
  },
  {
   "cell_type": "code",
   "execution_count": 21,
   "id": "3cec2730",
   "metadata": {
    "execution": {
     "iopub.execute_input": "2024-02-01T15:34:37.880135Z",
     "iopub.status.busy": "2024-02-01T15:34:37.879516Z",
     "iopub.status.idle": "2024-02-01T15:34:37.898809Z",
     "shell.execute_reply": "2024-02-01T15:34:37.897905Z"
    },
    "papermill": {
     "duration": 0.051449,
     "end_time": "2024-02-01T15:34:37.900733",
     "exception": false,
     "start_time": "2024-02-01T15:34:37.849284",
     "status": "completed"
    },
    "tags": []
   },
   "outputs": [
    {
     "name": "stdout",
     "output_type": "stream",
     "text": [
      "Submissionn shape (1, 7)\n"
     ]
    },
    {
     "data": {
      "text/html": [
       "<div>\n",
       "<style scoped>\n",
       "    .dataframe tbody tr th:only-of-type {\n",
       "        vertical-align: middle;\n",
       "    }\n",
       "\n",
       "    .dataframe tbody tr th {\n",
       "        vertical-align: top;\n",
       "    }\n",
       "\n",
       "    .dataframe thead th {\n",
       "        text-align: right;\n",
       "    }\n",
       "</style>\n",
       "<table border=\"1\" class=\"dataframe\">\n",
       "  <thead>\n",
       "    <tr style=\"text-align: right;\">\n",
       "      <th></th>\n",
       "      <th>eeg_id</th>\n",
       "      <th>seizure_vote</th>\n",
       "      <th>lpd_vote</th>\n",
       "      <th>gpd_vote</th>\n",
       "      <th>lrda_vote</th>\n",
       "      <th>grda_vote</th>\n",
       "      <th>other_vote</th>\n",
       "    </tr>\n",
       "  </thead>\n",
       "  <tbody>\n",
       "    <tr>\n",
       "      <th>0</th>\n",
       "      <td>3911565283</td>\n",
       "      <td>0.282869</td>\n",
       "      <td>0.006726</td>\n",
       "      <td>0.000382</td>\n",
       "      <td>0.154421</td>\n",
       "      <td>0.106088</td>\n",
       "      <td>0.449513</td>\n",
       "    </tr>\n",
       "  </tbody>\n",
       "</table>\n",
       "</div>"
      ],
      "text/plain": [
       "       eeg_id  seizure_vote  lpd_vote  gpd_vote  lrda_vote  grda_vote  \\\n",
       "0  3911565283      0.282869  0.006726  0.000382   0.154421   0.106088   \n",
       "\n",
       "   other_vote  \n",
       "0    0.449513  "
      ]
     },
     "execution_count": 21,
     "metadata": {},
     "output_type": "execute_result"
    }
   ],
   "source": [
    "sub = pd.DataFrame({'eeg_id':test.eeg_id.values})\n",
    "sub[TARGETS] = pred\n",
    "sub.to_csv('submission.csv',index=False)\n",
    "print('Submissionn shape',sub.shape)\n",
    "sub.head()"
   ]
  },
  {
   "cell_type": "code",
   "execution_count": 22,
   "id": "c7eacf1d",
   "metadata": {
    "execution": {
     "iopub.execute_input": "2024-02-01T15:34:37.962057Z",
     "iopub.status.busy": "2024-02-01T15:34:37.961789Z",
     "iopub.status.idle": "2024-02-01T15:34:37.968955Z",
     "shell.execute_reply": "2024-02-01T15:34:37.968114Z"
    },
    "papermill": {
     "duration": 0.039847,
     "end_time": "2024-02-01T15:34:37.970968",
     "exception": false,
     "start_time": "2024-02-01T15:34:37.931121",
     "status": "completed"
    },
    "tags": []
   },
   "outputs": [
    {
     "data": {
      "text/plain": [
       "0    1.0\n",
       "dtype: float64"
      ]
     },
     "execution_count": 22,
     "metadata": {},
     "output_type": "execute_result"
    }
   ],
   "source": [
    "# SANITY CHECK TO CONFIRM PREDICTIONS SUM TO ONE\n",
    "sub.iloc[:,-6:].sum(axis=1)"
   ]
  }
 ],
 "metadata": {
  "kaggle": {
   "accelerator": "nvidiaTeslaT4",
   "dataSources": [
    {
     "databundleVersionId": 7469972,
     "sourceId": 59093,
     "sourceType": "competition"
    },
    {
     "datasetId": 4297749,
     "sourceId": 7392733,
     "sourceType": "datasetVersion"
    },
    {
     "datasetId": 4297782,
     "sourceId": 7392775,
     "sourceType": "datasetVersion"
    },
    {
     "datasetId": 4334995,
     "sourceId": 7447509,
     "sourceType": "datasetVersion"
    }
   ],
   "dockerImageVersionId": 30646,
   "isGpuEnabled": true,
   "isInternetEnabled": false,
   "language": "python",
   "sourceType": "notebook"
  },
  "kernelspec": {
   "display_name": "Python 3",
   "language": "python",
   "name": "python3"
  },
  "language_info": {
   "codemirror_mode": {
    "name": "ipython",
    "version": 3
   },
   "file_extension": ".py",
   "mimetype": "text/x-python",
   "name": "python",
   "nbconvert_exporter": "python",
   "pygments_lexer": "ipython3",
   "version": "3.10.13"
  },
  "papermill": {
   "default_parameters": {},
   "duration": 651.688371,
   "end_time": "2024-02-01T15:34:40.417981",
   "environment_variables": {},
   "exception": null,
   "input_path": "__notebook__.ipynb",
   "output_path": "__notebook__.ipynb",
   "parameters": {},
   "start_time": "2024-02-01T15:23:48.729610",
   "version": "2.4.0"
  }
 },
 "nbformat": 4,
 "nbformat_minor": 5
}
