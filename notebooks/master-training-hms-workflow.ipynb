{
 "cells": [
  {
   "cell_type": "code",
   "execution_count": 1,
   "id": "6ac5794a",
   "metadata": {
    "execution": {
     "iopub.execute_input": "2024-02-18T14:22:55.085125Z",
     "iopub.status.busy": "2024-02-18T14:22:55.084709Z",
     "iopub.status.idle": "2024-02-18T14:23:03.102038Z",
     "shell.execute_reply": "2024-02-18T14:23:03.099742Z"
    },
    "papermill": {
     "duration": 8.023715,
     "end_time": "2024-02-18T14:23:03.103799",
     "exception": true,
     "start_time": "2024-02-18T14:22:55.080084",
     "status": "failed"
    },
    "tags": []
   },
   "outputs": [
    {
     "ename": "ModuleNotFoundError",
     "evalue": "No module named 'brain_solver'",
     "output_type": "error",
     "traceback": [
      "\u001b[0;31m---------------------------------------------------------------------------\u001b[0m",
      "\u001b[0;31mModuleNotFoundError\u001b[0m                       Traceback (most recent call last)",
      "Cell \u001b[0;32mIn[1], line 9\u001b[0m\n\u001b[1;32m      6\u001b[0m \u001b[38;5;28;01mimport\u001b[39;00m \u001b[38;5;21;01mnumpy\u001b[39;00m\n\u001b[1;32m      7\u001b[0m \u001b[38;5;28;01mimport\u001b[39;00m \u001b[38;5;21;01mtorchvision\u001b[39;00m\u001b[38;5;21;01m.\u001b[39;00m\u001b[38;5;21;01mmodels\u001b[39;00m \u001b[38;5;28;01mas\u001b[39;00m \u001b[38;5;21;01mmodels\u001b[39;00m\n\u001b[0;32m----> 9\u001b[0m \u001b[38;5;28;01mfrom\u001b[39;00m \u001b[38;5;21;01mbrain_solver\u001b[39;00m \u001b[38;5;28;01mimport\u001b[39;00m preprocess_eeg_data\n\u001b[1;32m     11\u001b[0m VER \u001b[38;5;241m=\u001b[39m \u001b[38;5;241m3\u001b[39m\n",
      "\u001b[0;31mModuleNotFoundError\u001b[0m: No module named 'brain_solver'"
     ]
    }
   ],
   "source": [
    "import os, gc\n",
    "os.environ[\"CUDA_VISIBLE_DEVICES\"]=\"0,1\"\n",
    "import pandas as pd, numpy as np\n",
    "import matplotlib.pyplot as plt\n",
    "import torch\n",
    "import numpy\n",
    "import torchvision.models as models\n",
    "\n",
    "from brain_solver import preprocess_eeg_data\n",
    "\n",
    "VER = 3"
   ]
  },
  {
   "cell_type": "code",
   "execution_count": null,
   "id": "ce5cf775",
   "metadata": {
    "execution": {
     "iopub.status.busy": "2024-02-16T15:02:56.688706Z",
     "iopub.status.idle": "2024-02-16T15:02:56.689118Z",
     "shell.execute_reply": "2024-02-16T15:02:56.688940Z",
     "shell.execute_reply.started": "2024-02-16T15:02:56.688923Z"
    },
    "papermill": {
     "duration": null,
     "end_time": null,
     "exception": null,
     "start_time": null,
     "status": "pending"
    },
    "tags": []
   },
   "outputs": [],
   "source": [
    "df = pd.read_csv('data/hms-harmful-brain-activity-classification/train.csv')\n",
    "\n",
    "TARGETS = df.columns[-6:]\n",
    "print('Train shape:', df.shape )\n",
    "print('Targets', list(TARGETS))\n",
    "df.head()"
   ]
  },
  {
   "cell_type": "markdown",
   "id": "1dd31eef",
   "metadata": {
    "papermill": {
     "duration": null,
     "end_time": null,
     "exception": null,
     "start_time": null,
     "status": "pending"
    },
    "tags": []
   },
   "source": [
    "##  Create Non-Overlapping Eeg Id Train Data\n",
    "The competition data description says that test data does not have multiple crops from the same eeg_id. Therefore we will train and validate using only 1 crop per eeg_id. There is a discussion about this here.\n",
    "https://www.kaggle.com/competitions/hms-harmful-brain-activity-classification/discussion/467021"
   ]
  },
  {
   "cell_type": "code",
   "execution_count": null,
   "id": "f725b8c4",
   "metadata": {
    "execution": {
     "iopub.status.busy": "2024-02-16T15:02:56.691568Z",
     "iopub.status.idle": "2024-02-16T15:02:56.692544Z",
     "shell.execute_reply": "2024-02-16T15:02:56.692274Z",
     "shell.execute_reply.started": "2024-02-16T15:02:56.692247Z"
    },
    "papermill": {
     "duration": null,
     "end_time": null,
     "exception": null,
     "start_time": null,
     "status": "pending"
    },
    "tags": []
   },
   "outputs": [],
   "source": [
    "preprocess_eeg_data(df, TARGETS, consensus_col='expert_consensus')"
   ]
  },
  {
   "cell_type": "markdown",
   "id": "529f6727",
   "metadata": {
    "papermill": {
     "duration": null,
     "end_time": null,
     "exception": null,
     "start_time": null,
     "status": "pending"
    },
    "tags": []
   },
   "source": [
    "## Create ResNet18 model"
   ]
  },
  {
   "cell_type": "code",
   "execution_count": null,
   "id": "0178cb66",
   "metadata": {
    "execution": {
     "iopub.status.busy": "2024-02-16T15:02:56.694287Z",
     "iopub.status.idle": "2024-02-16T15:02:56.695257Z",
     "shell.execute_reply": "2024-02-16T15:02:56.694962Z",
     "shell.execute_reply.started": "2024-02-16T15:02:56.694938Z"
    },
    "papermill": {
     "duration": null,
     "end_time": null,
     "exception": null,
     "start_time": null,
     "status": "pending"
    },
    "tags": []
   },
   "outputs": [],
   "source": [
    "# Model creation\n",
    "model = torch.hub.load('pytorch/vision:v0.10.0', 'resnet18', pretrained=True) # Can change to 152 or some other version"
   ]
  },
  {
   "cell_type": "code",
   "execution_count": null,
   "id": "97caee10",
   "metadata": {
    "execution": {
     "iopub.status.busy": "2024-02-16T15:02:56.696857Z",
     "iopub.status.idle": "2024-02-16T15:02:56.697287Z",
     "shell.execute_reply": "2024-02-16T15:02:56.697102Z",
     "shell.execute_reply.started": "2024-02-16T15:02:56.697086Z"
    },
    "papermill": {
     "duration": null,
     "end_time": null,
     "exception": null,
     "start_time": null,
     "status": "pending"
    },
    "tags": []
   },
   "outputs": [],
   "source": [
    "def train(net, data_loaders, epochs=100, lr=0.01, device=d2l.try_gpu()):\n",
    "    # Trains the model net with data from the data_loaders['train'] and data_loaders['val'].\n",
    "    net = net.to(device)\n",
    "    \n",
    "    optimizer = torch.optim.Adam(net.parameters(), lr=lr)\n",
    "\n",
    "    animator = d2l.Animator(xlabel='epoch',\n",
    "                            legend=['train loss', 'train acc', 'validation loss', 'validation acc'],\n",
    "                            figsize=(10, 5))\n",
    "\n",
    "    timer = {'train': d2l.Timer(), 'val': d2l.Timer()}\n",
    "\n",
    "    for epoch in range(epochs):\n",
    "        # monitor loss, accuracy, number of samples\n",
    "        metrics = {'train': d2l.Accumulator(3), 'val': d2l.Accumulator(3)}\n",
    "\n",
    "        for phase in ('train', 'val'):\n",
    "            # switch network to train/eval mode\n",
    "            net.train(phase == 'train')\n",
    "\n",
    "            for i, (x, y) in enumerate(data_loaders[phase]):\n",
    "                timer[phase].start()\n",
    "\n",
    "                # move to device\n",
    "                x = x.to(device)\n",
    "                y = y.to(device)\n",
    "\n",
    "                # compute prediction\n",
    "                y_hat = net(x)\n",
    "                \n",
    "                if y_hat.shape[1] == 1:\n",
    "                    # compute binary cross-entropy loss\n",
    "                    loss = torch.nn.BCEWithLogitsLoss()(y_hat[:, 0], y.to(torch.float))\n",
    "                else:\n",
    "                    # compute cross-entropy loss\n",
    "                    loss = torch.nn.CrossEntropyLoss()(y_hat, y)\n",
    "\n",
    "                if phase == 'train':\n",
    "                    # compute gradients and update weights\n",
    "                    optimizer.zero_grad()\n",
    "                    loss.backward()\n",
    "                    optimizer.step()\n",
    "\n",
    "                metrics[phase].add(loss * x.shape[0],\n",
    "                                   accuracy(y_hat, y) * x.shape[0],\n",
    "                                   x.shape[0])\n",
    "\n",
    "                timer[phase].stop()\n",
    "\n",
    "        animator.add(epoch + 1,\n",
    "            (metrics['train'][0] / metrics['train'][2],\n",
    "             metrics['train'][1] / metrics['train'][2],\n",
    "             metrics['val'][0] / metrics['val'][2],\n",
    "             metrics['val'][1] / metrics['val'][2]))\n",
    "\n",
    "    train_loss = metrics['train'][0] / metrics['train'][2]\n",
    "    train_acc  = metrics['train'][1] / metrics['train'][2]\n",
    "    val_loss   = metrics['val'][0] / metrics['val'][2]\n",
    "    val_acc    = metrics['val'][1] / metrics['val'][2]\n",
    "    examples_per_sec = metrics['train'][2] * epochs / timer['train'].sum()\n",
    "    \n",
    "    print(f'train loss {train_loss:.3f}, train acc {train_acc:.3f}, '\n",
    "          f'val loss {val_loss:.3f}, val acc {val_acc:.3f}')\n",
    "    print(f'{examples_per_sec:.1f} examples/sec '\n",
    "          f'on {str(device)}')"
   ]
  }
 ],
 "metadata": {
  "kaggle": {
   "accelerator": "none",
   "dataSources": [
    {
     "databundleVersionId": 7469972,
     "sourceId": 59093,
     "sourceType": "competition"
    },
    {
     "datasetId": 4297749,
     "sourceId": 7392733,
     "sourceType": "datasetVersion"
    },
    {
     "datasetId": 4297782,
     "sourceId": 7392775,
     "sourceType": "datasetVersion"
    },
    {
     "datasetId": 4334995,
     "sourceId": 7447509,
     "sourceType": "datasetVersion"
    },
    {
     "datasetId": 4415285,
     "sourceId": 7585255,
     "sourceType": "datasetVersion"
    },
    {
     "datasetId": 4430326,
     "sourceId": 7637585,
     "sourceType": "datasetVersion"
    }
   ],
   "dockerImageVersionId": 30646,
   "isGpuEnabled": false,
   "isInternetEnabled": true,
   "language": "python",
   "sourceType": "notebook"
  },
  "kernelspec": {
   "display_name": "Python 3",
   "language": "python",
   "name": "python3"
  },
  "language_info": {
   "codemirror_mode": {
    "name": "ipython",
    "version": 3
   },
   "file_extension": ".py",
   "mimetype": "text/x-python",
   "name": "python",
   "nbconvert_exporter": "python",
   "pygments_lexer": "ipython3",
   "version": "3.10.13"
  },
  "papermill": {
   "default_parameters": {},
   "duration": 13.041968,
   "end_time": "2024-02-18T14:23:05.372069",
   "environment_variables": {},
   "exception": true,
   "input_path": "__notebook__.ipynb",
   "output_path": "__notebook__.ipynb",
   "parameters": {},
   "start_time": "2024-02-18T14:22:52.330101",
   "version": "2.5.0"
  }
 },
 "nbformat": 4,
 "nbformat_minor": 5
}
