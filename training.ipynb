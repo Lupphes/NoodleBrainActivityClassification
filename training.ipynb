{
 "cells": [
  {
   "cell_type": "markdown",
   "metadata": {},
   "source": [
    "# Brain Solver Python Training Notebook\n",
    "\n",
    "This notebook utilizes the custom `brain_solver` package for analyzing brain activity data. Our data sources include official datasets from Kaggle competitions and additional datasets for enhanced model training and evaluation.\n",
    "\n",
    "This is the Training notebook.\n",
    "\n",
    "**Authors: Luppo Sloup, Dick Blankvoort, Tygo Francissen (MLiP Group 9)**\n",
    "\n",
    "## Data Sources\n",
    "\n",
    "### Official:\n",
    "\n",
    "- **HMS - Harmful Brain Activity Classification**\n",
    "  - **Source:** [Kaggle Competition](https://www.kaggle.com/competitions/hms-harmful-brain-activity-classification)\n",
    "  - **Description:** This competition focuses on classifying harmful brain activity. It includes a comprehensive dataset for training and testing models.\n",
    "\n",
    "- **Brain-Spectrograms**\n",
    "  - **Source:** [Kaggle Dataset](https://www.kaggle.com/datasets/cdeotte/brain-spectrograms)\n",
    "  - **Description:** The `specs.npy` file contains all the spectrograms from the HMS competition, offering a detailed view of brain activity through visual representations.\n",
    "\n",
    "### Additional:\n",
    "\n",
    "- **Brain-EEG-Spectrograms**\n",
    "  - **Source:** [Kaggle Dataset](https://www.kaggle.com/datasets/cdeotte/brain-eeg-spectrograms)\n",
    "  - **Description:** The `EEG_Spectrograms` folder includes one NumPy file per EEG ID, with each array shaped as (128x256x4), representing (frequency, time, montage chain). This dataset provides a more nuanced understanding of brain activity through EEG spectrograms. They were created based on the raw data.\n",
    "\n",
    "- **hms_efficientnetb0_pt_ckpts**\n",
    "  - **Source:** [Kaggle Dataset](https://www.kaggle.com/datasets/crackle/hms-efficientnetb0-pt-ckpts)\n",
    "  - **Description:** This dataset offers pre-trained checkpoints for EfficientNetB0 models, tailored for the HMS competition. It's intended for use in fine-tuning models on the specific task of harmful brain activity classification.\n",
    "\n",
    "### Overview:\n",
    "\n",
    "In addition to the data sources above, the inputs that are needed for this notebook are shown in \n",
    "\n",
    "<img src=\"overview_training.png\" width=\"250\" />"
   ]
  },
  {
   "cell_type": "code",
   "execution_count": null,
   "metadata": {},
   "outputs": [],
   "source": [
    "# These commands install the packages that are required for the notebook, should only be used when running the notebook on Kaggle\n",
    "!pip install d2l --no-index --find-links=file:///kaggle/input/d2l-package/d2l/\n",
    "!pip install /kaggle/input/brain-solver/brain_solver-1.0.0-py3-none-any.whl"
   ]
  },
  {
   "cell_type": "code",
   "execution_count": null,
   "metadata": {},
   "outputs": [],
   "source": [
    "# Imports for the notebook\n",
    "import os, sys, gc, torch, warnings\n",
    "import numpy as np, pandas as pd, pytorch_lightning as pl\n",
    "from torch.utils.data import DataLoader\n",
    "from transformers.utils import logging\n",
    "from brain_solver import (\n",
    "    Helpers as hp,\n",
    "    BrainModel as br,\n",
    "    EEGDataset,\n",
    "    Config,\n",
    ")\n",
    "\n",
    "# Suppress warnings\n",
    "warnings.filterwarnings(\"ignore\")\n",
    "logging.set_verbosity(logging.CRITICAL)\n",
    "\n",
    "# Setup for CUDA device selection\n",
    "os.environ[\"CUDA_VISIBLE_DEVICES\"] = \"0,1\"\n",
    "device = torch.device(\"cuda\" if torch.cuda.is_available() else \"cpu\")\n",
    "device"
   ]
  },
  {
   "cell_type": "markdown",
   "metadata": {},
   "source": [
    "## Config Class Summary\n",
    "\n",
    "The `Config` class manages configurations for the brain activity classification project. It includes:\n",
    "\n",
    "- **Data and Model Paths**: Centralizes paths for data (e.g., EEG, spectrograms) and model checkpoints.\n",
    "- **Training Parameters**: Configures training details like epochs, batch size, and learning rate.\n",
    "- **Feature Flags**: Toggles for using model settings, wavelets, spectrograms, and reading options.\n",
    "\n",
    "We designed this class for easy adjustments to facilitate model development and experimentation."
   ]
  },
  {
   "cell_type": "code",
   "execution_count": null,
   "metadata": {
    "tags": []
   },
   "outputs": [],
   "source": [
    "# Possibility to set a local path for the data\n",
    "full_path = \"\"\n",
    "config = Config(\n",
    "    full_path,\n",
    "    full_path + \"out/\",\n",
    "    USE_EEG_SPECTROGRAMS=True,\n",
    "    USE_KAGGLE_SPECTROGRAMS=True,\n",
    "    should_read_brain_spectograms=False,\n",
    "    should_read_eeg_spectrogram_files=False,\n",
    "    USE_PRETRAINED_MODEL=False,\n",
    "    FINE_TUNE=False,\n",
    ")\n",
    "\n",
    "# Path to set for Kaggle\n",
    "full_path = \"/kaggle/input/\"\n",
    "config = Config(\n",
    "    full_path,\n",
    "    \"/kaggle/working/\",\n",
    "    USE_EEG_SPECTROGRAMS=True,\n",
    "    USE_KAGGLE_SPECTROGRAMS=True,\n",
    "    should_read_brain_spectograms=False,\n",
    "    should_read_eeg_spectrogram_files=False,\n",
    "    USE_PRETRAINED_MODEL=False,\n",
    "    FINE_TUNE=False,\n",
    ")\n",
    "\n",
    "# Load scoring function\n",
    "sys.path.append(full_path + \"kaggle-kl-div\")\n",
    "from kaggle_kl_div import score"
   ]
  },
  {
   "cell_type": "code",
   "execution_count": null,
   "metadata": {},
   "outputs": [],
   "source": [
    "# Create output folder if it does not exist\n",
    "if not os.path.exists(config.output_path):\n",
    "    os.makedirs(config.output_path)\n",
    "\n",
    "# Initialize random environment\n",
    "pl.seed_everything(config.seed, workers=True)"
   ]
  },
  {
   "cell_type": "code",
   "execution_count": null,
   "metadata": {},
   "outputs": [],
   "source": [
    "# Read the train CSV file\n",
    "train_df: pd.DataFrame = hp.load_csv(config.data_train_csv)\n",
    "\n",
    "if train_df is None:\n",
    "    print(\"Failed to load the CSV file.\")\n",
    "    exit()\n",
    "else:\n",
    "    EEG_IDS = train_df.eeg_id.unique()\n",
    "    TARGETS = train_df.columns[-6:]\n",
    "    TARS = {\"Seizure\": 0, \"LPD\": 1, \"GPD\": 2, \"LRDA\": 3, \"GRDA\": 4, \"Other\": 5}\n",
    "    TARS_INV = {x: y for y, x in TARS.items()}\n",
    "    print(\"Train shape:\", train_df.shape)\n",
    "\n",
    "# Preprocess the train data\n",
    "train_data_preprocessed = hp.preprocess_eeg_data(train_df, TARGETS)\n",
    "train_data_preprocessed.head()"
   ]
  },
  {
   "cell_type": "code",
   "execution_count": null,
   "metadata": {},
   "outputs": [],
   "source": [
    "# Read the Kaggle and EEG spectrograms\n",
    "spectrograms = hp.read_spectrograms(\n",
    "    config.data_spectograms,\n",
    "    config.path_to_brain_spectrograms_npy,\n",
    "    config.should_read_brain_spectograms,\n",
    ")\n",
    "data_eeg_spectrograms = hp.read_eeg_spectrograms(\n",
    "    train_data_preprocessed,\n",
    "    config.path_to_eeg_spectrograms_folder,\n",
    "    config.path_to_eeg_spectrograms_npy,\n",
    "    config.should_read_eeg_spectrogram_files,\n",
    ")\n",
    "print(f\"Length of spectrograms: {spectrograms.__len__()}, Length of all EEGs: {data_eeg_spectrograms.__len__()}\")"
   ]
  },
  {
   "cell_type": "code",
   "execution_count": null,
   "metadata": {},
   "outputs": [],
   "source": [
    "# Plot some example spectograms and remove them afterwards\n",
    "dataset = EEGDataset(train_data_preprocessed, spectrograms, data_eeg_spectrograms, TARGETS)\n",
    "dataloader = DataLoader(dataset, batch_size=32, shuffle=False)\n",
    "hp.plot_spectrograms(dataloader, train_data_preprocessed, ROWS=2, COLS=3, BATCHES=2)\n",
    "del dataset, dataloader, train_df\n",
    "gc.collect()"
   ]
  },
  {
   "cell_type": "code",
   "execution_count": null,
   "metadata": {},
   "outputs": [],
   "source": [
    "# Train the model\n",
    "all_oof, all_true, valid_loaders = br.cross_validate_eeg(\n",
    "    config,\n",
    "    device,\n",
    "    train_data_preprocessed=train_data_preprocessed,\n",
    "    spectrograms=spectrograms,\n",
    "    data_eeg_spectograms=data_eeg_spectrograms,\n",
    "    TARGETS=TARGETS,\n",
    "    n_splits=5,\n",
    "    batch_size_train=32,\n",
    "    batch_size_valid=64,\n",
    "    num_workers=3,\n",
    "    max_epochs_first_stage=5,\n",
    "    max_epochs_second_stage=3,\n",
    ")"
   ]
  },
  {
   "cell_type": "code",
   "execution_count": null,
   "metadata": {},
   "outputs": [],
   "source": [
    "# Validate the model\n",
    "all_oof, all_true = br.validate_model_across_folds(config, device, all_oof, all_true, valid_loaders)"
   ]
  },
  {
   "cell_type": "code",
   "execution_count": null,
   "metadata": {},
   "outputs": [],
   "source": [
    "# Convert the values to data frames\n",
    "oof = pd.DataFrame(all_oof.copy())\n",
    "oof[\"id\"] = np.arange(len(oof))\n",
    "true = pd.DataFrame(all_true.copy())\n",
    "true[\"id\"] = np.arange(len(true))\n",
    "\n",
    "# Calculate the CV score\n",
    "cv = score(solution=true, submission=oof, row_id_column_name=\"id\")\n",
    "print(\"CV Score KL-Div for EfficientNetB0 =\", cv)\n",
    "\n",
    "# Remove the used variables\n",
    "del data_eeg_spectrograms, spectrograms\n",
    "gc.collect()"
   ]
  }
 ],
 "metadata": {
  "kernelspec": {
   "display_name": "venv",
   "language": "python",
   "name": "python3"
  },
  "language_info": {
   "codemirror_mode": {
    "name": "ipython",
    "version": 3
   },
   "file_extension": ".py",
   "mimetype": "text/x-python",
   "name": "python",
   "nbconvert_exporter": "python",
   "pygments_lexer": "ipython3",
   "version": "3.10.11"
  }
 },
 "nbformat": 4,
 "nbformat_minor": 2
}
